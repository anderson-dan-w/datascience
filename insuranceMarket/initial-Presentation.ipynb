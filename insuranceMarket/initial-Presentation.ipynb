{
 "metadata": {
  "name": ""
 },
 "nbformat": 3,
 "nbformat_minor": 0,
 "worksheets": [
  {
   "cells": [
    {
     "cell_type": "markdown",
     "metadata": {},
     "source": [
      "# Results\n",
      "\n",
      "The best indicators of whether or not someone will respond, and (on average) yield a profit that more than covers the current cost of marketing include a handful of factors, ranging over the demographics of the potential customer to the time of year during which we market.\n",
      "\n",
      "  - Students, Retired\n",
      "  - Customers who have responded in the past\n",
      "  - Contacted during Spring and Fall but not Summer (March, April, September, October)"
     ]
    },
    {
     "cell_type": "markdown",
     "metadata": {},
     "source": [
      "###Shortcomings\n",
      "\n",
      "  - Did not consider all indicators when creating this model\n",
      "  - Only investigated a few models"
     ]
    }
   ],
   "metadata": {}
  }
 ]
}