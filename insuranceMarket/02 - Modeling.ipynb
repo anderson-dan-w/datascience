{
 "metadata": {
  "name": ""
 },
 "nbformat": 3,
 "nbformat_minor": 0,
 "worksheets": [
  {
   "cells": [
    {
     "cell_type": "code",
     "collapsed": false,
     "input": [
      "from __future__ import print_function, division\n",
      "import pandas as pd\n",
      "import sklearn\n",
      "\n",
      "from sklearn import metrics\n",
      "from sklearn.svm import SVC\n",
      "from sklearn.ensemble import RandomForestClassifier\n",
      "from sklearn.grid_search import GridSearchCV\n",
      "\n",
      "pd.options.display.max_rows = 11\n",
      "print(\"pandas: {}\".format(pd.__version__))\n",
      "print(\"sklearn: {}\".format(sklearn.__version__))"
     ],
     "language": "python",
     "metadata": {},
     "outputs": [
      {
       "output_type": "stream",
       "stream": "stdout",
       "text": [
        "pandas: 0.18.1\n",
        "sklearn: 0.16.1\n"
       ]
      }
     ],
     "prompt_number": 1
    },
    {
     "cell_type": "code",
     "collapsed": false,
     "input": [
      "df = pd.read_csv(\"numericTraining.csv\", index_col=0)\n",
      "data = df.values\n",
      "data"
     ],
     "language": "python",
     "metadata": {},
     "outputs": [
      {
       "metadata": {},
       "output_type": "pyout",
       "prompt_number": 2,
       "text": [
        "array([[   0.        ,    0.        ,   34.        , ...,    0.        ,\n",
        "           1.        ,    0.        ],\n",
        "       [   0.        ,    0.        ,   31.        , ...,    0.        ,\n",
        "           1.        ,    0.        ],\n",
        "       [   0.        ,    0.        ,   39.95372751, ...,    0.        ,\n",
        "           1.        ,    0.        ],\n",
        "       ..., \n",
        "       [   1.        ,  208.        ,   32.        , ...,    0.        ,\n",
        "           1.        ,    0.        ],\n",
        "       [   1.        ,  129.        ,   39.95372751, ...,    0.        ,\n",
        "           1.        ,    0.        ],\n",
        "       [   1.        ,   33.        ,   85.        , ...,    1.        ,\n",
        "           0.        ,    0.        ]])"
       ]
      }
     ],
     "prompt_number": 2
    },
    {
     "cell_type": "code",
     "collapsed": false,
     "input": [
      "## RandomForest* has:\n",
      "## n_estimators (int)\n",
      "##  max_features (decimal=percentage)\n",
      "##  max_depth (int)\n",
      "grid = dict(\n",
      "    n_estimators = [25*i for i in range(1, 5)],\n",
      "    max_features = [i/4.0 for i in range(1,5)],\n",
      "    max_depth = [3, 5, 10]\n",
      ")\n",
      "\n",
      "model = RandomForestClassifier(n_jobs=-1) ## -1 = parallelize\n",
      "## cv = cross validation; the number of different shufflings to try\n",
      "respond_grid_search = GridSearchCV(model, grid, cv=5, verbose=2)\n",
      "respond_grid_search.fit(data[0:, 2:], data[0:, 0])"
     ],
     "language": "python",
     "metadata": {},
     "outputs": [
      {
       "output_type": "stream",
       "stream": "stdout",
       "text": [
        "Fitting 5 folds for each of 48 candidates, totalling 240 fits\n",
        "[CV] max_features=0.25, n_estimators=25, max_depth=3 .................\n",
        "[CV] ........ max_features=0.25, n_estimators=25, max_depth=3 -   0.8s"
       ]
      },
      {
       "output_type": "stream",
       "stream": "stdout",
       "text": [
        "\n",
        "[CV] max_features=0.25, n_estimators=25, max_depth=3 .................\n",
        "[CV] ........ max_features=0.25, n_estimators=25, max_depth=3 -   0.5s"
       ]
      },
      {
       "output_type": "stream",
       "stream": "stdout",
       "text": [
        "\n",
        "[CV] max_features=0.25, n_estimators=25, max_depth=3 .................\n",
        "[CV] ........ max_features=0.25, n_estimators=25, max_depth=3 -   0.6s"
       ]
      },
      {
       "output_type": "stream",
       "stream": "stdout",
       "text": [
        "\n",
        "[CV] max_features=0.25, n_estimators=25, max_depth=3 .................\n",
        "[CV] ........ max_features=0.25, n_estimators=25, max_depth=3 -   0.5s"
       ]
      },
      {
       "output_type": "stream",
       "stream": "stdout",
       "text": [
        "\n",
        "[CV] max_features=0.25, n_estimators=25, max_depth=3 .................\n",
        "[CV] ........ max_features=0.25, n_estimators=25, max_depth=3 -   0.6s"
       ]
      },
      {
       "output_type": "stream",
       "stream": "stdout",
       "text": [
        "\n",
        "[CV] max_features=0.25, n_estimators=50, max_depth=3 .................\n",
        "[CV] ........ max_features=0.25, n_estimators=50, max_depth=3 -   0.8s"
       ]
      },
      {
       "output_type": "stream",
       "stream": "stdout",
       "text": [
        "\n",
        "[CV] max_features=0.25, n_estimators=50, max_depth=3 .................\n",
        "[CV] ........ max_features=0.25, n_estimators=50, max_depth=3 -   0.9s"
       ]
      },
      {
       "output_type": "stream",
       "stream": "stdout",
       "text": [
        "\n",
        "[CV] max_features=0.25, n_estimators=50, max_depth=3 .................\n",
        "[CV] ........ max_features=0.25, n_estimators=50, max_depth=3 -   0.9s"
       ]
      },
      {
       "output_type": "stream",
       "stream": "stdout",
       "text": [
        "\n",
        "[CV] max_features=0.25, n_estimators=50, max_depth=3 .................\n",
        "[CV] ........ max_features=0.25, n_estimators=50, max_depth=3 -   0.8s"
       ]
      },
      {
       "output_type": "stream",
       "stream": "stdout",
       "text": [
        "\n",
        "[CV] max_features=0.25, n_estimators=50, max_depth=3 .................\n",
        "[CV] ........ max_features=0.25, n_estimators=50, max_depth=3 -   0.8s"
       ]
      },
      {
       "output_type": "stream",
       "stream": "stdout",
       "text": [
        "\n",
        "[CV] max_features=0.25, n_estimators=75, max_depth=3 .................\n",
        "[CV] ........ max_features=0.25, n_estimators=75, max_depth=3 -   1.3s"
       ]
      },
      {
       "output_type": "stream",
       "stream": "stdout",
       "text": [
        "\n",
        "[CV] max_features=0.25, n_estimators=75, max_depth=3 .................\n",
        "[CV] ........ max_features=0.25, n_estimators=75, max_depth=3 -   2.0s"
       ]
      },
      {
       "output_type": "stream",
       "stream": "stdout",
       "text": [
        "\n",
        "[CV] max_features=0.25, n_estimators=75, max_depth=3 .................\n",
        "[CV] ........ max_features=0.25, n_estimators=75, max_depth=3 -   1.7s"
       ]
      },
      {
       "output_type": "stream",
       "stream": "stdout",
       "text": [
        "\n",
        "[CV] max_features=0.25, n_estimators=75, max_depth=3 .................\n",
        "[CV] ........ max_features=0.25, n_estimators=75, max_depth=3 -   1.3s"
       ]
      },
      {
       "output_type": "stream",
       "stream": "stdout",
       "text": [
        "\n",
        "[CV] max_features=0.25, n_estimators=75, max_depth=3 .................\n",
        "[CV] ........ max_features=0.25, n_estimators=75, max_depth=3 -   1.6s"
       ]
      },
      {
       "output_type": "stream",
       "stream": "stdout",
       "text": [
        "\n",
        "[CV] max_features=0.25, n_estimators=100, max_depth=3 ................\n",
        "[CV] ....... max_features=0.25, n_estimators=100, max_depth=3 -   1.7s"
       ]
      },
      {
       "output_type": "stream",
       "stream": "stdout",
       "text": [
        "\n",
        "[CV] max_features=0.25, n_estimators=100, max_depth=3 ................\n",
        "[CV] ....... max_features=0.25, n_estimators=100, max_depth=3 -   1.5s"
       ]
      },
      {
       "output_type": "stream",
       "stream": "stdout",
       "text": [
        "\n",
        "[CV] max_features=0.25, n_estimators=100, max_depth=3 ................\n",
        "[CV] ....... max_features=0.25, n_estimators=100, max_depth=3 -   1.5s"
       ]
      },
      {
       "output_type": "stream",
       "stream": "stdout",
       "text": [
        "\n",
        "[CV] max_features=0.25, n_estimators=100, max_depth=3 ................\n",
        "[CV] ....... max_features=0.25, n_estimators=100, max_depth=3 -   1.5s"
       ]
      },
      {
       "output_type": "stream",
       "stream": "stdout",
       "text": [
        "\n",
        "[CV] max_features=0.25, n_estimators=100, max_depth=3 ................\n",
        "[CV] ....... max_features=0.25, n_estimators=100, max_depth=3 -   1.5s"
       ]
      },
      {
       "output_type": "stream",
       "stream": "stdout",
       "text": [
        "\n",
        "[CV] max_features=0.5, n_estimators=25, max_depth=3 ..................\n",
        "[CV] ......... max_features=0.5, n_estimators=25, max_depth=3 -   0.6s"
       ]
      },
      {
       "output_type": "stream",
       "stream": "stdout",
       "text": [
        "\n",
        "[CV] max_features=0.5, n_estimators=25, max_depth=3 ..................\n",
        "[CV] ......... max_features=0.5, n_estimators=25, max_depth=3 -   0.7s"
       ]
      },
      {
       "output_type": "stream",
       "stream": "stdout",
       "text": [
        "\n",
        "[CV] max_features=0.5, n_estimators=25, max_depth=3 ..................\n",
        "[CV] ......... max_features=0.5, n_estimators=25, max_depth=3 -   0.7s"
       ]
      },
      {
       "output_type": "stream",
       "stream": "stdout",
       "text": [
        "\n",
        "[CV] max_features=0.5, n_estimators=25, max_depth=3 ..................\n",
        "[CV] ......... max_features=0.5, n_estimators=25, max_depth=3 -   0.6s"
       ]
      },
      {
       "output_type": "stream",
       "stream": "stdout",
       "text": [
        "\n",
        "[CV] max_features=0.5, n_estimators=25, max_depth=3 ..................\n",
        "[CV] ......... max_features=0.5, n_estimators=25, max_depth=3 -   0.6s"
       ]
      },
      {
       "output_type": "stream",
       "stream": "stdout",
       "text": [
        "\n",
        "[CV] max_features=0.5, n_estimators=50, max_depth=3 ..................\n",
        "[CV] ......... max_features=0.5, n_estimators=50, max_depth=3 -   1.1s"
       ]
      },
      {
       "output_type": "stream",
       "stream": "stdout",
       "text": [
        "\n",
        "[CV] max_features=0.5, n_estimators=50, max_depth=3 ..................\n",
        "[CV] ......... max_features=0.5, n_estimators=50, max_depth=3 -   0.9s"
       ]
      },
      {
       "output_type": "stream",
       "stream": "stdout",
       "text": [
        "\n",
        "[CV] max_features=0.5, n_estimators=50, max_depth=3 ..................\n",
        "[CV] ......... max_features=0.5, n_estimators=50, max_depth=3 -   1.0s"
       ]
      },
      {
       "output_type": "stream",
       "stream": "stdout",
       "text": [
        "\n",
        "[CV] max_features=0.5, n_estimators=50, max_depth=3 ..................\n",
        "[CV] ......... max_features=0.5, n_estimators=50, max_depth=3 -   0.9s"
       ]
      },
      {
       "output_type": "stream",
       "stream": "stdout",
       "text": [
        "\n",
        "[CV] max_features=0.5, n_estimators=50, max_depth=3 ..................\n",
        "[CV] ......... max_features=0.5, n_estimators=50, max_depth=3 -   1.0s"
       ]
      },
      {
       "output_type": "stream",
       "stream": "stdout",
       "text": [
        "\n",
        "[CV] max_features=0.5, n_estimators=75, max_depth=3 ..................\n",
        "[CV] ......... max_features=0.5, n_estimators=75, max_depth=3 -   1.5s"
       ]
      },
      {
       "output_type": "stream",
       "stream": "stdout",
       "text": [
        "\n",
        "[CV] max_features=0.5, n_estimators=75, max_depth=3 ..................\n",
        "[CV] ......... max_features=0.5, n_estimators=75, max_depth=3 -   1.5s"
       ]
      },
      {
       "output_type": "stream",
       "stream": "stdout",
       "text": [
        "\n",
        "[CV] max_features=0.5, n_estimators=75, max_depth=3 ..................\n",
        "[CV] ......... max_features=0.5, n_estimators=75, max_depth=3 -   1.4s"
       ]
      },
      {
       "output_type": "stream",
       "stream": "stdout",
       "text": [
        "\n",
        "[CV] max_features=0.5, n_estimators=75, max_depth=3 ..................\n",
        "[CV] ......... max_features=0.5, n_estimators=75, max_depth=3 -   1.5s"
       ]
      },
      {
       "output_type": "stream",
       "stream": "stdout",
       "text": [
        "\n",
        "[CV] max_features=0.5, n_estimators=75, max_depth=3 ..................\n",
        "[CV] ......... max_features=0.5, n_estimators=75, max_depth=3 -   1.5s"
       ]
      },
      {
       "output_type": "stream",
       "stream": "stdout",
       "text": [
        "\n",
        "[CV] max_features=0.5, n_estimators=100, max_depth=3 .................\n",
        "[CV] ........ max_features=0.5, n_estimators=100, max_depth=3 -   1.8s"
       ]
      },
      {
       "output_type": "stream",
       "stream": "stdout",
       "text": [
        "\n",
        "[CV] max_features=0.5, n_estimators=100, max_depth=3 .................\n",
        "[CV] ........ max_features=0.5, n_estimators=100, max_depth=3 -   1.8s"
       ]
      },
      {
       "output_type": "stream",
       "stream": "stdout",
       "text": [
        "\n",
        "[CV] max_features=0.5, n_estimators=100, max_depth=3 .................\n",
        "[CV] ........ max_features=0.5, n_estimators=100, max_depth=3 -   1.8s"
       ]
      },
      {
       "output_type": "stream",
       "stream": "stdout",
       "text": [
        "\n",
        "[CV] max_features=0.5, n_estimators=100, max_depth=3 .................\n",
        "[CV] ........ max_features=0.5, n_estimators=100, max_depth=3 -   1.8s"
       ]
      },
      {
       "output_type": "stream",
       "stream": "stdout",
       "text": [
        "\n",
        "[CV] max_features=0.5, n_estimators=100, max_depth=3 .................\n",
        "[CV] ........ max_features=0.5, n_estimators=100, max_depth=3 -   1.8s"
       ]
      },
      {
       "output_type": "stream",
       "stream": "stdout",
       "text": [
        "\n",
        "[CV] max_features=0.75, n_estimators=25, max_depth=3 .................\n",
        "[CV] ........ max_features=0.75, n_estimators=25, max_depth=3 -   0.6s"
       ]
      },
      {
       "output_type": "stream",
       "stream": "stderr",
       "text": [
        "[Parallel(n_jobs=1)]: Done   1 jobs       | elapsed:    0.8s\n",
        "[Parallel(n_jobs=1)]: Done  41 jobs       | elapsed:   48.2s\n"
       ]
      },
      {
       "output_type": "stream",
       "stream": "stdout",
       "text": [
        "\n",
        "[CV] max_features=0.75, n_estimators=25, max_depth=3 .................\n",
        "[CV] ........ max_features=0.75, n_estimators=25, max_depth=3 -   0.6s"
       ]
      },
      {
       "output_type": "stream",
       "stream": "stdout",
       "text": [
        "\n",
        "[CV] max_features=0.75, n_estimators=25, max_depth=3 .................\n",
        "[CV] ........ max_features=0.75, n_estimators=25, max_depth=3 -   0.7s"
       ]
      },
      {
       "output_type": "stream",
       "stream": "stdout",
       "text": [
        "\n",
        "[CV] max_features=0.75, n_estimators=25, max_depth=3 .................\n",
        "[CV] ........ max_features=0.75, n_estimators=25, max_depth=3 -   0.7s"
       ]
      },
      {
       "output_type": "stream",
       "stream": "stdout",
       "text": [
        "\n",
        "[CV] max_features=0.75, n_estimators=25, max_depth=3 .................\n",
        "[CV] ........ max_features=0.75, n_estimators=25, max_depth=3 -   0.7s"
       ]
      },
      {
       "output_type": "stream",
       "stream": "stdout",
       "text": [
        "\n",
        "[CV] max_features=0.75, n_estimators=50, max_depth=3 .................\n",
        "[CV] ........ max_features=0.75, n_estimators=50, max_depth=3 -   1.0s"
       ]
      },
      {
       "output_type": "stream",
       "stream": "stdout",
       "text": [
        "\n",
        "[CV] max_features=0.75, n_estimators=50, max_depth=3 .................\n",
        "[CV] ........ max_features=0.75, n_estimators=50, max_depth=3 -   1.0s"
       ]
      },
      {
       "output_type": "stream",
       "stream": "stdout",
       "text": [
        "\n",
        "[CV] max_features=0.75, n_estimators=50, max_depth=3 .................\n",
        "[CV] ........ max_features=0.75, n_estimators=50, max_depth=3 -   1.0s"
       ]
      },
      {
       "output_type": "stream",
       "stream": "stdout",
       "text": [
        "\n",
        "[CV] max_features=0.75, n_estimators=50, max_depth=3 .................\n",
        "[CV] ........ max_features=0.75, n_estimators=50, max_depth=3 -   1.0s"
       ]
      },
      {
       "output_type": "stream",
       "stream": "stdout",
       "text": [
        "\n",
        "[CV] max_features=0.75, n_estimators=50, max_depth=3 .................\n",
        "[CV] ........ max_features=0.75, n_estimators=50, max_depth=3 -   0.9s"
       ]
      },
      {
       "output_type": "stream",
       "stream": "stdout",
       "text": [
        "\n",
        "[CV] max_features=0.75, n_estimators=75, max_depth=3 .................\n",
        "[CV] ........ max_features=0.75, n_estimators=75, max_depth=3 -   1.6s"
       ]
      },
      {
       "output_type": "stream",
       "stream": "stdout",
       "text": [
        "\n",
        "[CV] max_features=0.75, n_estimators=75, max_depth=3 .................\n",
        "[CV] ........ max_features=0.75, n_estimators=75, max_depth=3 -   1.5s"
       ]
      },
      {
       "output_type": "stream",
       "stream": "stdout",
       "text": [
        "\n",
        "[CV] max_features=0.75, n_estimators=75, max_depth=3 .................\n",
        "[CV] ........ max_features=0.75, n_estimators=75, max_depth=3 -   1.6s"
       ]
      },
      {
       "output_type": "stream",
       "stream": "stdout",
       "text": [
        "\n",
        "[CV] max_features=0.75, n_estimators=75, max_depth=3 .................\n",
        "[CV] ........ max_features=0.75, n_estimators=75, max_depth=3 -   1.5s"
       ]
      },
      {
       "output_type": "stream",
       "stream": "stdout",
       "text": [
        "\n",
        "[CV] max_features=0.75, n_estimators=75, max_depth=3 .................\n",
        "[CV] ........ max_features=0.75, n_estimators=75, max_depth=3 -   1.6s"
       ]
      },
      {
       "output_type": "stream",
       "stream": "stdout",
       "text": [
        "\n",
        "[CV] max_features=0.75, n_estimators=100, max_depth=3 ................\n",
        "[CV] ....... max_features=0.75, n_estimators=100, max_depth=3 -   2.0s"
       ]
      },
      {
       "output_type": "stream",
       "stream": "stdout",
       "text": [
        "\n",
        "[CV] max_features=0.75, n_estimators=100, max_depth=3 ................\n",
        "[CV] ....... max_features=0.75, n_estimators=100, max_depth=3 -   1.9s"
       ]
      },
      {
       "output_type": "stream",
       "stream": "stdout",
       "text": [
        "\n",
        "[CV] max_features=0.75, n_estimators=100, max_depth=3 ................\n",
        "[CV] ....... max_features=0.75, n_estimators=100, max_depth=3 -   2.1s"
       ]
      },
      {
       "output_type": "stream",
       "stream": "stdout",
       "text": [
        "\n",
        "[CV] max_features=0.75, n_estimators=100, max_depth=3 ................\n",
        "[CV] ....... max_features=0.75, n_estimators=100, max_depth=3 -   2.0s"
       ]
      },
      {
       "output_type": "stream",
       "stream": "stdout",
       "text": [
        "\n",
        "[CV] max_features=0.75, n_estimators=100, max_depth=3 ................\n",
        "[CV] ....... max_features=0.75, n_estimators=100, max_depth=3 -   2.0s"
       ]
      },
      {
       "output_type": "stream",
       "stream": "stdout",
       "text": [
        "\n",
        "[CV] max_features=1.0, n_estimators=25, max_depth=3 ..................\n",
        "[CV] ......... max_features=1.0, n_estimators=25, max_depth=3 -   0.6s"
       ]
      },
      {
       "output_type": "stream",
       "stream": "stdout",
       "text": [
        "\n",
        "[CV] max_features=1.0, n_estimators=25, max_depth=3 ..................\n",
        "[CV] ......... max_features=1.0, n_estimators=25, max_depth=3 -   0.7s"
       ]
      },
      {
       "output_type": "stream",
       "stream": "stdout",
       "text": [
        "\n",
        "[CV] max_features=1.0, n_estimators=25, max_depth=3 ..................\n",
        "[CV] ......... max_features=1.0, n_estimators=25, max_depth=3 -   0.7s"
       ]
      },
      {
       "output_type": "stream",
       "stream": "stdout",
       "text": [
        "\n",
        "[CV] max_features=1.0, n_estimators=25, max_depth=3 ..................\n",
        "[CV] ......... max_features=1.0, n_estimators=25, max_depth=3 -   0.9s"
       ]
      },
      {
       "output_type": "stream",
       "stream": "stdout",
       "text": [
        "\n",
        "[CV] max_features=1.0, n_estimators=25, max_depth=3 ..................\n",
        "[CV] ......... max_features=1.0, n_estimators=25, max_depth=3 -   0.7s"
       ]
      },
      {
       "output_type": "stream",
       "stream": "stdout",
       "text": [
        "\n",
        "[CV] max_features=1.0, n_estimators=50, max_depth=3 ..................\n",
        "[CV] ......... max_features=1.0, n_estimators=50, max_depth=3 -   1.0s"
       ]
      },
      {
       "output_type": "stream",
       "stream": "stdout",
       "text": [
        "\n",
        "[CV] max_features=1.0, n_estimators=50, max_depth=3 ..................\n",
        "[CV] ......... max_features=1.0, n_estimators=50, max_depth=3 -   1.0s"
       ]
      },
      {
       "output_type": "stream",
       "stream": "stdout",
       "text": [
        "\n",
        "[CV] max_features=1.0, n_estimators=50, max_depth=3 ..................\n",
        "[CV] ......... max_features=1.0, n_estimators=50, max_depth=3 -   1.1s"
       ]
      },
      {
       "output_type": "stream",
       "stream": "stdout",
       "text": [
        "\n",
        "[CV] max_features=1.0, n_estimators=50, max_depth=3 ..................\n",
        "[CV] ......... max_features=1.0, n_estimators=50, max_depth=3 -   1.0s"
       ]
      },
      {
       "output_type": "stream",
       "stream": "stdout",
       "text": [
        "\n",
        "[CV] max_features=1.0, n_estimators=50, max_depth=3 ..................\n",
        "[CV] ......... max_features=1.0, n_estimators=50, max_depth=3 -   1.1s"
       ]
      },
      {
       "output_type": "stream",
       "stream": "stdout",
       "text": [
        "\n",
        "[CV] max_features=1.0, n_estimators=75, max_depth=3 ..................\n",
        "[CV] ......... max_features=1.0, n_estimators=75, max_depth=3 -   1.6s"
       ]
      },
      {
       "output_type": "stream",
       "stream": "stdout",
       "text": [
        "\n",
        "[CV] max_features=1.0, n_estimators=75, max_depth=3 ..................\n",
        "[CV] ......... max_features=1.0, n_estimators=75, max_depth=3 -   1.6s"
       ]
      },
      {
       "output_type": "stream",
       "stream": "stdout",
       "text": [
        "\n",
        "[CV] max_features=1.0, n_estimators=75, max_depth=3 ..................\n",
        "[CV] ......... max_features=1.0, n_estimators=75, max_depth=3 -   1.6s"
       ]
      },
      {
       "output_type": "stream",
       "stream": "stdout",
       "text": [
        "\n",
        "[CV] max_features=1.0, n_estimators=75, max_depth=3 ..................\n",
        "[CV] ......... max_features=1.0, n_estimators=75, max_depth=3 -   1.6s"
       ]
      },
      {
       "output_type": "stream",
       "stream": "stdout",
       "text": [
        "\n",
        "[CV] max_features=1.0, n_estimators=75, max_depth=3 ..................\n",
        "[CV] ......... max_features=1.0, n_estimators=75, max_depth=3 -   1.6s"
       ]
      },
      {
       "output_type": "stream",
       "stream": "stdout",
       "text": [
        "\n",
        "[CV] max_features=1.0, n_estimators=100, max_depth=3 .................\n",
        "[CV] ........ max_features=1.0, n_estimators=100, max_depth=3 -   2.0s"
       ]
      },
      {
       "output_type": "stream",
       "stream": "stdout",
       "text": [
        "\n",
        "[CV] max_features=1.0, n_estimators=100, max_depth=3 .................\n",
        "[CV] ........ max_features=1.0, n_estimators=100, max_depth=3 -   2.0s"
       ]
      },
      {
       "output_type": "stream",
       "stream": "stdout",
       "text": [
        "\n",
        "[CV] max_features=1.0, n_estimators=100, max_depth=3 .................\n",
        "[CV] ........ max_features=1.0, n_estimators=100, max_depth=3 -   2.1s"
       ]
      },
      {
       "output_type": "stream",
       "stream": "stdout",
       "text": [
        "\n",
        "[CV] max_features=1.0, n_estimators=100, max_depth=3 .................\n",
        "[CV] ........ max_features=1.0, n_estimators=100, max_depth=3 -   2.0s"
       ]
      },
      {
       "output_type": "stream",
       "stream": "stdout",
       "text": [
        "\n",
        "[CV] max_features=1.0, n_estimators=100, max_depth=3 .................\n",
        "[CV] ........ max_features=1.0, n_estimators=100, max_depth=3 -   2.0s"
       ]
      },
      {
       "output_type": "stream",
       "stream": "stdout",
       "text": [
        "\n",
        "[CV] max_features=0.25, n_estimators=25, max_depth=5 .................\n",
        "[CV] ........ max_features=0.25, n_estimators=25, max_depth=5 -   0.5s"
       ]
      },
      {
       "output_type": "stream",
       "stream": "stdout",
       "text": [
        "\n",
        "[CV] max_features=0.25, n_estimators=25, max_depth=5 .................\n",
        "[CV] ........ max_features=0.25, n_estimators=25, max_depth=5 -   0.6s"
       ]
      },
      {
       "output_type": "stream",
       "stream": "stdout",
       "text": [
        "\n",
        "[CV] max_features=0.25, n_estimators=25, max_depth=5 .................\n",
        "[CV] ........ max_features=0.25, n_estimators=25, max_depth=5 -   0.6s"
       ]
      },
      {
       "output_type": "stream",
       "stream": "stdout",
       "text": [
        "\n",
        "[CV] max_features=0.25, n_estimators=25, max_depth=5 .................\n",
        "[CV] ........ max_features=0.25, n_estimators=25, max_depth=5 -   0.6s"
       ]
      },
      {
       "output_type": "stream",
       "stream": "stdout",
       "text": [
        "\n",
        "[CV] max_features=0.25, n_estimators=25, max_depth=5 .................\n",
        "[CV] ........ max_features=0.25, n_estimators=25, max_depth=5 -   0.6s"
       ]
      },
      {
       "output_type": "stream",
       "stream": "stdout",
       "text": [
        "\n",
        "[CV] max_features=0.25, n_estimators=50, max_depth=5 .................\n",
        "[CV] ........ max_features=0.25, n_estimators=50, max_depth=5 -   0.8s"
       ]
      },
      {
       "output_type": "stream",
       "stream": "stdout",
       "text": [
        "\n",
        "[CV] max_features=0.25, n_estimators=50, max_depth=5 .................\n",
        "[CV] ........ max_features=0.25, n_estimators=50, max_depth=5 -   1.1s"
       ]
      },
      {
       "output_type": "stream",
       "stream": "stdout",
       "text": [
        "\n",
        "[CV] max_features=0.25, n_estimators=50, max_depth=5 .................\n",
        "[CV] ........ max_features=0.25, n_estimators=50, max_depth=5 -   0.8s"
       ]
      },
      {
       "output_type": "stream",
       "stream": "stdout",
       "text": [
        "\n",
        "[CV] max_features=0.25, n_estimators=50, max_depth=5 .................\n",
        "[CV] ........ max_features=0.25, n_estimators=50, max_depth=5 -   0.9s"
       ]
      },
      {
       "output_type": "stream",
       "stream": "stdout",
       "text": [
        "\n",
        "[CV] max_features=0.25, n_estimators=50, max_depth=5 .................\n",
        "[CV] ........ max_features=0.25, n_estimators=50, max_depth=5 -   0.9s"
       ]
      },
      {
       "output_type": "stream",
       "stream": "stdout",
       "text": [
        "\n",
        "[CV] max_features=0.25, n_estimators=75, max_depth=5 .................\n",
        "[CV] ........ max_features=0.25, n_estimators=75, max_depth=5 -   1.4s"
       ]
      },
      {
       "output_type": "stream",
       "stream": "stdout",
       "text": [
        "\n",
        "[CV] max_features=0.25, n_estimators=75, max_depth=5 .................\n",
        "[CV] ........ max_features=0.25, n_estimators=75, max_depth=5 -   1.3s"
       ]
      },
      {
       "output_type": "stream",
       "stream": "stdout",
       "text": [
        "\n",
        "[CV] max_features=0.25, n_estimators=75, max_depth=5 .................\n",
        "[CV] ........ max_features=0.25, n_estimators=75, max_depth=5 -   1.3s"
       ]
      },
      {
       "output_type": "stream",
       "stream": "stdout",
       "text": [
        "\n",
        "[CV] max_features=0.25, n_estimators=75, max_depth=5 .................\n",
        "[CV] ........ max_features=0.25, n_estimators=75, max_depth=5 -   1.3s"
       ]
      },
      {
       "output_type": "stream",
       "stream": "stdout",
       "text": [
        "\n",
        "[CV] max_features=0.25, n_estimators=75, max_depth=5 .................\n",
        "[CV] ........ max_features=0.25, n_estimators=75, max_depth=5 -   1.3s"
       ]
      },
      {
       "output_type": "stream",
       "stream": "stdout",
       "text": [
        "\n",
        "[CV] max_features=0.25, n_estimators=100, max_depth=5 ................\n",
        "[CV] ....... max_features=0.25, n_estimators=100, max_depth=5 -   1.8s"
       ]
      },
      {
       "output_type": "stream",
       "stream": "stdout",
       "text": [
        "\n",
        "[CV] max_features=0.25, n_estimators=100, max_depth=5 ................\n",
        "[CV] ....... max_features=0.25, n_estimators=100, max_depth=5 -   1.7s"
       ]
      },
      {
       "output_type": "stream",
       "stream": "stdout",
       "text": [
        "\n",
        "[CV] max_features=0.25, n_estimators=100, max_depth=5 ................\n",
        "[CV] ....... max_features=0.25, n_estimators=100, max_depth=5 -   1.7s"
       ]
      },
      {
       "output_type": "stream",
       "stream": "stdout",
       "text": [
        "\n",
        "[CV] max_features=0.25, n_estimators=100, max_depth=5 ................\n",
        "[CV] ....... max_features=0.25, n_estimators=100, max_depth=5 -   1.7s"
       ]
      },
      {
       "output_type": "stream",
       "stream": "stdout",
       "text": [
        "\n",
        "[CV] max_features=0.25, n_estimators=100, max_depth=5 ................\n",
        "[CV] ....... max_features=0.25, n_estimators=100, max_depth=5 -   1.7s"
       ]
      },
      {
       "output_type": "stream",
       "stream": "stdout",
       "text": [
        "\n",
        "[CV] max_features=0.5, n_estimators=25, max_depth=5 ..................\n",
        "[CV] ......... max_features=0.5, n_estimators=25, max_depth=5 -   0.6s"
       ]
      },
      {
       "output_type": "stream",
       "stream": "stdout",
       "text": [
        "\n",
        "[CV] max_features=0.5, n_estimators=25, max_depth=5 ..................\n",
        "[CV] ......... max_features=0.5, n_estimators=25, max_depth=5 -   0.6s"
       ]
      },
      {
       "output_type": "stream",
       "stream": "stdout",
       "text": [
        "\n",
        "[CV] max_features=0.5, n_estimators=25, max_depth=5 ..................\n",
        "[CV] ......... max_features=0.5, n_estimators=25, max_depth=5 -   0.6s"
       ]
      },
      {
       "output_type": "stream",
       "stream": "stdout",
       "text": [
        "\n",
        "[CV] max_features=0.5, n_estimators=25, max_depth=5 ..................\n",
        "[CV] ......... max_features=0.5, n_estimators=25, max_depth=5 -   0.6s"
       ]
      },
      {
       "output_type": "stream",
       "stream": "stdout",
       "text": [
        "\n",
        "[CV] max_features=0.5, n_estimators=25, max_depth=5 ..................\n",
        "[CV] ......... max_features=0.5, n_estimators=25, max_depth=5 -   0.6s"
       ]
      },
      {
       "output_type": "stream",
       "stream": "stdout",
       "text": [
        "\n",
        "[CV] max_features=0.5, n_estimators=50, max_depth=5 ..................\n",
        "[CV] ......... max_features=0.5, n_estimators=50, max_depth=5 -   1.0s"
       ]
      },
      {
       "output_type": "stream",
       "stream": "stdout",
       "text": [
        "\n",
        "[CV] max_features=0.5, n_estimators=50, max_depth=5 ..................\n",
        "[CV] ......... max_features=0.5, n_estimators=50, max_depth=5 -   1.1s"
       ]
      },
      {
       "output_type": "stream",
       "stream": "stdout",
       "text": [
        "\n",
        "[CV] max_features=0.5, n_estimators=50, max_depth=5 ..................\n",
        "[CV] ......... max_features=0.5, n_estimators=50, max_depth=5 -   1.0s"
       ]
      },
      {
       "output_type": "stream",
       "stream": "stdout",
       "text": [
        "\n",
        "[CV] max_features=0.5, n_estimators=50, max_depth=5 ..................\n",
        "[CV] ......... max_features=0.5, n_estimators=50, max_depth=5 -   1.1s"
       ]
      },
      {
       "output_type": "stream",
       "stream": "stdout",
       "text": [
        "\n",
        "[CV] max_features=0.5, n_estimators=50, max_depth=5 ..................\n",
        "[CV] ......... max_features=0.5, n_estimators=50, max_depth=5 -   1.0s"
       ]
      },
      {
       "output_type": "stream",
       "stream": "stdout",
       "text": [
        "\n",
        "[CV] max_features=0.5, n_estimators=75, max_depth=5 ..................\n",
        "[CV] ......... max_features=0.5, n_estimators=75, max_depth=5 -   1.5s"
       ]
      },
      {
       "output_type": "stream",
       "stream": "stdout",
       "text": [
        "\n",
        "[CV] max_features=0.5, n_estimators=75, max_depth=5 ..................\n",
        "[CV] ......... max_features=0.5, n_estimators=75, max_depth=5 -   1.6s"
       ]
      },
      {
       "output_type": "stream",
       "stream": "stdout",
       "text": [
        "\n",
        "[CV] max_features=0.5, n_estimators=75, max_depth=5 ..................\n",
        "[CV] ......... max_features=0.5, n_estimators=75, max_depth=5 -   1.6s"
       ]
      },
      {
       "output_type": "stream",
       "stream": "stdout",
       "text": [
        "\n",
        "[CV] max_features=0.5, n_estimators=75, max_depth=5 ..................\n",
        "[CV] ......... max_features=0.5, n_estimators=75, max_depth=5 -   1.7s"
       ]
      },
      {
       "output_type": "stream",
       "stream": "stdout",
       "text": [
        "\n",
        "[CV] max_features=0.5, n_estimators=75, max_depth=5 ..................\n",
        "[CV] ......... max_features=0.5, n_estimators=75, max_depth=5 -   1.5s"
       ]
      },
      {
       "output_type": "stream",
       "stream": "stdout",
       "text": [
        "\n",
        "[CV] max_features=0.5, n_estimators=100, max_depth=5 .................\n",
        "[CV] ........ max_features=0.5, n_estimators=100, max_depth=5 -   2.0s"
       ]
      },
      {
       "output_type": "stream",
       "stream": "stdout",
       "text": [
        "\n",
        "[CV] max_features=0.5, n_estimators=100, max_depth=5 .................\n",
        "[CV] ........ max_features=0.5, n_estimators=100, max_depth=5 -   1.9s"
       ]
      },
      {
       "output_type": "stream",
       "stream": "stdout",
       "text": [
        "\n",
        "[CV] max_features=0.5, n_estimators=100, max_depth=5 .................\n",
        "[CV] ........ max_features=0.5, n_estimators=100, max_depth=5 -   1.9s"
       ]
      },
      {
       "output_type": "stream",
       "stream": "stdout",
       "text": [
        "\n",
        "[CV] max_features=0.5, n_estimators=100, max_depth=5 .................\n",
        "[CV] ........ max_features=0.5, n_estimators=100, max_depth=5 -   1.9s"
       ]
      },
      {
       "output_type": "stream",
       "stream": "stdout",
       "text": [
        "\n",
        "[CV] max_features=0.5, n_estimators=100, max_depth=5 .................\n",
        "[CV] ........ max_features=0.5, n_estimators=100, max_depth=5 -   1.9s"
       ]
      },
      {
       "output_type": "stream",
       "stream": "stdout",
       "text": [
        "\n",
        "[CV] max_features=0.75, n_estimators=25, max_depth=5 .................\n",
        "[CV] ........ max_features=0.75, n_estimators=25, max_depth=5 -   0.7s"
       ]
      },
      {
       "output_type": "stream",
       "stream": "stdout",
       "text": [
        "\n",
        "[CV] max_features=0.75, n_estimators=25, max_depth=5 .................\n",
        "[CV] ........ max_features=0.75, n_estimators=25, max_depth=5 -   0.6s"
       ]
      },
      {
       "output_type": "stream",
       "stream": "stdout",
       "text": [
        "\n",
        "[CV] max_features=0.75, n_estimators=25, max_depth=5 .................\n",
        "[CV] ........ max_features=0.75, n_estimators=25, max_depth=5 -   0.6s"
       ]
      },
      {
       "output_type": "stream",
       "stream": "stdout",
       "text": [
        "\n",
        "[CV] max_features=0.75, n_estimators=25, max_depth=5 .................\n",
        "[CV] ........ max_features=0.75, n_estimators=25, max_depth=5 -   0.6s"
       ]
      },
      {
       "output_type": "stream",
       "stream": "stdout",
       "text": [
        "\n",
        "[CV] max_features=0.75, n_estimators=25, max_depth=5 .................\n",
        "[CV] ........ max_features=0.75, n_estimators=25, max_depth=5 -   0.7s"
       ]
      },
      {
       "output_type": "stream",
       "stream": "stdout",
       "text": [
        "\n",
        "[CV] max_features=0.75, n_estimators=50, max_depth=5 .................\n",
        "[CV] ........ max_features=0.75, n_estimators=50, max_depth=5 -   1.1s"
       ]
      },
      {
       "output_type": "stream",
       "stream": "stdout",
       "text": [
        "\n",
        "[CV] max_features=0.75, n_estimators=50, max_depth=5 .................\n",
        "[CV] ........ max_features=0.75, n_estimators=50, max_depth=5 -   1.0s"
       ]
      },
      {
       "output_type": "stream",
       "stream": "stdout",
       "text": [
        "\n",
        "[CV] max_features=0.75, n_estimators=50, max_depth=5 .................\n",
        "[CV] ........ max_features=0.75, n_estimators=50, max_depth=5 -   0.9s"
       ]
      },
      {
       "output_type": "stream",
       "stream": "stdout",
       "text": [
        "\n",
        "[CV] max_features=0.75, n_estimators=50, max_depth=5 .................\n",
        "[CV] ........ max_features=0.75, n_estimators=50, max_depth=5 -   1.0s"
       ]
      },
      {
       "output_type": "stream",
       "stream": "stdout",
       "text": [
        "\n",
        "[CV] max_features=0.75, n_estimators=50, max_depth=5 .................\n",
        "[CV] ........ max_features=0.75, n_estimators=50, max_depth=5 -   1.0s"
       ]
      },
      {
       "output_type": "stream",
       "stream": "stdout",
       "text": [
        "\n",
        "[CV] max_features=0.75, n_estimators=75, max_depth=5 .................\n",
        "[CV] ........ max_features=0.75, n_estimators=75, max_depth=5 -   1.6s"
       ]
      },
      {
       "output_type": "stream",
       "stream": "stdout",
       "text": [
        "\n",
        "[CV] max_features=0.75, n_estimators=75, max_depth=5 .................\n",
        "[CV] ........ max_features=0.75, n_estimators=75, max_depth=5 -   1.7s"
       ]
      },
      {
       "output_type": "stream",
       "stream": "stdout",
       "text": [
        "\n",
        "[CV] max_features=0.75, n_estimators=75, max_depth=5 .................\n",
        "[CV] ........ max_features=0.75, n_estimators=75, max_depth=5 -   1.7s"
       ]
      },
      {
       "output_type": "stream",
       "stream": "stdout",
       "text": [
        "\n",
        "[CV] max_features=0.75, n_estimators=75, max_depth=5 .................\n",
        "[CV] ........ max_features=0.75, n_estimators=75, max_depth=5 -   1.7s"
       ]
      },
      {
       "output_type": "stream",
       "stream": "stdout",
       "text": [
        "\n",
        "[CV] max_features=0.75, n_estimators=75, max_depth=5 .................\n",
        "[CV] ........ max_features=0.75, n_estimators=75, max_depth=5 -   1.6s"
       ]
      },
      {
       "output_type": "stream",
       "stream": "stdout",
       "text": [
        "\n",
        "[CV] max_features=0.75, n_estimators=100, max_depth=5 ................\n",
        "[CV] ....... max_features=0.75, n_estimators=100, max_depth=5 -   2.0s"
       ]
      },
      {
       "output_type": "stream",
       "stream": "stdout",
       "text": [
        "\n",
        "[CV] max_features=0.75, n_estimators=100, max_depth=5 ................\n",
        "[CV] ....... max_features=0.75, n_estimators=100, max_depth=5 -   2.0s"
       ]
      },
      {
       "output_type": "stream",
       "stream": "stdout",
       "text": [
        "\n",
        "[CV] max_features=0.75, n_estimators=100, max_depth=5 ................\n",
        "[CV] ....... max_features=0.75, n_estimators=100, max_depth=5 -   1.9s"
       ]
      },
      {
       "output_type": "stream",
       "stream": "stdout",
       "text": [
        "\n",
        "[CV] max_features=0.75, n_estimators=100, max_depth=5 ................\n",
        "[CV] ....... max_features=0.75, n_estimators=100, max_depth=5 -   2.1s"
       ]
      },
      {
       "output_type": "stream",
       "stream": "stdout",
       "text": [
        "\n",
        "[CV] max_features=0.75, n_estimators=100, max_depth=5 ................\n",
        "[CV] ....... max_features=0.75, n_estimators=100, max_depth=5 -   2.0s"
       ]
      },
      {
       "output_type": "stream",
       "stream": "stdout",
       "text": [
        "\n",
        "[CV] max_features=1.0, n_estimators=25, max_depth=5 ..................\n",
        "[CV] ......... max_features=1.0, n_estimators=25, max_depth=5 -   0.6s"
       ]
      },
      {
       "output_type": "stream",
       "stream": "stdout",
       "text": [
        "\n",
        "[CV] max_features=1.0, n_estimators=25, max_depth=5 ..................\n",
        "[CV] ......... max_features=1.0, n_estimators=25, max_depth=5 -   0.7s"
       ]
      },
      {
       "output_type": "stream",
       "stream": "stdout",
       "text": [
        "\n",
        "[CV] max_features=1.0, n_estimators=25, max_depth=5 ..................\n",
        "[CV] ......... max_features=1.0, n_estimators=25, max_depth=5 -   0.7s"
       ]
      },
      {
       "output_type": "stream",
       "stream": "stdout",
       "text": [
        "\n",
        "[CV] max_features=1.0, n_estimators=25, max_depth=5 ..................\n",
        "[CV] ......... max_features=1.0, n_estimators=25, max_depth=5 -   0.9s"
       ]
      },
      {
       "output_type": "stream",
       "stream": "stdout",
       "text": [
        "\n",
        "[CV] max_features=1.0, n_estimators=25, max_depth=5 ..................\n",
        "[CV] ......... max_features=1.0, n_estimators=25, max_depth=5 -   0.7s"
       ]
      },
      {
       "output_type": "stream",
       "stream": "stdout",
       "text": [
        "\n",
        "[CV] max_features=1.0, n_estimators=50, max_depth=5 ..................\n",
        "[CV] ......... max_features=1.0, n_estimators=50, max_depth=5 -   1.3s"
       ]
      },
      {
       "output_type": "stream",
       "stream": "stdout",
       "text": [
        "\n",
        "[CV] max_features=1.0, n_estimators=50, max_depth=5 ..................\n",
        "[CV] ......... max_features=1.0, n_estimators=50, max_depth=5 -   1.2s"
       ]
      },
      {
       "output_type": "stream",
       "stream": "stdout",
       "text": [
        "\n",
        "[CV] max_features=1.0, n_estimators=50, max_depth=5 ..................\n",
        "[CV] ......... max_features=1.0, n_estimators=50, max_depth=5 -   1.3s"
       ]
      },
      {
       "output_type": "stream",
       "stream": "stdout",
       "text": [
        "\n",
        "[CV] max_features=1.0, n_estimators=50, max_depth=5 ..................\n",
        "[CV] ......... max_features=1.0, n_estimators=50, max_depth=5 -   2.0s"
       ]
      },
      {
       "output_type": "stream",
       "stream": "stdout",
       "text": [
        "\n",
        "[CV] max_features=1.0, n_estimators=50, max_depth=5 ..................\n",
        "[CV] ......... max_features=1.0, n_estimators=50, max_depth=5 -   1.7s"
       ]
      },
      {
       "output_type": "stream",
       "stream": "stdout",
       "text": [
        "\n",
        "[CV] max_features=1.0, n_estimators=75, max_depth=5 ..................\n",
        "[CV] ......... max_features=1.0, n_estimators=75, max_depth=5 -   2.2s"
       ]
      },
      {
       "output_type": "stream",
       "stream": "stdout",
       "text": [
        "\n",
        "[CV] max_features=1.0, n_estimators=75, max_depth=5 ..................\n",
        "[CV] ......... max_features=1.0, n_estimators=75, max_depth=5 -   1.9s"
       ]
      },
      {
       "output_type": "stream",
       "stream": "stdout",
       "text": [
        "\n",
        "[CV] max_features=1.0, n_estimators=75, max_depth=5 ..................\n",
        "[CV] ......... max_features=1.0, n_estimators=75, max_depth=5 -   1.8s"
       ]
      },
      {
       "output_type": "stream",
       "stream": "stdout",
       "text": [
        "\n",
        "[CV] max_features=1.0, n_estimators=75, max_depth=5 ..................\n",
        "[CV] ......... max_features=1.0, n_estimators=75, max_depth=5 -   1.7s"
       ]
      },
      {
       "output_type": "stream",
       "stream": "stdout",
       "text": [
        "\n",
        "[CV] max_features=1.0, n_estimators=75, max_depth=5 ..................\n",
        "[CV] ......... max_features=1.0, n_estimators=75, max_depth=5 -   1.7s"
       ]
      },
      {
       "output_type": "stream",
       "stream": "stdout",
       "text": [
        "\n",
        "[CV] max_features=1.0, n_estimators=100, max_depth=5 .................\n",
        "[CV] ........ max_features=1.0, n_estimators=100, max_depth=5 -   2.2s"
       ]
      },
      {
       "output_type": "stream",
       "stream": "stdout",
       "text": [
        "\n",
        "[CV] max_features=1.0, n_estimators=100, max_depth=5 .................\n",
        "[CV] ........ max_features=1.0, n_estimators=100, max_depth=5 -   2.2s"
       ]
      },
      {
       "output_type": "stream",
       "stream": "stdout",
       "text": [
        "\n",
        "[CV] max_features=1.0, n_estimators=100, max_depth=5 .................\n",
        "[CV] ........ max_features=1.0, n_estimators=100, max_depth=5 -   3.0s"
       ]
      },
      {
       "output_type": "stream",
       "stream": "stdout",
       "text": [
        "\n",
        "[CV] max_features=1.0, n_estimators=100, max_depth=5 .................\n",
        "[CV] ........ max_features=1.0, n_estimators=100, max_depth=5 -   5.8s"
       ]
      },
      {
       "output_type": "stream",
       "stream": "stdout",
       "text": [
        "\n",
        "[CV] max_features=1.0, n_estimators=100, max_depth=5 .................\n",
        "[CV] ........ max_features=1.0, n_estimators=100, max_depth=5 -   4.0s"
       ]
      },
      {
       "output_type": "stream",
       "stream": "stdout",
       "text": [
        "\n",
        "[CV] max_features=0.25, n_estimators=25, max_depth=10 ................\n",
        "[CV] ....... max_features=0.25, n_estimators=25, max_depth=10 -   0.7s"
       ]
      },
      {
       "output_type": "stream",
       "stream": "stdout",
       "text": [
        "\n",
        "[CV] max_features=0.25, n_estimators=25, max_depth=10 ................\n",
        "[CV] ....... max_features=0.25, n_estimators=25, max_depth=10 -   0.7s"
       ]
      },
      {
       "output_type": "stream",
       "stream": "stdout",
       "text": [
        "\n",
        "[CV] max_features=0.25, n_estimators=25, max_depth=10 ................\n",
        "[CV] ....... max_features=0.25, n_estimators=25, max_depth=10 -   0.7s"
       ]
      },
      {
       "output_type": "stream",
       "stream": "stdout",
       "text": [
        "\n",
        "[CV] max_features=0.25, n_estimators=25, max_depth=10 ................\n",
        "[CV] ....... max_features=0.25, n_estimators=25, max_depth=10 -   0.7s"
       ]
      },
      {
       "output_type": "stream",
       "stream": "stdout",
       "text": [
        "\n",
        "[CV] max_features=0.25, n_estimators=25, max_depth=10 ................\n",
        "[CV] ....... max_features=0.25, n_estimators=25, max_depth=10 -   0.6s"
       ]
      },
      {
       "output_type": "stream",
       "stream": "stdout",
       "text": [
        "\n",
        "[CV] max_features=0.25, n_estimators=50, max_depth=10 ................\n",
        "[CV] ....... max_features=0.25, n_estimators=50, max_depth=10 -   1.1s"
       ]
      },
      {
       "output_type": "stream",
       "stream": "stdout",
       "text": [
        "\n",
        "[CV] max_features=0.25, n_estimators=50, max_depth=10 ................\n",
        "[CV] ....... max_features=0.25, n_estimators=50, max_depth=10 -   1.1s"
       ]
      },
      {
       "output_type": "stream",
       "stream": "stdout",
       "text": [
        "\n",
        "[CV] max_features=0.25, n_estimators=50, max_depth=10 ................\n",
        "[CV] ....... max_features=0.25, n_estimators=50, max_depth=10 -   1.4s"
       ]
      },
      {
       "output_type": "stream",
       "stream": "stdout",
       "text": [
        "\n",
        "[CV] max_features=0.25, n_estimators=50, max_depth=10 ................\n",
        "[CV] ....... max_features=0.25, n_estimators=50, max_depth=10 -   1.2s"
       ]
      },
      {
       "output_type": "stream",
       "stream": "stdout",
       "text": [
        "\n",
        "[CV] max_features=0.25, n_estimators=50, max_depth=10 ................\n",
        "[CV] ....... max_features=0.25, n_estimators=50, max_depth=10 -   1.4s"
       ]
      },
      {
       "output_type": "stream",
       "stream": "stdout",
       "text": [
        "\n",
        "[CV] max_features=0.25, n_estimators=75, max_depth=10 ................\n",
        "[CV] ....... max_features=0.25, n_estimators=75, max_depth=10 -   2.0s"
       ]
      },
      {
       "output_type": "stream",
       "stream": "stdout",
       "text": [
        "\n",
        "[CV] max_features=0.25, n_estimators=75, max_depth=10 ................\n",
        "[CV] ....... max_features=0.25, n_estimators=75, max_depth=10 -   1.9s"
       ]
      },
      {
       "output_type": "stream",
       "stream": "stdout",
       "text": [
        "\n",
        "[CV] max_features=0.25, n_estimators=75, max_depth=10 ................\n",
        "[CV] ....... max_features=0.25, n_estimators=75, max_depth=10 -   4.0s"
       ]
      },
      {
       "output_type": "stream",
       "stream": "stdout",
       "text": [
        "\n",
        "[CV] max_features=0.25, n_estimators=75, max_depth=10 ................\n",
        "[CV] ....... max_features=0.25, n_estimators=75, max_depth=10 -   2.9s"
       ]
      },
      {
       "output_type": "stream",
       "stream": "stdout",
       "text": [
        "\n",
        "[CV] max_features=0.25, n_estimators=75, max_depth=10 ................\n",
        "[CV] ....... max_features=0.25, n_estimators=75, max_depth=10 -   1.6s"
       ]
      },
      {
       "output_type": "stream",
       "stream": "stdout",
       "text": [
        "\n",
        "[CV] max_features=0.25, n_estimators=100, max_depth=10 ...............\n",
        "[CV] ...... max_features=0.25, n_estimators=100, max_depth=10 -   2.3s"
       ]
      },
      {
       "output_type": "stream",
       "stream": "stdout",
       "text": [
        "\n",
        "[CV] max_features=0.25, n_estimators=100, max_depth=10 ...............\n",
        "[CV] ...... max_features=0.25, n_estimators=100, max_depth=10 -   2.0s"
       ]
      },
      {
       "output_type": "stream",
       "stream": "stdout",
       "text": [
        "\n",
        "[CV] max_features=0.25, n_estimators=100, max_depth=10 ...............\n",
        "[CV] ...... max_features=0.25, n_estimators=100, max_depth=10 -   2.0s"
       ]
      },
      {
       "output_type": "stream",
       "stream": "stdout",
       "text": [
        "\n",
        "[CV] max_features=0.25, n_estimators=100, max_depth=10 ...............\n",
        "[CV] ...... max_features=0.25, n_estimators=100, max_depth=10 -   3.0s"
       ]
      },
      {
       "output_type": "stream",
       "stream": "stdout",
       "text": [
        "\n",
        "[CV] max_features=0.25, n_estimators=100, max_depth=10 ...............\n",
        "[CV] ...... max_features=0.25, n_estimators=100, max_depth=10 -   2.0s"
       ]
      },
      {
       "output_type": "stream",
       "stream": "stdout",
       "text": [
        "\n",
        "[CV] max_features=0.5, n_estimators=25, max_depth=10 .................\n",
        "[CV] ........ max_features=0.5, n_estimators=25, max_depth=10 -   0.7s"
       ]
      },
      {
       "output_type": "stream",
       "stream": "stdout",
       "text": [
        "\n",
        "[CV] max_features=0.5, n_estimators=25, max_depth=10 .................\n",
        "[CV] ........ max_features=0.5, n_estimators=25, max_depth=10 -   1.5s"
       ]
      },
      {
       "output_type": "stream",
       "stream": "stdout",
       "text": [
        "\n",
        "[CV] max_features=0.5, n_estimators=25, max_depth=10 .................\n",
        "[CV] ........ max_features=0.5, n_estimators=25, max_depth=10 -   0.7s"
       ]
      },
      {
       "output_type": "stream",
       "stream": "stdout",
       "text": [
        "\n",
        "[CV] max_features=0.5, n_estimators=25, max_depth=10 .................\n",
        "[CV] ........ max_features=0.5, n_estimators=25, max_depth=10 -   0.7s"
       ]
      },
      {
       "output_type": "stream",
       "stream": "stdout",
       "text": [
        "\n",
        "[CV] max_features=0.5, n_estimators=25, max_depth=10 .................\n",
        "[CV] ........ max_features=0.5, n_estimators=25, max_depth=10 -   0.7s"
       ]
      },
      {
       "output_type": "stream",
       "stream": "stdout",
       "text": [
        "\n",
        "[CV] max_features=0.5, n_estimators=50, max_depth=10 .................\n",
        "[CV] ........ max_features=0.5, n_estimators=50, max_depth=10 -   1.3s"
       ]
      },
      {
       "output_type": "stream",
       "stream": "stdout",
       "text": [
        "\n",
        "[CV] max_features=0.5, n_estimators=50, max_depth=10 .................\n",
        "[CV] ........ max_features=0.5, n_estimators=50, max_depth=10 -   1.2s"
       ]
      },
      {
       "output_type": "stream",
       "stream": "stdout",
       "text": [
        "\n",
        "[CV] max_features=0.5, n_estimators=50, max_depth=10 .................\n",
        "[CV] ........ max_features=0.5, n_estimators=50, max_depth=10 -   1.1s"
       ]
      },
      {
       "output_type": "stream",
       "stream": "stdout",
       "text": [
        "\n",
        "[CV] max_features=0.5, n_estimators=50, max_depth=10 .................\n",
        "[CV] ........ max_features=0.5, n_estimators=50, max_depth=10 -   1.3s"
       ]
      },
      {
       "output_type": "stream",
       "stream": "stdout",
       "text": [
        "\n",
        "[CV] max_features=0.5, n_estimators=50, max_depth=10 .................\n",
        "[CV] ........ max_features=0.5, n_estimators=50, max_depth=10 -   1.1s"
       ]
      },
      {
       "output_type": "stream",
       "stream": "stdout",
       "text": [
        "\n",
        "[CV] max_features=0.5, n_estimators=75, max_depth=10 .................\n",
        "[CV] ........ max_features=0.5, n_estimators=75, max_depth=10 -   1.9s"
       ]
      },
      {
       "output_type": "stream",
       "stream": "stdout",
       "text": [
        "\n",
        "[CV] max_features=0.5, n_estimators=75, max_depth=10 .................\n",
        "[CV] ........ max_features=0.5, n_estimators=75, max_depth=10 -   1.9s"
       ]
      },
      {
       "output_type": "stream",
       "stream": "stdout",
       "text": [
        "\n",
        "[CV] max_features=0.5, n_estimators=75, max_depth=10 .................\n",
        "[CV] ........ max_features=0.5, n_estimators=75, max_depth=10 -   1.6s"
       ]
      },
      {
       "output_type": "stream",
       "stream": "stdout",
       "text": [
        "\n",
        "[CV] max_features=0.5, n_estimators=75, max_depth=10 .................\n",
        "[CV] ........ max_features=0.5, n_estimators=75, max_depth=10 -   2.4s"
       ]
      },
      {
       "output_type": "stream",
       "stream": "stdout",
       "text": [
        "\n",
        "[CV] max_features=0.5, n_estimators=75, max_depth=10 .................\n",
        "[CV] ........ max_features=0.5, n_estimators=75, max_depth=10 -   2.1s"
       ]
      },
      {
       "output_type": "stream",
       "stream": "stdout",
       "text": [
        "\n",
        "[CV] max_features=0.5, n_estimators=100, max_depth=10 ................\n",
        "[CV] ....... max_features=0.5, n_estimators=100, max_depth=10 -   2.2s"
       ]
      },
      {
       "output_type": "stream",
       "stream": "stdout",
       "text": [
        "\n",
        "[CV] max_features=0.5, n_estimators=100, max_depth=10 ................\n",
        "[CV] ....... max_features=0.5, n_estimators=100, max_depth=10 -   2.0s"
       ]
      },
      {
       "output_type": "stream",
       "stream": "stdout",
       "text": [
        "\n",
        "[CV] max_features=0.5, n_estimators=100, max_depth=10 ................\n",
        "[CV] ....... max_features=0.5, n_estimators=100, max_depth=10 -   2.2s"
       ]
      },
      {
       "output_type": "stream",
       "stream": "stdout",
       "text": [
        "\n",
        "[CV] max_features=0.5, n_estimators=100, max_depth=10 ................\n",
        "[CV] ....... max_features=0.5, n_estimators=100, max_depth=10 -   2.2s"
       ]
      },
      {
       "output_type": "stream",
       "stream": "stdout",
       "text": [
        "\n",
        "[CV] max_features=0.5, n_estimators=100, max_depth=10 ................\n",
        "[CV] ....... max_features=0.5, n_estimators=100, max_depth=10 -   2.1s"
       ]
      },
      {
       "output_type": "stream",
       "stream": "stdout",
       "text": [
        "\n",
        "[CV] max_features=0.75, n_estimators=25, max_depth=10 ................\n",
        "[CV] ....... max_features=0.75, n_estimators=25, max_depth=10 -   0.8s"
       ]
      },
      {
       "output_type": "stream",
       "stream": "stdout",
       "text": [
        "\n",
        "[CV] max_features=0.75, n_estimators=25, max_depth=10 ................\n",
        "[CV] ....... max_features=0.75, n_estimators=25, max_depth=10 -   0.9s"
       ]
      },
      {
       "output_type": "stream",
       "stream": "stdout",
       "text": [
        "\n",
        "[CV] max_features=0.75, n_estimators=25, max_depth=10 ................\n",
        "[CV] ....... max_features=0.75, n_estimators=25, max_depth=10 -   0.8s"
       ]
      },
      {
       "output_type": "stream",
       "stream": "stdout",
       "text": [
        "\n",
        "[CV] max_features=0.75, n_estimators=25, max_depth=10 ................\n",
        "[CV] ....... max_features=0.75, n_estimators=25, max_depth=10 -   0.9s"
       ]
      },
      {
       "output_type": "stream",
       "stream": "stdout",
       "text": [
        "\n",
        "[CV] max_features=0.75, n_estimators=25, max_depth=10 ................\n",
        "[CV] ....... max_features=0.75, n_estimators=25, max_depth=10 -   0.8s"
       ]
      },
      {
       "output_type": "stream",
       "stream": "stdout",
       "text": [
        "\n",
        "[CV] max_features=0.75, n_estimators=50, max_depth=10 ................\n",
        "[CV] ....... max_features=0.75, n_estimators=50, max_depth=10 -   1.2s"
       ]
      },
      {
       "output_type": "stream",
       "stream": "stdout",
       "text": [
        "\n",
        "[CV] max_features=0.75, n_estimators=50, max_depth=10 ................\n",
        "[CV] ....... max_features=0.75, n_estimators=50, max_depth=10 -   1.2s"
       ]
      },
      {
       "output_type": "stream",
       "stream": "stdout",
       "text": [
        "\n",
        "[CV] max_features=0.75, n_estimators=50, max_depth=10 ................\n",
        "[CV] ....... max_features=0.75, n_estimators=50, max_depth=10 -   1.1s"
       ]
      },
      {
       "output_type": "stream",
       "stream": "stdout",
       "text": [
        "\n",
        "[CV] max_features=0.75, n_estimators=50, max_depth=10 ................\n",
        "[CV] ....... max_features=0.75, n_estimators=50, max_depth=10 -   1.2s"
       ]
      },
      {
       "output_type": "stream",
       "stream": "stdout",
       "text": [
        "\n",
        "[CV] max_features=0.75, n_estimators=50, max_depth=10 ................\n",
        "[CV] ....... max_features=0.75, n_estimators=50, max_depth=10 -   1.2s"
       ]
      },
      {
       "output_type": "stream",
       "stream": "stdout",
       "text": [
        "\n",
        "[CV] max_features=0.75, n_estimators=75, max_depth=10 ................\n",
        "[CV] ....... max_features=0.75, n_estimators=75, max_depth=10 -   1.9s"
       ]
      },
      {
       "output_type": "stream",
       "stream": "stdout",
       "text": [
        "\n",
        "[CV] max_features=0.75, n_estimators=75, max_depth=10 ................\n",
        "[CV] ....... max_features=0.75, n_estimators=75, max_depth=10 -   1.8s"
       ]
      },
      {
       "output_type": "stream",
       "stream": "stdout",
       "text": [
        "\n",
        "[CV] max_features=0.75, n_estimators=75, max_depth=10 ................\n",
        "[CV] ....... max_features=0.75, n_estimators=75, max_depth=10 -   1.8s"
       ]
      },
      {
       "output_type": "stream",
       "stream": "stdout",
       "text": [
        "\n",
        "[CV] max_features=0.75, n_estimators=75, max_depth=10 ................\n",
        "[CV] ....... max_features=0.75, n_estimators=75, max_depth=10 -   1.8s"
       ]
      },
      {
       "output_type": "stream",
       "stream": "stdout",
       "text": [
        "\n",
        "[CV] max_features=0.75, n_estimators=75, max_depth=10 ................\n",
        "[CV] ....... max_features=0.75, n_estimators=75, max_depth=10 -   1.8s"
       ]
      },
      {
       "output_type": "stream",
       "stream": "stdout",
       "text": [
        "\n",
        "[CV] max_features=0.75, n_estimators=100, max_depth=10 ...............\n",
        "[CV] ...... max_features=0.75, n_estimators=100, max_depth=10 -   2.2s"
       ]
      },
      {
       "output_type": "stream",
       "stream": "stdout",
       "text": [
        "\n",
        "[CV] max_features=0.75, n_estimators=100, max_depth=10 ...............\n",
        "[CV] ...... max_features=0.75, n_estimators=100, max_depth=10 -   2.3s"
       ]
      },
      {
       "output_type": "stream",
       "stream": "stdout",
       "text": [
        "\n",
        "[CV] max_features=0.75, n_estimators=100, max_depth=10 ...............\n",
        "[CV] ...... max_features=0.75, n_estimators=100, max_depth=10 -   2.4s"
       ]
      },
      {
       "output_type": "stream",
       "stream": "stdout",
       "text": [
        "\n",
        "[CV] max_features=0.75, n_estimators=100, max_depth=10 ...............\n",
        "[CV] ...... max_features=0.75, n_estimators=100, max_depth=10 -   2.2s"
       ]
      },
      {
       "output_type": "stream",
       "stream": "stdout",
       "text": [
        "\n",
        "[CV] max_features=0.75, n_estimators=100, max_depth=10 ...............\n",
        "[CV] ...... max_features=0.75, n_estimators=100, max_depth=10 -   2.2s"
       ]
      },
      {
       "output_type": "stream",
       "stream": "stdout",
       "text": [
        "\n",
        "[CV] max_features=1.0, n_estimators=25, max_depth=10 .................\n",
        "[CV] ........ max_features=1.0, n_estimators=25, max_depth=10 -   0.8s"
       ]
      },
      {
       "output_type": "stream",
       "stream": "stdout",
       "text": [
        "\n",
        "[CV] max_features=1.0, n_estimators=25, max_depth=10 .................\n",
        "[CV] ........ max_features=1.0, n_estimators=25, max_depth=10 -   0.8s"
       ]
      },
      {
       "output_type": "stream",
       "stream": "stdout",
       "text": [
        "\n",
        "[CV] max_features=1.0, n_estimators=25, max_depth=10 .................\n",
        "[CV] ........ max_features=1.0, n_estimators=25, max_depth=10 -   0.8s"
       ]
      },
      {
       "output_type": "stream",
       "stream": "stdout",
       "text": [
        "\n",
        "[CV] max_features=1.0, n_estimators=25, max_depth=10 .................\n",
        "[CV] ........ max_features=1.0, n_estimators=25, max_depth=10 -   0.9s"
       ]
      },
      {
       "output_type": "stream",
       "stream": "stdout",
       "text": [
        "\n",
        "[CV] max_features=1.0, n_estimators=25, max_depth=10 .................\n",
        "[CV] ........ max_features=1.0, n_estimators=25, max_depth=10 -   0.8s"
       ]
      },
      {
       "output_type": "stream",
       "stream": "stdout",
       "text": [
        "\n",
        "[CV] max_features=1.0, n_estimators=50, max_depth=10 .................\n",
        "[CV] ........ max_features=1.0, n_estimators=50, max_depth=10 -   1.2s"
       ]
      },
      {
       "output_type": "stream",
       "stream": "stdout",
       "text": [
        "\n",
        "[CV] max_features=1.0, n_estimators=50, max_depth=10 .................\n",
        "[CV] ........ max_features=1.0, n_estimators=50, max_depth=10 -   1.2s"
       ]
      },
      {
       "output_type": "stream",
       "stream": "stdout",
       "text": [
        "\n",
        "[CV] max_features=1.0, n_estimators=50, max_depth=10 .................\n",
        "[CV] ........ max_features=1.0, n_estimators=50, max_depth=10 -   1.2s"
       ]
      },
      {
       "output_type": "stream",
       "stream": "stdout",
       "text": [
        "\n",
        "[CV] max_features=1.0, n_estimators=50, max_depth=10 .................\n",
        "[CV] ........ max_features=1.0, n_estimators=50, max_depth=10 -   1.2s"
       ]
      },
      {
       "output_type": "stream",
       "stream": "stdout",
       "text": [
        "\n",
        "[CV] max_features=1.0, n_estimators=50, max_depth=10 .................\n",
        "[CV] ........ max_features=1.0, n_estimators=50, max_depth=10 -   1.2s"
       ]
      },
      {
       "output_type": "stream",
       "stream": "stdout",
       "text": [
        "\n",
        "[CV] max_features=1.0, n_estimators=75, max_depth=10 .................\n",
        "[CV] ........ max_features=1.0, n_estimators=75, max_depth=10 -   1.9s"
       ]
      },
      {
       "output_type": "stream",
       "stream": "stdout",
       "text": [
        "\n",
        "[CV] max_features=1.0, n_estimators=75, max_depth=10 .................\n",
        "[CV] ........ max_features=1.0, n_estimators=75, max_depth=10 -   2.0s"
       ]
      },
      {
       "output_type": "stream",
       "stream": "stdout",
       "text": [
        "\n",
        "[CV] max_features=1.0, n_estimators=75, max_depth=10 .................\n",
        "[CV] ........ max_features=1.0, n_estimators=75, max_depth=10 -   1.8s"
       ]
      },
      {
       "output_type": "stream",
       "stream": "stdout",
       "text": [
        "\n",
        "[CV] max_features=1.0, n_estimators=75, max_depth=10 .................\n",
        "[CV] ........ max_features=1.0, n_estimators=75, max_depth=10 -   2.2s"
       ]
      },
      {
       "output_type": "stream",
       "stream": "stdout",
       "text": [
        "\n",
        "[CV] max_features=1.0, n_estimators=75, max_depth=10 .................\n",
        "[CV] ........ max_features=1.0, n_estimators=75, max_depth=10 -   4.7s"
       ]
      },
      {
       "output_type": "stream",
       "stream": "stdout",
       "text": [
        "\n",
        "[CV] max_features=1.0, n_estimators=100, max_depth=10 ................\n",
        "[CV] ....... max_features=1.0, n_estimators=100, max_depth=10 -   2.5s"
       ]
      },
      {
       "output_type": "stream",
       "stream": "stdout",
       "text": [
        "\n",
        "[CV] max_features=1.0, n_estimators=100, max_depth=10 ................\n",
        "[CV] ....... max_features=1.0, n_estimators=100, max_depth=10 -   2.2s"
       ]
      },
      {
       "output_type": "stream",
       "stream": "stdout",
       "text": [
        "\n",
        "[CV] max_features=1.0, n_estimators=100, max_depth=10 ................\n",
        "[CV] ....... max_features=1.0, n_estimators=100, max_depth=10 -   2.4s"
       ]
      },
      {
       "output_type": "stream",
       "stream": "stdout",
       "text": [
        "\n",
        "[CV] max_features=1.0, n_estimators=100, max_depth=10 ................\n",
        "[CV] ....... max_features=1.0, n_estimators=100, max_depth=10 -   2.8s"
       ]
      },
      {
       "output_type": "stream",
       "stream": "stdout",
       "text": [
        "\n",
        "[CV] max_features=1.0, n_estimators=100, max_depth=10 ................\n",
        "[CV] ....... max_features=1.0, n_estimators=100, max_depth=10 -   3.4s"
       ]
      },
      {
       "output_type": "stream",
       "stream": "stderr",
       "text": [
        "[Parallel(n_jobs=1)]: Done 162 jobs       | elapsed:  3.6min\n",
        "[Parallel(n_jobs=1)]: Done 240 out of 240 | elapsed:  5.8min finished\n"
       ]
      },
      {
       "output_type": "stream",
       "stream": "stdout",
       "text": [
        "\n"
       ]
      },
      {
       "metadata": {},
       "output_type": "pyout",
       "prompt_number": 3,
       "text": [
        "GridSearchCV(cv=5, error_score='raise',\n",
        "       estimator=RandomForestClassifier(bootstrap=True, class_weight=None, criterion='gini',\n",
        "            max_depth=None, max_features='auto', max_leaf_nodes=None,\n",
        "            min_samples_leaf=1, min_samples_split=2,\n",
        "            min_weight_fraction_leaf=0.0, n_estimators=10, n_jobs=-1,\n",
        "            oob_score=False, random_state=None, verbose=0,\n",
        "            warm_start=False),\n",
        "       fit_params={}, iid=True, loss_func=None, n_jobs=1,\n",
        "       param_grid={'max_features': [0.25, 0.5, 0.75, 1.0], 'n_estimators': [25, 50, 75, 100], 'max_depth': [3, 5, 10]},\n",
        "       pre_dispatch='2*n_jobs', refit=True, score_func=None, scoring=None,\n",
        "       verbose=2)"
       ]
      }
     ],
     "prompt_number": 3
    },
    {
     "cell_type": "code",
     "collapsed": false,
     "input": [
      "## mf=.25, ne=50, md=3\n",
      "print(respond_grid_search.best_score_, respond_grid_search.best_params_)\n",
      "respond_model = RandomForestClassifier(**respond_grid_search.best_params_)\n",
      "respond_model.fit(data[0:, 2:], data[0:, 0])"
     ],
     "language": "python",
     "metadata": {},
     "outputs": [
      {
       "output_type": "stream",
       "stream": "stdout",
       "text": [
        "0.899975722263 {'max_features': 0.25, 'n_estimators': 50, 'max_depth': 3}\n"
       ]
      },
      {
       "metadata": {},
       "output_type": "pyout",
       "prompt_number": 8,
       "text": [
        "RandomForestClassifier(bootstrap=True, class_weight=None, criterion='gini',\n",
        "            max_depth=3, max_features=0.25, max_leaf_nodes=None,\n",
        "            min_samples_leaf=1, min_samples_split=2,\n",
        "            min_weight_fraction_leaf=0.0, n_estimators=50, n_jobs=1,\n",
        "            oob_score=False, random_state=None, verbose=0,\n",
        "            warm_start=False)"
       ]
      }
     ],
     "prompt_number": 8
    },
    {
     "cell_type": "code",
     "collapsed": false,
     "input": [
      "from sklearn.ensemble import RandomForestRegressor\n",
      "## RandomForest* has:\n",
      "## n_estimators (int)\n",
      "##  max_features (decimal=percentage)\n",
      "##  max_depth (int)\n",
      "grid = dict(\n",
      "    n_estimators = [25*i for i in range(1, 5)],\n",
      "    max_features = [i/4.0 for i in range(1,5)],\n",
      "    max_depth = [3, 5, 10]\n",
      ")\n",
      "\n",
      "model = RandomForestRegressor(n_jobs=-1) ## -1 = parallelize\n",
      "## cv = cross validation; the number of different shufflings to try\n",
      "profit_grid_search = GridSearchCV(model, grid, cv=5, verbose=2)\n",
      "profit_grid_search.fit(data[0:, 2:], data[0:, 1])"
     ],
     "language": "python",
     "metadata": {},
     "outputs": [
      {
       "output_type": "stream",
       "stream": "stdout",
       "text": [
        "Fitting 5 folds for each of 48 candidates, totalling 240 fits\n",
        "[CV] max_features=0.25, n_estimators=25, max_depth=3 .................\n",
        "[CV] ........ max_features=0.25, n_estimators=25, max_depth=3 -   0.9s"
       ]
      },
      {
       "output_type": "stream",
       "stream": "stdout",
       "text": [
        "\n",
        "[CV] max_features=0.25, n_estimators=25, max_depth=3 .................\n",
        "[CV] ........ max_features=0.25, n_estimators=25, max_depth=3 -   0.7s"
       ]
      },
      {
       "output_type": "stream",
       "stream": "stdout",
       "text": [
        "\n",
        "[CV] max_features=0.25, n_estimators=25, max_depth=3 .................\n",
        "[CV] ........ max_features=0.25, n_estimators=25, max_depth=3 -   0.6s"
       ]
      },
      {
       "output_type": "stream",
       "stream": "stdout",
       "text": [
        "\n",
        "[CV] max_features=0.25, n_estimators=25, max_depth=3 .................\n",
        "[CV] ........ max_features=0.25, n_estimators=25, max_depth=3 -   0.7s"
       ]
      },
      {
       "output_type": "stream",
       "stream": "stdout",
       "text": [
        "\n",
        "[CV] max_features=0.25, n_estimators=25, max_depth=3 .................\n",
        "[CV] ........ max_features=0.25, n_estimators=25, max_depth=3 -   0.3s"
       ]
      },
      {
       "output_type": "stream",
       "stream": "stdout",
       "text": [
        "\n",
        "[CV] max_features=0.25, n_estimators=50, max_depth=3 .................\n",
        "[CV] ........ max_features=0.25, n_estimators=50, max_depth=3 -   1.0s"
       ]
      },
      {
       "output_type": "stream",
       "stream": "stdout",
       "text": [
        "\n",
        "[CV] max_features=0.25, n_estimators=50, max_depth=3 .................\n",
        "[CV] ........ max_features=0.25, n_estimators=50, max_depth=3 -   1.0s"
       ]
      },
      {
       "output_type": "stream",
       "stream": "stdout",
       "text": [
        "\n",
        "[CV] max_features=0.25, n_estimators=50, max_depth=3 .................\n",
        "[CV] ........ max_features=0.25, n_estimators=50, max_depth=3 -   0.8s"
       ]
      },
      {
       "output_type": "stream",
       "stream": "stdout",
       "text": [
        "\n",
        "[CV] max_features=0.25, n_estimators=50, max_depth=3 .................\n",
        "[CV] ........ max_features=0.25, n_estimators=50, max_depth=3 -   1.0s"
       ]
      },
      {
       "output_type": "stream",
       "stream": "stdout",
       "text": [
        "\n",
        "[CV] max_features=0.25, n_estimators=50, max_depth=3 .................\n",
        "[CV] ........ max_features=0.25, n_estimators=50, max_depth=3 -   0.4s"
       ]
      },
      {
       "output_type": "stream",
       "stream": "stdout",
       "text": [
        "\n",
        "[CV] max_features=0.25, n_estimators=75, max_depth=3 .................\n",
        "[CV] ........ max_features=0.25, n_estimators=75, max_depth=3 -   1.3s"
       ]
      },
      {
       "output_type": "stream",
       "stream": "stdout",
       "text": [
        "\n",
        "[CV] max_features=0.25, n_estimators=75, max_depth=3 .................\n",
        "[CV] ........ max_features=0.25, n_estimators=75, max_depth=3 -   1.2s"
       ]
      },
      {
       "output_type": "stream",
       "stream": "stdout",
       "text": [
        "\n",
        "[CV] max_features=0.25, n_estimators=75, max_depth=3 .................\n",
        "[CV] ........ max_features=0.25, n_estimators=75, max_depth=3 -   1.3s"
       ]
      },
      {
       "output_type": "stream",
       "stream": "stdout",
       "text": [
        "\n",
        "[CV] max_features=0.25, n_estimators=75, max_depth=3 .................\n",
        "[CV] ........ max_features=0.25, n_estimators=75, max_depth=3 -   1.3s"
       ]
      },
      {
       "output_type": "stream",
       "stream": "stdout",
       "text": [
        "\n",
        "[CV] max_features=0.25, n_estimators=75, max_depth=3 .................\n",
        "[CV] ........ max_features=0.25, n_estimators=75, max_depth=3 -   0.5s"
       ]
      },
      {
       "output_type": "stream",
       "stream": "stdout",
       "text": [
        "\n",
        "[CV] max_features=0.25, n_estimators=100, max_depth=3 ................\n",
        "[CV] ....... max_features=0.25, n_estimators=100, max_depth=3 -   1.7s"
       ]
      },
      {
       "output_type": "stream",
       "stream": "stdout",
       "text": [
        "\n",
        "[CV] max_features=0.25, n_estimators=100, max_depth=3 ................\n",
        "[CV] ....... max_features=0.25, n_estimators=100, max_depth=3 -   1.6s"
       ]
      },
      {
       "output_type": "stream",
       "stream": "stdout",
       "text": [
        "\n",
        "[CV] max_features=0.25, n_estimators=100, max_depth=3 ................\n",
        "[CV] ....... max_features=0.25, n_estimators=100, max_depth=3 -   1.7s"
       ]
      },
      {
       "output_type": "stream",
       "stream": "stdout",
       "text": [
        "\n",
        "[CV] max_features=0.25, n_estimators=100, max_depth=3 ................\n",
        "[CV] ....... max_features=0.25, n_estimators=100, max_depth=3 -   1.6s"
       ]
      },
      {
       "output_type": "stream",
       "stream": "stdout",
       "text": [
        "\n",
        "[CV] max_features=0.25, n_estimators=100, max_depth=3 ................\n",
        "[CV] ....... max_features=0.25, n_estimators=100, max_depth=3 -   0.6s"
       ]
      },
      {
       "output_type": "stream",
       "stream": "stdout",
       "text": [
        "\n",
        "[CV] max_features=0.5, n_estimators=25, max_depth=3 ..................\n",
        "[CV] ......... max_features=0.5, n_estimators=25, max_depth=3 -   0.8s"
       ]
      },
      {
       "output_type": "stream",
       "stream": "stdout",
       "text": [
        "\n",
        "[CV] max_features=0.5, n_estimators=25, max_depth=3 ..................\n",
        "[CV] ......... max_features=0.5, n_estimators=25, max_depth=3 -   0.8s"
       ]
      },
      {
       "output_type": "stream",
       "stream": "stdout",
       "text": [
        "\n",
        "[CV] max_features=0.5, n_estimators=25, max_depth=3 ..................\n",
        "[CV] ......... max_features=0.5, n_estimators=25, max_depth=3 -   0.8s"
       ]
      },
      {
       "output_type": "stream",
       "stream": "stdout",
       "text": [
        "\n",
        "[CV] max_features=0.5, n_estimators=25, max_depth=3 ..................\n",
        "[CV] ......... max_features=0.5, n_estimators=25, max_depth=3 -   0.7s"
       ]
      },
      {
       "output_type": "stream",
       "stream": "stdout",
       "text": [
        "\n",
        "[CV] max_features=0.5, n_estimators=25, max_depth=3 ..................\n",
        "[CV] ......... max_features=0.5, n_estimators=25, max_depth=3 -   0.4s"
       ]
      },
      {
       "output_type": "stream",
       "stream": "stdout",
       "text": [
        "\n",
        "[CV] max_features=0.5, n_estimators=50, max_depth=3 ..................\n",
        "[CV] ......... max_features=0.5, n_estimators=50, max_depth=3 -   1.2s"
       ]
      },
      {
       "output_type": "stream",
       "stream": "stdout",
       "text": [
        "\n",
        "[CV] max_features=0.5, n_estimators=50, max_depth=3 ..................\n",
        "[CV] ......... max_features=0.5, n_estimators=50, max_depth=3 -   1.2s"
       ]
      },
      {
       "output_type": "stream",
       "stream": "stdout",
       "text": [
        "\n",
        "[CV] max_features=0.5, n_estimators=50, max_depth=3 ..................\n",
        "[CV] ......... max_features=0.5, n_estimators=50, max_depth=3 -   1.3s"
       ]
      },
      {
       "output_type": "stream",
       "stream": "stdout",
       "text": [
        "\n",
        "[CV] max_features=0.5, n_estimators=50, max_depth=3 ..................\n",
        "[CV] ......... max_features=0.5, n_estimators=50, max_depth=3 -   1.4s"
       ]
      },
      {
       "output_type": "stream",
       "stream": "stdout",
       "text": [
        "\n",
        "[CV] max_features=0.5, n_estimators=50, max_depth=3 ..................\n",
        "[CV] ......... max_features=0.5, n_estimators=50, max_depth=3 -   0.4s"
       ]
      },
      {
       "output_type": "stream",
       "stream": "stdout",
       "text": [
        "\n",
        "[CV] max_features=0.5, n_estimators=75, max_depth=3 ..................\n",
        "[CV] ......... max_features=0.5, n_estimators=75, max_depth=3 -   2.2s"
       ]
      },
      {
       "output_type": "stream",
       "stream": "stdout",
       "text": [
        "\n",
        "[CV] max_features=0.5, n_estimators=75, max_depth=3 ..................\n",
        "[CV] ......... max_features=0.5, n_estimators=75, max_depth=3 -   2.7s"
       ]
      },
      {
       "output_type": "stream",
       "stream": "stdout",
       "text": [
        "\n",
        "[CV] max_features=0.5, n_estimators=75, max_depth=3 ..................\n",
        "[CV] ......... max_features=0.5, n_estimators=75, max_depth=3 -   2.3s"
       ]
      },
      {
       "output_type": "stream",
       "stream": "stdout",
       "text": [
        "\n",
        "[CV] max_features=0.5, n_estimators=75, max_depth=3 ..................\n",
        "[CV] ......... max_features=0.5, n_estimators=75, max_depth=3 -   1.9s"
       ]
      },
      {
       "output_type": "stream",
       "stream": "stdout",
       "text": [
        "\n",
        "[CV] max_features=0.5, n_estimators=75, max_depth=3 ..................\n",
        "[CV] ......... max_features=0.5, n_estimators=75, max_depth=3 -   0.5s"
       ]
      },
      {
       "output_type": "stream",
       "stream": "stdout",
       "text": [
        "\n",
        "[CV] max_features=0.5, n_estimators=100, max_depth=3 .................\n",
        "[CV] ........ max_features=0.5, n_estimators=100, max_depth=3 -   2.3s"
       ]
      },
      {
       "output_type": "stream",
       "stream": "stdout",
       "text": [
        "\n",
        "[CV] max_features=0.5, n_estimators=100, max_depth=3 .................\n",
        "[CV] ........ max_features=0.5, n_estimators=100, max_depth=3 -   2.3s"
       ]
      },
      {
       "output_type": "stream",
       "stream": "stdout",
       "text": [
        "\n",
        "[CV] max_features=0.5, n_estimators=100, max_depth=3 .................\n",
        "[CV] ........ max_features=0.5, n_estimators=100, max_depth=3 -   2.4s"
       ]
      },
      {
       "output_type": "stream",
       "stream": "stdout",
       "text": [
        "\n",
        "[CV] max_features=0.5, n_estimators=100, max_depth=3 .................\n",
        "[CV] ........ max_features=0.5, n_estimators=100, max_depth=3 -   2.3s"
       ]
      },
      {
       "output_type": "stream",
       "stream": "stdout",
       "text": [
        "\n",
        "[CV] max_features=0.5, n_estimators=100, max_depth=3 .................\n",
        "[CV] ........ max_features=0.5, n_estimators=100, max_depth=3 -   0.8s"
       ]
      },
      {
       "output_type": "stream",
       "stream": "stdout",
       "text": [
        "\n",
        "[CV] max_features=0.75, n_estimators=25, max_depth=3 .................\n",
        "[CV] ........ max_features=0.75, n_estimators=25, max_depth=3 -   1.0s"
       ]
      },
      {
       "output_type": "stream",
       "stream": "stderr",
       "text": [
        "[Parallel(n_jobs=1)]: Done   1 jobs       | elapsed:    0.9s\n",
        "[Parallel(n_jobs=1)]: Done  41 jobs       | elapsed:   50.3s\n"
       ]
      },
      {
       "output_type": "stream",
       "stream": "stdout",
       "text": [
        "\n",
        "[CV] max_features=0.75, n_estimators=25, max_depth=3 .................\n",
        "[CV] ........ max_features=0.75, n_estimators=25, max_depth=3 -   0.9s"
       ]
      },
      {
       "output_type": "stream",
       "stream": "stdout",
       "text": [
        "\n",
        "[CV] max_features=0.75, n_estimators=25, max_depth=3 .................\n",
        "[CV] ........ max_features=0.75, n_estimators=25, max_depth=3 -   1.0s"
       ]
      },
      {
       "output_type": "stream",
       "stream": "stdout",
       "text": [
        "\n",
        "[CV] max_features=0.75, n_estimators=25, max_depth=3 .................\n",
        "[CV] ........ max_features=0.75, n_estimators=25, max_depth=3 -   1.0s"
       ]
      },
      {
       "output_type": "stream",
       "stream": "stdout",
       "text": [
        "\n",
        "[CV] max_features=0.75, n_estimators=25, max_depth=3 .................\n",
        "[CV] ........ max_features=0.75, n_estimators=25, max_depth=3 -   0.3s"
       ]
      },
      {
       "output_type": "stream",
       "stream": "stdout",
       "text": [
        "\n",
        "[CV] max_features=0.75, n_estimators=50, max_depth=3 .................\n",
        "[CV] ........ max_features=0.75, n_estimators=50, max_depth=3 -   1.6s"
       ]
      },
      {
       "output_type": "stream",
       "stream": "stdout",
       "text": [
        "\n",
        "[CV] max_features=0.75, n_estimators=50, max_depth=3 .................\n",
        "[CV] ........ max_features=0.75, n_estimators=50, max_depth=3 -   1.6s"
       ]
      },
      {
       "output_type": "stream",
       "stream": "stdout",
       "text": [
        "\n",
        "[CV] max_features=0.75, n_estimators=50, max_depth=3 .................\n",
        "[CV] ........ max_features=0.75, n_estimators=50, max_depth=3 -   1.4s"
       ]
      },
      {
       "output_type": "stream",
       "stream": "stdout",
       "text": [
        "\n",
        "[CV] max_features=0.75, n_estimators=50, max_depth=3 .................\n",
        "[CV] ........ max_features=0.75, n_estimators=50, max_depth=3 -   1.6s"
       ]
      },
      {
       "output_type": "stream",
       "stream": "stdout",
       "text": [
        "\n",
        "[CV] max_features=0.75, n_estimators=50, max_depth=3 .................\n",
        "[CV] ........ max_features=0.75, n_estimators=50, max_depth=3 -   0.4s"
       ]
      },
      {
       "output_type": "stream",
       "stream": "stdout",
       "text": [
        "\n",
        "[CV] max_features=0.75, n_estimators=75, max_depth=3 .................\n",
        "[CV] ........ max_features=0.75, n_estimators=75, max_depth=3 -   2.2s"
       ]
      },
      {
       "output_type": "stream",
       "stream": "stdout",
       "text": [
        "\n",
        "[CV] max_features=0.75, n_estimators=75, max_depth=3 .................\n",
        "[CV] ........ max_features=0.75, n_estimators=75, max_depth=3 -   2.2s"
       ]
      },
      {
       "output_type": "stream",
       "stream": "stdout",
       "text": [
        "\n",
        "[CV] max_features=0.75, n_estimators=75, max_depth=3 .................\n",
        "[CV] ........ max_features=0.75, n_estimators=75, max_depth=3 -   2.3s"
       ]
      },
      {
       "output_type": "stream",
       "stream": "stdout",
       "text": [
        "\n",
        "[CV] max_features=0.75, n_estimators=75, max_depth=3 .................\n",
        "[CV] ........ max_features=0.75, n_estimators=75, max_depth=3 -   2.2s"
       ]
      },
      {
       "output_type": "stream",
       "stream": "stdout",
       "text": [
        "\n",
        "[CV] max_features=0.75, n_estimators=75, max_depth=3 .................\n",
        "[CV] ........ max_features=0.75, n_estimators=75, max_depth=3 -   0.5s"
       ]
      },
      {
       "output_type": "stream",
       "stream": "stdout",
       "text": [
        "\n",
        "[CV] max_features=0.75, n_estimators=100, max_depth=3 ................\n",
        "[CV] ....... max_features=0.75, n_estimators=100, max_depth=3 -   3.1s"
       ]
      },
      {
       "output_type": "stream",
       "stream": "stdout",
       "text": [
        "\n",
        "[CV] max_features=0.75, n_estimators=100, max_depth=3 ................\n",
        "[CV] ....... max_features=0.75, n_estimators=100, max_depth=3 -   3.0s"
       ]
      },
      {
       "output_type": "stream",
       "stream": "stdout",
       "text": [
        "\n",
        "[CV] max_features=0.75, n_estimators=100, max_depth=3 ................\n",
        "[CV] ....... max_features=0.75, n_estimators=100, max_depth=3 -   2.9s"
       ]
      },
      {
       "output_type": "stream",
       "stream": "stdout",
       "text": [
        "\n",
        "[CV] max_features=0.75, n_estimators=100, max_depth=3 ................\n",
        "[CV] ....... max_features=0.75, n_estimators=100, max_depth=3 -   2.8s"
       ]
      },
      {
       "output_type": "stream",
       "stream": "stdout",
       "text": [
        "\n",
        "[CV] max_features=0.75, n_estimators=100, max_depth=3 ................\n",
        "[CV] ....... max_features=0.75, n_estimators=100, max_depth=3 -   0.6s"
       ]
      },
      {
       "output_type": "stream",
       "stream": "stdout",
       "text": [
        "\n",
        "[CV] max_features=1.0, n_estimators=25, max_depth=3 ..................\n",
        "[CV] ......... max_features=1.0, n_estimators=25, max_depth=3 -   1.0s"
       ]
      },
      {
       "output_type": "stream",
       "stream": "stdout",
       "text": [
        "\n",
        "[CV] max_features=1.0, n_estimators=25, max_depth=3 ..................\n",
        "[CV] ......... max_features=1.0, n_estimators=25, max_depth=3 -   1.0s"
       ]
      },
      {
       "output_type": "stream",
       "stream": "stdout",
       "text": [
        "\n",
        "[CV] max_features=1.0, n_estimators=25, max_depth=3 ..................\n",
        "[CV] ......... max_features=1.0, n_estimators=25, max_depth=3 -   1.0s"
       ]
      },
      {
       "output_type": "stream",
       "stream": "stdout",
       "text": [
        "\n",
        "[CV] max_features=1.0, n_estimators=25, max_depth=3 ..................\n",
        "[CV] ......... max_features=1.0, n_estimators=25, max_depth=3 -   1.0s"
       ]
      },
      {
       "output_type": "stream",
       "stream": "stdout",
       "text": [
        "\n",
        "[CV] max_features=1.0, n_estimators=25, max_depth=3 ..................\n",
        "[CV] ......... max_features=1.0, n_estimators=25, max_depth=3 -   0.3s"
       ]
      },
      {
       "output_type": "stream",
       "stream": "stdout",
       "text": [
        "\n",
        "[CV] max_features=1.0, n_estimators=50, max_depth=3 ..................\n",
        "[CV] ......... max_features=1.0, n_estimators=50, max_depth=3 -   1.6s"
       ]
      },
      {
       "output_type": "stream",
       "stream": "stdout",
       "text": [
        "\n",
        "[CV] max_features=1.0, n_estimators=50, max_depth=3 ..................\n",
        "[CV] ......... max_features=1.0, n_estimators=50, max_depth=3 -   1.8s"
       ]
      },
      {
       "output_type": "stream",
       "stream": "stdout",
       "text": [
        "\n",
        "[CV] max_features=1.0, n_estimators=50, max_depth=3 ..................\n",
        "[CV] ......... max_features=1.0, n_estimators=50, max_depth=3 -   2.0s"
       ]
      },
      {
       "output_type": "stream",
       "stream": "stdout",
       "text": [
        "\n",
        "[CV] max_features=1.0, n_estimators=50, max_depth=3 ..................\n",
        "[CV] ......... max_features=1.0, n_estimators=50, max_depth=3 -   2.0s"
       ]
      },
      {
       "output_type": "stream",
       "stream": "stdout",
       "text": [
        "\n",
        "[CV] max_features=1.0, n_estimators=50, max_depth=3 ..................\n",
        "[CV] ......... max_features=1.0, n_estimators=50, max_depth=3 -   0.3s"
       ]
      },
      {
       "output_type": "stream",
       "stream": "stdout",
       "text": [
        "\n",
        "[CV] max_features=1.0, n_estimators=75, max_depth=3 ..................\n",
        "[CV] ......... max_features=1.0, n_estimators=75, max_depth=3 -   2.4s"
       ]
      },
      {
       "output_type": "stream",
       "stream": "stdout",
       "text": [
        "\n",
        "[CV] max_features=1.0, n_estimators=75, max_depth=3 ..................\n",
        "[CV] ......... max_features=1.0, n_estimators=75, max_depth=3 -   2.7s"
       ]
      },
      {
       "output_type": "stream",
       "stream": "stdout",
       "text": [
        "\n",
        "[CV] max_features=1.0, n_estimators=75, max_depth=3 ..................\n",
        "[CV] ......... max_features=1.0, n_estimators=75, max_depth=3 -   2.6s"
       ]
      },
      {
       "output_type": "stream",
       "stream": "stdout",
       "text": [
        "\n",
        "[CV] max_features=1.0, n_estimators=75, max_depth=3 ..................\n",
        "[CV] ......... max_features=1.0, n_estimators=75, max_depth=3 -   2.5s"
       ]
      },
      {
       "output_type": "stream",
       "stream": "stdout",
       "text": [
        "\n",
        "[CV] max_features=1.0, n_estimators=75, max_depth=3 ..................\n",
        "[CV] ......... max_features=1.0, n_estimators=75, max_depth=3 -   0.5s"
       ]
      },
      {
       "output_type": "stream",
       "stream": "stdout",
       "text": [
        "\n",
        "[CV] max_features=1.0, n_estimators=100, max_depth=3 .................\n",
        "[CV] ........ max_features=1.0, n_estimators=100, max_depth=3 -   3.3s"
       ]
      },
      {
       "output_type": "stream",
       "stream": "stdout",
       "text": [
        "\n",
        "[CV] max_features=1.0, n_estimators=100, max_depth=3 .................\n",
        "[CV] ........ max_features=1.0, n_estimators=100, max_depth=3 -   3.2s"
       ]
      },
      {
       "output_type": "stream",
       "stream": "stdout",
       "text": [
        "\n",
        "[CV] max_features=1.0, n_estimators=100, max_depth=3 .................\n",
        "[CV] ........ max_features=1.0, n_estimators=100, max_depth=3 -   3.5s"
       ]
      },
      {
       "output_type": "stream",
       "stream": "stdout",
       "text": [
        "\n",
        "[CV] max_features=1.0, n_estimators=100, max_depth=3 .................\n",
        "[CV] ........ max_features=1.0, n_estimators=100, max_depth=3 -   3.2s"
       ]
      },
      {
       "output_type": "stream",
       "stream": "stdout",
       "text": [
        "\n",
        "[CV] max_features=1.0, n_estimators=100, max_depth=3 .................\n",
        "[CV] ........ max_features=1.0, n_estimators=100, max_depth=3 -   0.6s"
       ]
      },
      {
       "output_type": "stream",
       "stream": "stdout",
       "text": [
        "\n",
        "[CV] max_features=0.25, n_estimators=25, max_depth=5 .................\n",
        "[CV] ........ max_features=0.25, n_estimators=25, max_depth=5 -   0.7s"
       ]
      },
      {
       "output_type": "stream",
       "stream": "stdout",
       "text": [
        "\n",
        "[CV] max_features=0.25, n_estimators=25, max_depth=5 .................\n",
        "[CV] ........ max_features=0.25, n_estimators=25, max_depth=5 -   0.7s"
       ]
      },
      {
       "output_type": "stream",
       "stream": "stdout",
       "text": [
        "\n",
        "[CV] max_features=0.25, n_estimators=25, max_depth=5 .................\n",
        "[CV] ........ max_features=0.25, n_estimators=25, max_depth=5 -   0.8s"
       ]
      },
      {
       "output_type": "stream",
       "stream": "stdout",
       "text": [
        "\n",
        "[CV] max_features=0.25, n_estimators=25, max_depth=5 .................\n",
        "[CV] ........ max_features=0.25, n_estimators=25, max_depth=5 -   0.7s"
       ]
      },
      {
       "output_type": "stream",
       "stream": "stdout",
       "text": [
        "\n",
        "[CV] max_features=0.25, n_estimators=25, max_depth=5 .................\n",
        "[CV] ........ max_features=0.25, n_estimators=25, max_depth=5 -   0.3s"
       ]
      },
      {
       "output_type": "stream",
       "stream": "stdout",
       "text": [
        "\n",
        "[CV] max_features=0.25, n_estimators=50, max_depth=5 .................\n",
        "[CV] ........ max_features=0.25, n_estimators=50, max_depth=5 -   1.0s"
       ]
      },
      {
       "output_type": "stream",
       "stream": "stdout",
       "text": [
        "\n",
        "[CV] max_features=0.25, n_estimators=50, max_depth=5 .................\n",
        "[CV] ........ max_features=0.25, n_estimators=50, max_depth=5 -   1.2s"
       ]
      },
      {
       "output_type": "stream",
       "stream": "stdout",
       "text": [
        "\n",
        "[CV] max_features=0.25, n_estimators=50, max_depth=5 .................\n",
        "[CV] ........ max_features=0.25, n_estimators=50, max_depth=5 -   1.0s"
       ]
      },
      {
       "output_type": "stream",
       "stream": "stdout",
       "text": [
        "\n",
        "[CV] max_features=0.25, n_estimators=50, max_depth=5 .................\n",
        "[CV] ........ max_features=0.25, n_estimators=50, max_depth=5 -   1.2s"
       ]
      },
      {
       "output_type": "stream",
       "stream": "stdout",
       "text": [
        "\n",
        "[CV] max_features=0.25, n_estimators=50, max_depth=5 .................\n",
        "[CV] ........ max_features=0.25, n_estimators=50, max_depth=5 -   0.4s"
       ]
      },
      {
       "output_type": "stream",
       "stream": "stdout",
       "text": [
        "\n",
        "[CV] max_features=0.25, n_estimators=75, max_depth=5 .................\n",
        "[CV] ........ max_features=0.25, n_estimators=75, max_depth=5 -   1.5s"
       ]
      },
      {
       "output_type": "stream",
       "stream": "stdout",
       "text": [
        "\n",
        "[CV] max_features=0.25, n_estimators=75, max_depth=5 .................\n",
        "[CV] ........ max_features=0.25, n_estimators=75, max_depth=5 -   1.6s"
       ]
      },
      {
       "output_type": "stream",
       "stream": "stdout",
       "text": [
        "\n",
        "[CV] max_features=0.25, n_estimators=75, max_depth=5 .................\n",
        "[CV] ........ max_features=0.25, n_estimators=75, max_depth=5 -   1.5s"
       ]
      },
      {
       "output_type": "stream",
       "stream": "stdout",
       "text": [
        "\n",
        "[CV] max_features=0.25, n_estimators=75, max_depth=5 .................\n",
        "[CV] ........ max_features=0.25, n_estimators=75, max_depth=5 -   1.6s"
       ]
      },
      {
       "output_type": "stream",
       "stream": "stdout",
       "text": [
        "\n",
        "[CV] max_features=0.25, n_estimators=75, max_depth=5 .................\n",
        "[CV] ........ max_features=0.25, n_estimators=75, max_depth=5 -   0.5s"
       ]
      },
      {
       "output_type": "stream",
       "stream": "stdout",
       "text": [
        "\n",
        "[CV] max_features=0.25, n_estimators=100, max_depth=5 ................\n",
        "[CV] ....... max_features=0.25, n_estimators=100, max_depth=5 -   1.9s"
       ]
      },
      {
       "output_type": "stream",
       "stream": "stdout",
       "text": [
        "\n",
        "[CV] max_features=0.25, n_estimators=100, max_depth=5 ................\n",
        "[CV] ....... max_features=0.25, n_estimators=100, max_depth=5 -   2.1s"
       ]
      },
      {
       "output_type": "stream",
       "stream": "stdout",
       "text": [
        "\n",
        "[CV] max_features=0.25, n_estimators=100, max_depth=5 ................\n",
        "[CV] ....... max_features=0.25, n_estimators=100, max_depth=5 -   2.0s"
       ]
      },
      {
       "output_type": "stream",
       "stream": "stdout",
       "text": [
        "\n",
        "[CV] max_features=0.25, n_estimators=100, max_depth=5 ................\n",
        "[CV] ....... max_features=0.25, n_estimators=100, max_depth=5 -   1.9s"
       ]
      },
      {
       "output_type": "stream",
       "stream": "stdout",
       "text": [
        "\n",
        "[CV] max_features=0.25, n_estimators=100, max_depth=5 ................\n",
        "[CV] ....... max_features=0.25, n_estimators=100, max_depth=5 -   0.6s"
       ]
      },
      {
       "output_type": "stream",
       "stream": "stdout",
       "text": [
        "\n",
        "[CV] max_features=0.5, n_estimators=25, max_depth=5 ..................\n",
        "[CV] ......... max_features=0.5, n_estimators=25, max_depth=5 -   0.9s"
       ]
      },
      {
       "output_type": "stream",
       "stream": "stdout",
       "text": [
        "\n",
        "[CV] max_features=0.5, n_estimators=25, max_depth=5 ..................\n",
        "[CV] ......... max_features=0.5, n_estimators=25, max_depth=5 -   0.9s"
       ]
      },
      {
       "output_type": "stream",
       "stream": "stdout",
       "text": [
        "\n",
        "[CV] max_features=0.5, n_estimators=25, max_depth=5 ..................\n",
        "[CV] ......... max_features=0.5, n_estimators=25, max_depth=5 -   1.0s"
       ]
      },
      {
       "output_type": "stream",
       "stream": "stdout",
       "text": [
        "\n",
        "[CV] max_features=0.5, n_estimators=25, max_depth=5 ..................\n",
        "[CV] ......... max_features=0.5, n_estimators=25, max_depth=5 -   0.9s"
       ]
      },
      {
       "output_type": "stream",
       "stream": "stdout",
       "text": [
        "\n",
        "[CV] max_features=0.5, n_estimators=25, max_depth=5 ..................\n",
        "[CV] ......... max_features=0.5, n_estimators=25, max_depth=5 -   0.3s"
       ]
      },
      {
       "output_type": "stream",
       "stream": "stdout",
       "text": [
        "\n",
        "[CV] max_features=0.5, n_estimators=50, max_depth=5 ..................\n",
        "[CV] ......... max_features=0.5, n_estimators=50, max_depth=5 -   1.6s"
       ]
      },
      {
       "output_type": "stream",
       "stream": "stdout",
       "text": [
        "\n",
        "[CV] max_features=0.5, n_estimators=50, max_depth=5 ..................\n",
        "[CV] ......... max_features=0.5, n_estimators=50, max_depth=5 -   1.6s"
       ]
      },
      {
       "output_type": "stream",
       "stream": "stdout",
       "text": [
        "\n",
        "[CV] max_features=0.5, n_estimators=50, max_depth=5 ..................\n",
        "[CV] ......... max_features=0.5, n_estimators=50, max_depth=5 -   1.5s"
       ]
      },
      {
       "output_type": "stream",
       "stream": "stdout",
       "text": [
        "\n",
        "[CV] max_features=0.5, n_estimators=50, max_depth=5 ..................\n",
        "[CV] ......... max_features=0.5, n_estimators=50, max_depth=5 -   1.5s"
       ]
      },
      {
       "output_type": "stream",
       "stream": "stdout",
       "text": [
        "\n",
        "[CV] max_features=0.5, n_estimators=50, max_depth=5 ..................\n",
        "[CV] ......... max_features=0.5, n_estimators=50, max_depth=5 -   0.5s"
       ]
      },
      {
       "output_type": "stream",
       "stream": "stdout",
       "text": [
        "\n",
        "[CV] max_features=0.5, n_estimators=75, max_depth=5 ..................\n",
        "[CV] ......... max_features=0.5, n_estimators=75, max_depth=5 -   2.2s"
       ]
      },
      {
       "output_type": "stream",
       "stream": "stdout",
       "text": [
        "\n",
        "[CV] max_features=0.5, n_estimators=75, max_depth=5 ..................\n",
        "[CV] ......... max_features=0.5, n_estimators=75, max_depth=5 -   2.0s"
       ]
      },
      {
       "output_type": "stream",
       "stream": "stdout",
       "text": [
        "\n",
        "[CV] max_features=0.5, n_estimators=75, max_depth=5 ..................\n",
        "[CV] ......... max_features=0.5, n_estimators=75, max_depth=5 -   2.2s"
       ]
      },
      {
       "output_type": "stream",
       "stream": "stdout",
       "text": [
        "\n",
        "[CV] max_features=0.5, n_estimators=75, max_depth=5 ..................\n",
        "[CV] ......... max_features=0.5, n_estimators=75, max_depth=5 -   2.3s"
       ]
      },
      {
       "output_type": "stream",
       "stream": "stdout",
       "text": [
        "\n",
        "[CV] max_features=0.5, n_estimators=75, max_depth=5 ..................\n",
        "[CV] ......... max_features=0.5, n_estimators=75, max_depth=5 -   0.5s"
       ]
      },
      {
       "output_type": "stream",
       "stream": "stdout",
       "text": [
        "\n",
        "[CV] max_features=0.5, n_estimators=100, max_depth=5 .................\n",
        "[CV] ........ max_features=0.5, n_estimators=100, max_depth=5 -   2.9s"
       ]
      },
      {
       "output_type": "stream",
       "stream": "stdout",
       "text": [
        "\n",
        "[CV] max_features=0.5, n_estimators=100, max_depth=5 .................\n",
        "[CV] ........ max_features=0.5, n_estimators=100, max_depth=5 -   2.8s"
       ]
      },
      {
       "output_type": "stream",
       "stream": "stdout",
       "text": [
        "\n",
        "[CV] max_features=0.5, n_estimators=100, max_depth=5 .................\n",
        "[CV] ........ max_features=0.5, n_estimators=100, max_depth=5 -   2.8s"
       ]
      },
      {
       "output_type": "stream",
       "stream": "stdout",
       "text": [
        "\n",
        "[CV] max_features=0.5, n_estimators=100, max_depth=5 .................\n",
        "[CV] ........ max_features=0.5, n_estimators=100, max_depth=5 -   2.8s"
       ]
      },
      {
       "output_type": "stream",
       "stream": "stdout",
       "text": [
        "\n",
        "[CV] max_features=0.5, n_estimators=100, max_depth=5 .................\n",
        "[CV] ........ max_features=0.5, n_estimators=100, max_depth=5 -   0.6s"
       ]
      },
      {
       "output_type": "stream",
       "stream": "stdout",
       "text": [
        "\n",
        "[CV] max_features=0.75, n_estimators=25, max_depth=5 .................\n",
        "[CV] ........ max_features=0.75, n_estimators=25, max_depth=5 -   1.0s"
       ]
      },
      {
       "output_type": "stream",
       "stream": "stdout",
       "text": [
        "\n",
        "[CV] max_features=0.75, n_estimators=25, max_depth=5 .................\n",
        "[CV] ........ max_features=0.75, n_estimators=25, max_depth=5 -   1.2s"
       ]
      },
      {
       "output_type": "stream",
       "stream": "stdout",
       "text": [
        "\n",
        "[CV] max_features=0.75, n_estimators=25, max_depth=5 .................\n",
        "[CV] ........ max_features=0.75, n_estimators=25, max_depth=5 -   1.0s"
       ]
      },
      {
       "output_type": "stream",
       "stream": "stdout",
       "text": [
        "\n",
        "[CV] max_features=0.75, n_estimators=25, max_depth=5 .................\n",
        "[CV] ........ max_features=0.75, n_estimators=25, max_depth=5 -   0.9s"
       ]
      },
      {
       "output_type": "stream",
       "stream": "stdout",
       "text": [
        "\n",
        "[CV] max_features=0.75, n_estimators=25, max_depth=5 .................\n",
        "[CV] ........ max_features=0.75, n_estimators=25, max_depth=5 -   0.3s"
       ]
      },
      {
       "output_type": "stream",
       "stream": "stdout",
       "text": [
        "\n",
        "[CV] max_features=0.75, n_estimators=50, max_depth=5 .................\n",
        "[CV] ........ max_features=0.75, n_estimators=50, max_depth=5 -   1.8s"
       ]
      },
      {
       "output_type": "stream",
       "stream": "stdout",
       "text": [
        "\n",
        "[CV] max_features=0.75, n_estimators=50, max_depth=5 .................\n",
        "[CV] ........ max_features=0.75, n_estimators=50, max_depth=5 -   1.8s"
       ]
      },
      {
       "output_type": "stream",
       "stream": "stdout",
       "text": [
        "\n",
        "[CV] max_features=0.75, n_estimators=50, max_depth=5 .................\n",
        "[CV] ........ max_features=0.75, n_estimators=50, max_depth=5 -   1.9s"
       ]
      },
      {
       "output_type": "stream",
       "stream": "stdout",
       "text": [
        "\n",
        "[CV] max_features=0.75, n_estimators=50, max_depth=5 .................\n",
        "[CV] ........ max_features=0.75, n_estimators=50, max_depth=5 -   2.6s"
       ]
      },
      {
       "output_type": "stream",
       "stream": "stdout",
       "text": [
        "\n",
        "[CV] max_features=0.75, n_estimators=50, max_depth=5 .................\n",
        "[CV] ........ max_features=0.75, n_estimators=50, max_depth=5 -   0.5s"
       ]
      },
      {
       "output_type": "stream",
       "stream": "stdout",
       "text": [
        "\n",
        "[CV] max_features=0.75, n_estimators=75, max_depth=5 .................\n",
        "[CV] ........ max_features=0.75, n_estimators=75, max_depth=5 -   3.9s"
       ]
      },
      {
       "output_type": "stream",
       "stream": "stdout",
       "text": [
        "\n",
        "[CV] max_features=0.75, n_estimators=75, max_depth=5 .................\n",
        "[CV] ........ max_features=0.75, n_estimators=75, max_depth=5 -   2.4s"
       ]
      },
      {
       "output_type": "stream",
       "stream": "stdout",
       "text": [
        "\n",
        "[CV] max_features=0.75, n_estimators=75, max_depth=5 .................\n",
        "[CV] ........ max_features=0.75, n_estimators=75, max_depth=5 -   2.4s"
       ]
      },
      {
       "output_type": "stream",
       "stream": "stdout",
       "text": [
        "\n",
        "[CV] max_features=0.75, n_estimators=75, max_depth=5 .................\n",
        "[CV] ........ max_features=0.75, n_estimators=75, max_depth=5 -   2.9s"
       ]
      },
      {
       "output_type": "stream",
       "stream": "stdout",
       "text": [
        "\n",
        "[CV] max_features=0.75, n_estimators=75, max_depth=5 .................\n",
        "[CV] ........ max_features=0.75, n_estimators=75, max_depth=5 -   0.5s"
       ]
      },
      {
       "output_type": "stream",
       "stream": "stdout",
       "text": [
        "\n",
        "[CV] max_features=0.75, n_estimators=100, max_depth=5 ................\n",
        "[CV] ....... max_features=0.75, n_estimators=100, max_depth=5 -   3.2s"
       ]
      },
      {
       "output_type": "stream",
       "stream": "stdout",
       "text": [
        "\n",
        "[CV] max_features=0.75, n_estimators=100, max_depth=5 ................\n",
        "[CV] ....... max_features=0.75, n_estimators=100, max_depth=5 -   3.4s"
       ]
      },
      {
       "output_type": "stream",
       "stream": "stdout",
       "text": [
        "\n",
        "[CV] max_features=0.75, n_estimators=100, max_depth=5 ................\n",
        "[CV] ....... max_features=0.75, n_estimators=100, max_depth=5 -   3.2s"
       ]
      },
      {
       "output_type": "stream",
       "stream": "stdout",
       "text": [
        "\n",
        "[CV] max_features=0.75, n_estimators=100, max_depth=5 ................\n",
        "[CV] ....... max_features=0.75, n_estimators=100, max_depth=5 -   3.4s"
       ]
      },
      {
       "output_type": "stream",
       "stream": "stdout",
       "text": [
        "\n",
        "[CV] max_features=0.75, n_estimators=100, max_depth=5 ................\n",
        "[CV] ....... max_features=0.75, n_estimators=100, max_depth=5 -   0.6s"
       ]
      },
      {
       "output_type": "stream",
       "stream": "stdout",
       "text": [
        "\n",
        "[CV] max_features=1.0, n_estimators=25, max_depth=5 ..................\n",
        "[CV] ......... max_features=1.0, n_estimators=25, max_depth=5 -   1.3s"
       ]
      },
      {
       "output_type": "stream",
       "stream": "stdout",
       "text": [
        "\n",
        "[CV] max_features=1.0, n_estimators=25, max_depth=5 ..................\n",
        "[CV] ......... max_features=1.0, n_estimators=25, max_depth=5 -   1.2s"
       ]
      },
      {
       "output_type": "stream",
       "stream": "stdout",
       "text": [
        "\n",
        "[CV] max_features=1.0, n_estimators=25, max_depth=5 ..................\n",
        "[CV] ......... max_features=1.0, n_estimators=25, max_depth=5 -   1.2s"
       ]
      },
      {
       "output_type": "stream",
       "stream": "stdout",
       "text": [
        "\n",
        "[CV] max_features=1.0, n_estimators=25, max_depth=5 ..................\n",
        "[CV] ......... max_features=1.0, n_estimators=25, max_depth=5 -   1.3s"
       ]
      },
      {
       "output_type": "stream",
       "stream": "stdout",
       "text": [
        "\n",
        "[CV] max_features=1.0, n_estimators=25, max_depth=5 ..................\n",
        "[CV] ......... max_features=1.0, n_estimators=25, max_depth=5 -   0.3s"
       ]
      },
      {
       "output_type": "stream",
       "stream": "stdout",
       "text": [
        "\n",
        "[CV] max_features=1.0, n_estimators=50, max_depth=5 ..................\n",
        "[CV] ......... max_features=1.0, n_estimators=50, max_depth=5 -   2.0s"
       ]
      },
      {
       "output_type": "stream",
       "stream": "stdout",
       "text": [
        "\n",
        "[CV] max_features=1.0, n_estimators=50, max_depth=5 ..................\n",
        "[CV] ......... max_features=1.0, n_estimators=50, max_depth=5 -   2.0s"
       ]
      },
      {
       "output_type": "stream",
       "stream": "stdout",
       "text": [
        "\n",
        "[CV] max_features=1.0, n_estimators=50, max_depth=5 ..................\n",
        "[CV] ......... max_features=1.0, n_estimators=50, max_depth=5 -   2.0s"
       ]
      },
      {
       "output_type": "stream",
       "stream": "stdout",
       "text": [
        "\n",
        "[CV] max_features=1.0, n_estimators=50, max_depth=5 ..................\n",
        "[CV] ......... max_features=1.0, n_estimators=50, max_depth=5 -   1.9s"
       ]
      },
      {
       "output_type": "stream",
       "stream": "stdout",
       "text": [
        "\n",
        "[CV] max_features=1.0, n_estimators=50, max_depth=5 ..................\n",
        "[CV] ......... max_features=1.0, n_estimators=50, max_depth=5 -   0.4s"
       ]
      },
      {
       "output_type": "stream",
       "stream": "stdout",
       "text": [
        "\n",
        "[CV] max_features=1.0, n_estimators=75, max_depth=5 ..................\n",
        "[CV] ......... max_features=1.0, n_estimators=75, max_depth=5 -   3.0s"
       ]
      },
      {
       "output_type": "stream",
       "stream": "stdout",
       "text": [
        "\n",
        "[CV] max_features=1.0, n_estimators=75, max_depth=5 ..................\n",
        "[CV] ......... max_features=1.0, n_estimators=75, max_depth=5 -   2.9s"
       ]
      },
      {
       "output_type": "stream",
       "stream": "stdout",
       "text": [
        "\n",
        "[CV] max_features=1.0, n_estimators=75, max_depth=5 ..................\n",
        "[CV] ......... max_features=1.0, n_estimators=75, max_depth=5 -   2.8s"
       ]
      },
      {
       "output_type": "stream",
       "stream": "stdout",
       "text": [
        "\n",
        "[CV] max_features=1.0, n_estimators=75, max_depth=5 ..................\n",
        "[CV] ......... max_features=1.0, n_estimators=75, max_depth=5 -   2.8s"
       ]
      },
      {
       "output_type": "stream",
       "stream": "stdout",
       "text": [
        "\n",
        "[CV] max_features=1.0, n_estimators=75, max_depth=5 ..................\n",
        "[CV] ......... max_features=1.0, n_estimators=75, max_depth=5 -   0.4s"
       ]
      },
      {
       "output_type": "stream",
       "stream": "stdout",
       "text": [
        "\n",
        "[CV] max_features=1.0, n_estimators=100, max_depth=5 .................\n",
        "[CV] ........ max_features=1.0, n_estimators=100, max_depth=5 -   4.1s"
       ]
      },
      {
       "output_type": "stream",
       "stream": "stdout",
       "text": [
        "\n",
        "[CV] max_features=1.0, n_estimators=100, max_depth=5 .................\n",
        "[CV] ........ max_features=1.0, n_estimators=100, max_depth=5 -   5.5s"
       ]
      },
      {
       "output_type": "stream",
       "stream": "stdout",
       "text": [
        "\n",
        "[CV] max_features=1.0, n_estimators=100, max_depth=5 .................\n",
        "[CV] ........ max_features=1.0, n_estimators=100, max_depth=5 -   4.6s"
       ]
      },
      {
       "output_type": "stream",
       "stream": "stdout",
       "text": [
        "\n",
        "[CV] max_features=1.0, n_estimators=100, max_depth=5 .................\n",
        "[CV] ........ max_features=1.0, n_estimators=100, max_depth=5 -   4.3s"
       ]
      },
      {
       "output_type": "stream",
       "stream": "stdout",
       "text": [
        "\n",
        "[CV] max_features=1.0, n_estimators=100, max_depth=5 .................\n",
        "[CV] ........ max_features=1.0, n_estimators=100, max_depth=5 -   0.6s"
       ]
      },
      {
       "output_type": "stream",
       "stream": "stdout",
       "text": [
        "\n",
        "[CV] max_features=0.25, n_estimators=25, max_depth=10 ................\n",
        "[CV] ....... max_features=0.25, n_estimators=25, max_depth=10 -   0.8s"
       ]
      },
      {
       "output_type": "stream",
       "stream": "stdout",
       "text": [
        "\n",
        "[CV] max_features=0.25, n_estimators=25, max_depth=10 ................\n",
        "[CV] ....... max_features=0.25, n_estimators=25, max_depth=10 -   1.4s"
       ]
      },
      {
       "output_type": "stream",
       "stream": "stdout",
       "text": [
        "\n",
        "[CV] max_features=0.25, n_estimators=25, max_depth=10 ................\n",
        "[CV] ....... max_features=0.25, n_estimators=25, max_depth=10 -   1.5s"
       ]
      },
      {
       "output_type": "stream",
       "stream": "stdout",
       "text": [
        "\n",
        "[CV] max_features=0.25, n_estimators=25, max_depth=10 ................\n",
        "[CV] ....... max_features=0.25, n_estimators=25, max_depth=10 -   1.4s"
       ]
      },
      {
       "output_type": "stream",
       "stream": "stdout",
       "text": [
        "\n",
        "[CV] max_features=0.25, n_estimators=25, max_depth=10 ................\n",
        "[CV] ....... max_features=0.25, n_estimators=25, max_depth=10 -   0.4s"
       ]
      },
      {
       "output_type": "stream",
       "stream": "stdout",
       "text": [
        "\n",
        "[CV] max_features=0.25, n_estimators=50, max_depth=10 ................\n",
        "[CV] ....... max_features=0.25, n_estimators=50, max_depth=10 -   2.1s"
       ]
      },
      {
       "output_type": "stream",
       "stream": "stdout",
       "text": [
        "\n",
        "[CV] max_features=0.25, n_estimators=50, max_depth=10 ................\n",
        "[CV] ....... max_features=0.25, n_estimators=50, max_depth=10 -   1.5s"
       ]
      },
      {
       "output_type": "stream",
       "stream": "stdout",
       "text": [
        "\n",
        "[CV] max_features=0.25, n_estimators=50, max_depth=10 ................\n",
        "[CV] ....... max_features=0.25, n_estimators=50, max_depth=10 -   1.3s"
       ]
      },
      {
       "output_type": "stream",
       "stream": "stdout",
       "text": [
        "\n",
        "[CV] max_features=0.25, n_estimators=50, max_depth=10 ................\n",
        "[CV] ....... max_features=0.25, n_estimators=50, max_depth=10 -   1.7s"
       ]
      },
      {
       "output_type": "stream",
       "stream": "stdout",
       "text": [
        "\n",
        "[CV] max_features=0.25, n_estimators=50, max_depth=10 ................\n",
        "[CV] ....... max_features=0.25, n_estimators=50, max_depth=10 -   0.4s"
       ]
      },
      {
       "output_type": "stream",
       "stream": "stdout",
       "text": [
        "\n",
        "[CV] max_features=0.25, n_estimators=75, max_depth=10 ................\n",
        "[CV] ....... max_features=0.25, n_estimators=75, max_depth=10 -   2.1s"
       ]
      },
      {
       "output_type": "stream",
       "stream": "stdout",
       "text": [
        "\n",
        "[CV] max_features=0.25, n_estimators=75, max_depth=10 ................\n",
        "[CV] ....... max_features=0.25, n_estimators=75, max_depth=10 -   1.9s"
       ]
      },
      {
       "output_type": "stream",
       "stream": "stdout",
       "text": [
        "\n",
        "[CV] max_features=0.25, n_estimators=75, max_depth=10 ................\n",
        "[CV] ....... max_features=0.25, n_estimators=75, max_depth=10 -   2.1s"
       ]
      },
      {
       "output_type": "stream",
       "stream": "stdout",
       "text": [
        "\n",
        "[CV] max_features=0.25, n_estimators=75, max_depth=10 ................\n",
        "[CV] ....... max_features=0.25, n_estimators=75, max_depth=10 -   2.0s"
       ]
      },
      {
       "output_type": "stream",
       "stream": "stdout",
       "text": [
        "\n",
        "[CV] max_features=0.25, n_estimators=75, max_depth=10 ................\n",
        "[CV] ....... max_features=0.25, n_estimators=75, max_depth=10 -   0.5s"
       ]
      },
      {
       "output_type": "stream",
       "stream": "stdout",
       "text": [
        "\n",
        "[CV] max_features=0.25, n_estimators=100, max_depth=10 ...............\n",
        "[CV] ...... max_features=0.25, n_estimators=100, max_depth=10 -   2.5s"
       ]
      },
      {
       "output_type": "stream",
       "stream": "stdout",
       "text": [
        "\n",
        "[CV] max_features=0.25, n_estimators=100, max_depth=10 ...............\n",
        "[CV] ...... max_features=0.25, n_estimators=100, max_depth=10 -   2.8s"
       ]
      },
      {
       "output_type": "stream",
       "stream": "stdout",
       "text": [
        "\n",
        "[CV] max_features=0.25, n_estimators=100, max_depth=10 ...............\n",
        "[CV] ...... max_features=0.25, n_estimators=100, max_depth=10 -   2.5s"
       ]
      },
      {
       "output_type": "stream",
       "stream": "stdout",
       "text": [
        "\n",
        "[CV] max_features=0.25, n_estimators=100, max_depth=10 ...............\n",
        "[CV] ...... max_features=0.25, n_estimators=100, max_depth=10 -   2.6s"
       ]
      },
      {
       "output_type": "stream",
       "stream": "stdout",
       "text": [
        "\n",
        "[CV] max_features=0.25, n_estimators=100, max_depth=10 ...............\n",
        "[CV] ...... max_features=0.25, n_estimators=100, max_depth=10 -   0.6s"
       ]
      },
      {
       "output_type": "stream",
       "stream": "stdout",
       "text": [
        "\n",
        "[CV] max_features=0.5, n_estimators=25, max_depth=10 .................\n",
        "[CV] ........ max_features=0.5, n_estimators=25, max_depth=10 -   1.0s"
       ]
      },
      {
       "output_type": "stream",
       "stream": "stdout",
       "text": [
        "\n",
        "[CV] max_features=0.5, n_estimators=25, max_depth=10 .................\n",
        "[CV] ........ max_features=0.5, n_estimators=25, max_depth=10 -   1.0s"
       ]
      },
      {
       "output_type": "stream",
       "stream": "stdout",
       "text": [
        "\n",
        "[CV] max_features=0.5, n_estimators=25, max_depth=10 .................\n",
        "[CV] ........ max_features=0.5, n_estimators=25, max_depth=10 -   1.0s"
       ]
      },
      {
       "output_type": "stream",
       "stream": "stdout",
       "text": [
        "\n",
        "[CV] max_features=0.5, n_estimators=25, max_depth=10 .................\n",
        "[CV] ........ max_features=0.5, n_estimators=25, max_depth=10 -   1.1s"
       ]
      },
      {
       "output_type": "stream",
       "stream": "stdout",
       "text": [
        "\n",
        "[CV] max_features=0.5, n_estimators=25, max_depth=10 .................\n",
        "[CV] ........ max_features=0.5, n_estimators=25, max_depth=10 -   0.3s"
       ]
      },
      {
       "output_type": "stream",
       "stream": "stdout",
       "text": [
        "\n",
        "[CV] max_features=0.5, n_estimators=50, max_depth=10 .................\n",
        "[CV] ........ max_features=0.5, n_estimators=50, max_depth=10 -   1.8s"
       ]
      },
      {
       "output_type": "stream",
       "stream": "stdout",
       "text": [
        "\n",
        "[CV] max_features=0.5, n_estimators=50, max_depth=10 .................\n",
        "[CV] ........ max_features=0.5, n_estimators=50, max_depth=10 -   1.9s"
       ]
      },
      {
       "output_type": "stream",
       "stream": "stdout",
       "text": [
        "\n",
        "[CV] max_features=0.5, n_estimators=50, max_depth=10 .................\n",
        "[CV] ........ max_features=0.5, n_estimators=50, max_depth=10 -   1.8s"
       ]
      },
      {
       "output_type": "stream",
       "stream": "stdout",
       "text": [
        "\n",
        "[CV] max_features=0.5, n_estimators=50, max_depth=10 .................\n",
        "[CV] ........ max_features=0.5, n_estimators=50, max_depth=10 -   1.9s"
       ]
      },
      {
       "output_type": "stream",
       "stream": "stdout",
       "text": [
        "\n",
        "[CV] max_features=0.5, n_estimators=50, max_depth=10 .................\n",
        "[CV] ........ max_features=0.5, n_estimators=50, max_depth=10 -   0.5s"
       ]
      },
      {
       "output_type": "stream",
       "stream": "stdout",
       "text": [
        "\n",
        "[CV] max_features=0.5, n_estimators=75, max_depth=10 .................\n",
        "[CV] ........ max_features=0.5, n_estimators=75, max_depth=10 -   2.7s"
       ]
      },
      {
       "output_type": "stream",
       "stream": "stdout",
       "text": [
        "\n",
        "[CV] max_features=0.5, n_estimators=75, max_depth=10 .................\n",
        "[CV] ........ max_features=0.5, n_estimators=75, max_depth=10 -   2.7s"
       ]
      },
      {
       "output_type": "stream",
       "stream": "stdout",
       "text": [
        "\n",
        "[CV] max_features=0.5, n_estimators=75, max_depth=10 .................\n",
        "[CV] ........ max_features=0.5, n_estimators=75, max_depth=10 -   3.2s"
       ]
      },
      {
       "output_type": "stream",
       "stream": "stdout",
       "text": [
        "\n",
        "[CV] max_features=0.5, n_estimators=75, max_depth=10 .................\n",
        "[CV] ........ max_features=0.5, n_estimators=75, max_depth=10 -   3.4s"
       ]
      },
      {
       "output_type": "stream",
       "stream": "stdout",
       "text": [
        "\n",
        "[CV] max_features=0.5, n_estimators=75, max_depth=10 .................\n",
        "[CV] ........ max_features=0.5, n_estimators=75, max_depth=10 -   0.5s"
       ]
      },
      {
       "output_type": "stream",
       "stream": "stdout",
       "text": [
        "\n",
        "[CV] max_features=0.5, n_estimators=100, max_depth=10 ................\n",
        "[CV] ....... max_features=0.5, n_estimators=100, max_depth=10 -   3.9s"
       ]
      },
      {
       "output_type": "stream",
       "stream": "stdout",
       "text": [
        "\n",
        "[CV] max_features=0.5, n_estimators=100, max_depth=10 ................\n",
        "[CV] ....... max_features=0.5, n_estimators=100, max_depth=10 -   4.5s"
       ]
      },
      {
       "output_type": "stream",
       "stream": "stdout",
       "text": [
        "\n",
        "[CV] max_features=0.5, n_estimators=100, max_depth=10 ................\n",
        "[CV] ....... max_features=0.5, n_estimators=100, max_depth=10 -   4.9s"
       ]
      },
      {
       "output_type": "stream",
       "stream": "stdout",
       "text": [
        "\n",
        "[CV] max_features=0.5, n_estimators=100, max_depth=10 ................\n",
        "[CV] ....... max_features=0.5, n_estimators=100, max_depth=10 -   5.3s"
       ]
      },
      {
       "output_type": "stream",
       "stream": "stdout",
       "text": [
        "\n",
        "[CV] max_features=0.5, n_estimators=100, max_depth=10 ................\n",
        "[CV] ....... max_features=0.5, n_estimators=100, max_depth=10 -   0.7s"
       ]
      },
      {
       "output_type": "stream",
       "stream": "stdout",
       "text": [
        "\n",
        "[CV] max_features=0.75, n_estimators=25, max_depth=10 ................\n",
        "[CV] ....... max_features=0.75, n_estimators=25, max_depth=10 -   1.3s"
       ]
      },
      {
       "output_type": "stream",
       "stream": "stdout",
       "text": [
        "\n",
        "[CV] max_features=0.75, n_estimators=25, max_depth=10 ................\n",
        "[CV] ....... max_features=0.75, n_estimators=25, max_depth=10 -   1.4s"
       ]
      },
      {
       "output_type": "stream",
       "stream": "stdout",
       "text": [
        "\n",
        "[CV] max_features=0.75, n_estimators=25, max_depth=10 ................\n",
        "[CV] ....... max_features=0.75, n_estimators=25, max_depth=10 -   2.0s"
       ]
      },
      {
       "output_type": "stream",
       "stream": "stdout",
       "text": [
        "\n",
        "[CV] max_features=0.75, n_estimators=25, max_depth=10 ................\n",
        "[CV] ....... max_features=0.75, n_estimators=25, max_depth=10 -   1.7s"
       ]
      },
      {
       "output_type": "stream",
       "stream": "stdout",
       "text": [
        "\n",
        "[CV] max_features=0.75, n_estimators=25, max_depth=10 ................\n",
        "[CV] ....... max_features=0.75, n_estimators=25, max_depth=10 -   0.3s"
       ]
      },
      {
       "output_type": "stream",
       "stream": "stdout",
       "text": [
        "\n",
        "[CV] max_features=0.75, n_estimators=50, max_depth=10 ................\n",
        "[CV] ....... max_features=0.75, n_estimators=50, max_depth=10 -   2.3s"
       ]
      },
      {
       "output_type": "stream",
       "stream": "stdout",
       "text": [
        "\n",
        "[CV] max_features=0.75, n_estimators=50, max_depth=10 ................\n",
        "[CV] ....... max_features=0.75, n_estimators=50, max_depth=10 -   2.3s"
       ]
      },
      {
       "output_type": "stream",
       "stream": "stdout",
       "text": [
        "\n",
        "[CV] max_features=0.75, n_estimators=50, max_depth=10 ................\n",
        "[CV] ....... max_features=0.75, n_estimators=50, max_depth=10 -   2.9s"
       ]
      },
      {
       "output_type": "stream",
       "stream": "stdout",
       "text": [
        "\n",
        "[CV] max_features=0.75, n_estimators=50, max_depth=10 ................\n",
        "[CV] ....... max_features=0.75, n_estimators=50, max_depth=10 -   2.6s"
       ]
      },
      {
       "output_type": "stream",
       "stream": "stdout",
       "text": [
        "\n",
        "[CV] max_features=0.75, n_estimators=50, max_depth=10 ................\n",
        "[CV] ....... max_features=0.75, n_estimators=50, max_depth=10 -   0.4s"
       ]
      },
      {
       "output_type": "stream",
       "stream": "stdout",
       "text": [
        "\n",
        "[CV] max_features=0.75, n_estimators=75, max_depth=10 ................\n",
        "[CV] ....... max_features=0.75, n_estimators=75, max_depth=10 -   5.0s"
       ]
      },
      {
       "output_type": "stream",
       "stream": "stdout",
       "text": [
        "\n",
        "[CV] max_features=0.75, n_estimators=75, max_depth=10 ................\n",
        "[CV] ....... max_features=0.75, n_estimators=75, max_depth=10 -   3.7s"
       ]
      },
      {
       "output_type": "stream",
       "stream": "stdout",
       "text": [
        "\n",
        "[CV] max_features=0.75, n_estimators=75, max_depth=10 ................\n",
        "[CV] ....... max_features=0.75, n_estimators=75, max_depth=10 -   4.1s"
       ]
      },
      {
       "output_type": "stream",
       "stream": "stdout",
       "text": [
        "\n",
        "[CV] max_features=0.75, n_estimators=75, max_depth=10 ................\n",
        "[CV] ....... max_features=0.75, n_estimators=75, max_depth=10 -   3.6s"
       ]
      },
      {
       "output_type": "stream",
       "stream": "stdout",
       "text": [
        "\n",
        "[CV] max_features=0.75, n_estimators=75, max_depth=10 ................\n",
        "[CV] ....... max_features=0.75, n_estimators=75, max_depth=10 -   0.5s"
       ]
      },
      {
       "output_type": "stream",
       "stream": "stdout",
       "text": [
        "\n",
        "[CV] max_features=0.75, n_estimators=100, max_depth=10 ...............\n",
        "[CV] ...... max_features=0.75, n_estimators=100, max_depth=10 -   5.5s"
       ]
      },
      {
       "output_type": "stream",
       "stream": "stdout",
       "text": [
        "\n",
        "[CV] max_features=0.75, n_estimators=100, max_depth=10 ...............\n",
        "[CV] ...... max_features=0.75, n_estimators=100, max_depth=10 -   4.9s"
       ]
      },
      {
       "output_type": "stream",
       "stream": "stdout",
       "text": [
        "\n",
        "[CV] max_features=0.75, n_estimators=100, max_depth=10 ...............\n",
        "[CV] ...... max_features=0.75, n_estimators=100, max_depth=10 -   5.6s"
       ]
      },
      {
       "output_type": "stream",
       "stream": "stdout",
       "text": [
        "\n",
        "[CV] max_features=0.75, n_estimators=100, max_depth=10 ...............\n",
        "[CV] ...... max_features=0.75, n_estimators=100, max_depth=10 -   5.5s"
       ]
      },
      {
       "output_type": "stream",
       "stream": "stdout",
       "text": [
        "\n",
        "[CV] max_features=0.75, n_estimators=100, max_depth=10 ...............\n",
        "[CV] ...... max_features=0.75, n_estimators=100, max_depth=10 -   0.6s"
       ]
      },
      {
       "output_type": "stream",
       "stream": "stdout",
       "text": [
        "\n",
        "[CV] max_features=1.0, n_estimators=25, max_depth=10 .................\n",
        "[CV] ........ max_features=1.0, n_estimators=25, max_depth=10 -   2.3s"
       ]
      },
      {
       "output_type": "stream",
       "stream": "stdout",
       "text": [
        "\n",
        "[CV] max_features=1.0, n_estimators=25, max_depth=10 .................\n",
        "[CV] ........ max_features=1.0, n_estimators=25, max_depth=10 -   1.3s"
       ]
      },
      {
       "output_type": "stream",
       "stream": "stdout",
       "text": [
        "\n",
        "[CV] max_features=1.0, n_estimators=25, max_depth=10 .................\n",
        "[CV] ........ max_features=1.0, n_estimators=25, max_depth=10 -   1.7s"
       ]
      },
      {
       "output_type": "stream",
       "stream": "stdout",
       "text": [
        "\n",
        "[CV] max_features=1.0, n_estimators=25, max_depth=10 .................\n",
        "[CV] ........ max_features=1.0, n_estimators=25, max_depth=10 -   2.0s"
       ]
      },
      {
       "output_type": "stream",
       "stream": "stdout",
       "text": [
        "\n",
        "[CV] max_features=1.0, n_estimators=25, max_depth=10 .................\n",
        "[CV] ........ max_features=1.0, n_estimators=25, max_depth=10 -   0.3s"
       ]
      },
      {
       "output_type": "stream",
       "stream": "stdout",
       "text": [
        "\n",
        "[CV] max_features=1.0, n_estimators=50, max_depth=10 .................\n",
        "[CV] ........ max_features=1.0, n_estimators=50, max_depth=10 -   2.8s"
       ]
      },
      {
       "output_type": "stream",
       "stream": "stdout",
       "text": [
        "\n",
        "[CV] max_features=1.0, n_estimators=50, max_depth=10 .................\n",
        "[CV] ........ max_features=1.0, n_estimators=50, max_depth=10 -   3.9s"
       ]
      },
      {
       "output_type": "stream",
       "stream": "stdout",
       "text": [
        "\n",
        "[CV] max_features=1.0, n_estimators=50, max_depth=10 .................\n",
        "[CV] ........ max_features=1.0, n_estimators=50, max_depth=10 -   2.4s"
       ]
      },
      {
       "output_type": "stream",
       "stream": "stdout",
       "text": [
        "\n",
        "[CV] max_features=1.0, n_estimators=50, max_depth=10 .................\n",
        "[CV] ........ max_features=1.0, n_estimators=50, max_depth=10 -   2.5s"
       ]
      },
      {
       "output_type": "stream",
       "stream": "stdout",
       "text": [
        "\n",
        "[CV] max_features=1.0, n_estimators=50, max_depth=10 .................\n",
        "[CV] ........ max_features=1.0, n_estimators=50, max_depth=10 -   0.5s"
       ]
      },
      {
       "output_type": "stream",
       "stream": "stdout",
       "text": [
        "\n",
        "[CV] max_features=1.0, n_estimators=75, max_depth=10 .................\n",
        "[CV] ........ max_features=1.0, n_estimators=75, max_depth=10 -   3.5s"
       ]
      },
      {
       "output_type": "stream",
       "stream": "stdout",
       "text": [
        "\n",
        "[CV] max_features=1.0, n_estimators=75, max_depth=10 .................\n",
        "[CV] ........ max_features=1.0, n_estimators=75, max_depth=10 -   3.6s"
       ]
      },
      {
       "output_type": "stream",
       "stream": "stdout",
       "text": [
        "\n",
        "[CV] max_features=1.0, n_estimators=75, max_depth=10 .................\n",
        "[CV] ........ max_features=1.0, n_estimators=75, max_depth=10 -   4.4s"
       ]
      },
      {
       "output_type": "stream",
       "stream": "stdout",
       "text": [
        "\n",
        "[CV] max_features=1.0, n_estimators=75, max_depth=10 .................\n",
        "[CV] ........ max_features=1.0, n_estimators=75, max_depth=10 -   4.5s"
       ]
      },
      {
       "output_type": "stream",
       "stream": "stdout",
       "text": [
        "\n",
        "[CV] max_features=1.0, n_estimators=75, max_depth=10 .................\n",
        "[CV] ........ max_features=1.0, n_estimators=75, max_depth=10 -   0.5s"
       ]
      },
      {
       "output_type": "stream",
       "stream": "stdout",
       "text": [
        "\n",
        "[CV] max_features=1.0, n_estimators=100, max_depth=10 ................\n",
        "[CV] ....... max_features=1.0, n_estimators=100, max_depth=10 -   6.1s"
       ]
      },
      {
       "output_type": "stream",
       "stream": "stdout",
       "text": [
        "\n",
        "[CV] max_features=1.0, n_estimators=100, max_depth=10 ................\n",
        "[CV] ....... max_features=1.0, n_estimators=100, max_depth=10 -   6.7s"
       ]
      },
      {
       "output_type": "stream",
       "stream": "stdout",
       "text": [
        "\n",
        "[CV] max_features=1.0, n_estimators=100, max_depth=10 ................\n",
        "[CV] ....... max_features=1.0, n_estimators=100, max_depth=10 -   6.1s"
       ]
      },
      {
       "output_type": "stream",
       "stream": "stdout",
       "text": [
        "\n",
        "[CV] max_features=1.0, n_estimators=100, max_depth=10 ................\n",
        "[CV] ....... max_features=1.0, n_estimators=100, max_depth=10 -   7.3s"
       ]
      },
      {
       "output_type": "stream",
       "stream": "stdout",
       "text": [
        "\n",
        "[CV] max_features=1.0, n_estimators=100, max_depth=10 ................\n",
        "[CV] ....... max_features=1.0, n_estimators=100, max_depth=10 -   0.6s"
       ]
      },
      {
       "output_type": "stream",
       "stream": "stderr",
       "text": [
        "[Parallel(n_jobs=1)]: Done 162 jobs       | elapsed:  4.3min\n",
        "[Parallel(n_jobs=1)]: Done 240 out of 240 | elapsed:  7.6min finished\n"
       ]
      },
      {
       "output_type": "stream",
       "stream": "stdout",
       "text": [
        "\n"
       ]
      },
      {
       "metadata": {},
       "output_type": "pyout",
       "prompt_number": 5,
       "text": [
        "GridSearchCV(cv=5, error_score='raise',\n",
        "       estimator=RandomForestRegressor(bootstrap=True, criterion='mse', max_depth=None,\n",
        "           max_features='auto', max_leaf_nodes=None, min_samples_leaf=1,\n",
        "           min_samples_split=2, min_weight_fraction_leaf=0.0,\n",
        "           n_estimators=10, n_jobs=-1, oob_score=False, random_state=None,\n",
        "           verbose=0, warm_start=False),\n",
        "       fit_params={}, iid=True, loss_func=None, n_jobs=1,\n",
        "       param_grid={'max_features': [0.25, 0.5, 0.75, 1.0], 'n_estimators': [25, 50, 75, 100], 'max_depth': [3, 5, 10]},\n",
        "       pre_dispatch='2*n_jobs', refit=True, score_func=None, scoring=None,\n",
        "       verbose=2)"
       ]
      }
     ],
     "prompt_number": 5
    },
    {
     "cell_type": "code",
     "collapsed": false,
     "input": [
      "## mf=1, ne=25, md=5\n",
      "print(profit_grid_search.best_score_, profit_grid_search.best_params_)\n",
      "profit_model = RandomForestClassifier(**profit_grid_search.best_params_)\n",
      "profit_model.fit(data[0:, 2:], data[0:, 1])"
     ],
     "language": "python",
     "metadata": {},
     "outputs": [
      {
       "output_type": "stream",
       "stream": "stdout",
       "text": [
        "0.687165187171 {'max_features': 1.0, 'n_estimators': 25, 'max_depth': 5}\n"
       ]
      },
      {
       "metadata": {},
       "output_type": "pyout",
       "prompt_number": 6,
       "text": [
        "RandomForestClassifier(bootstrap=True, class_weight=None, criterion='gini',\n",
        "            max_depth=5, max_features=1.0, max_leaf_nodes=None,\n",
        "            min_samples_leaf=1, min_samples_split=2,\n",
        "            min_weight_fraction_leaf=0.0, n_estimators=25, n_jobs=1,\n",
        "            oob_score=False, random_state=None, verbose=0,\n",
        "            warm_start=False)"
       ]
      }
     ],
     "prompt_number": 6
    },
    {
     "cell_type": "code",
     "collapsed": false,
     "input": [
      "MARKET_COST = 30.0\n",
      "def expectedReturn(row, respond_model, profit_model):\n",
      "    if respond_model.predict(row) == 0:\n",
      "        return -MARKET_COST\n",
      "    return profit_model.predict(row) - MARKET_COST\n",
      "\n",
      "count = 0\n",
      "profit = 0.0\n",
      "for row in data[0:, 2:]:\n",
      "    roi = expectedReturn(row, respond_model, profit_model)\n",
      "    if roi > 0:\n",
      "        count += 1\n",
      "        profit += roi\n",
      "print(\"Market to {} people for total expected profit of {}\".format(count, profit))"
     ],
     "language": "python",
     "metadata": {},
     "outputs": [
      {
       "output_type": "stream",
       "stream": "stdout",
       "text": [
        "Market to 879 people for total expected profit of [ 150068.]\n"
       ]
      }
     ],
     "prompt_number": 9
    },
    {
     "cell_type": "markdown",
     "metadata": {},
     "source": [
      "Known Issue: Converting the testingCandidates may not yield all the same columns that training did, because it might have a subset (or superset?) of certain categories, and the pd.dummies works on the given frame.\n",
      "\n",
      "Thoughts - concatenate the frames (`leftjoin(training, testing)`?), fill in all the `NaN`s and dummy data, but take the averages/modes/etc from the training data I guess? Not sure if that distinction matters. Then, that'll ensure all the test columns have the same shape as the training columns - and just know to ignore responded and profit columns in the testing data? Sounds a little messy..."
     ]
    },
    {
     "cell_type": "markdown",
     "metadata": {},
     "source": [
      "ToDo: graphs of any sort"
     ]
    }
   ],
   "metadata": {}
  }
 ]
}