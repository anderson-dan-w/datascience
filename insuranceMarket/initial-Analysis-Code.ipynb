{
 "metadata": {
  "name": ""
 },
 "nbformat": 3,
 "nbformat_minor": 0,
 "worksheets": [
  {
   "cells": [
    {
     "cell_type": "markdown",
     "metadata": {},
     "source": [
      "Let's just read the data and jump right into it."
     ]
    },
    {
     "cell_type": "code",
     "collapsed": false,
     "input": [
      "from __future__ import print_function\n",
      "import pandas as pd\n",
      "pd.options.display.max_rows = 13\n",
      "df = pd.read_csv(\"training.csv\")\n",
      "df"
     ],
     "language": "python",
     "metadata": {},
     "outputs": [
      {
       "html": [
        "<div style=\"max-width:1500px;overflow:auto;\">\n",
        "<table border=\"1\" class=\"dataframe\">\n",
        "  <thead>\n",
        "    <tr style=\"text-align: right;\">\n",
        "      <th></th>\n",
        "      <th>custAge</th>\n",
        "      <th>profession</th>\n",
        "      <th>marital</th>\n",
        "      <th>schooling</th>\n",
        "      <th>default</th>\n",
        "      <th>housing</th>\n",
        "      <th>loan</th>\n",
        "      <th>contact</th>\n",
        "      <th>month</th>\n",
        "      <th>day_of_week</th>\n",
        "      <th>...</th>\n",
        "      <th>emp.var.rate</th>\n",
        "      <th>cons.price.idx</th>\n",
        "      <th>cons.conf.idx</th>\n",
        "      <th>euribor3m</th>\n",
        "      <th>nr.employed</th>\n",
        "      <th>pmonths</th>\n",
        "      <th>pastEmail</th>\n",
        "      <th>responded</th>\n",
        "      <th>profit</th>\n",
        "      <th>id</th>\n",
        "    </tr>\n",
        "  </thead>\n",
        "  <tbody>\n",
        "    <tr>\n",
        "      <th>0</th>\n",
        "      <td>34.0</td>\n",
        "      <td>admin.</td>\n",
        "      <td>single</td>\n",
        "      <td>university.degree</td>\n",
        "      <td>no</td>\n",
        "      <td>no</td>\n",
        "      <td>yes</td>\n",
        "      <td>cellular</td>\n",
        "      <td>apr</td>\n",
        "      <td>wed</td>\n",
        "      <td>...</td>\n",
        "      <td>-1.8</td>\n",
        "      <td>93.075</td>\n",
        "      <td>-47.1</td>\n",
        "      <td>1.498</td>\n",
        "      <td>5099.1</td>\n",
        "      <td>999.000000</td>\n",
        "      <td>0</td>\n",
        "      <td>no</td>\n",
        "      <td>NaN</td>\n",
        "      <td>1</td>\n",
        "    </tr>\n",
        "    <tr>\n",
        "      <th>1</th>\n",
        "      <td>31.0</td>\n",
        "      <td>services</td>\n",
        "      <td>single</td>\n",
        "      <td>high.school</td>\n",
        "      <td>no</td>\n",
        "      <td>no</td>\n",
        "      <td>no</td>\n",
        "      <td>cellular</td>\n",
        "      <td>jul</td>\n",
        "      <td>thu</td>\n",
        "      <td>...</td>\n",
        "      <td>1.4</td>\n",
        "      <td>93.918</td>\n",
        "      <td>-42.7</td>\n",
        "      <td>4.968</td>\n",
        "      <td>5228.1</td>\n",
        "      <td>999.000000</td>\n",
        "      <td>0</td>\n",
        "      <td>no</td>\n",
        "      <td>NaN</td>\n",
        "      <td>2</td>\n",
        "    </tr>\n",
        "    <tr>\n",
        "      <th>2</th>\n",
        "      <td>NaN</td>\n",
        "      <td>admin.</td>\n",
        "      <td>single</td>\n",
        "      <td>high.school</td>\n",
        "      <td>no</td>\n",
        "      <td>no</td>\n",
        "      <td>no</td>\n",
        "      <td>telephone</td>\n",
        "      <td>jun</td>\n",
        "      <td>NaN</td>\n",
        "      <td>...</td>\n",
        "      <td>1.4</td>\n",
        "      <td>94.465</td>\n",
        "      <td>-41.8</td>\n",
        "      <td>4.961</td>\n",
        "      <td>5228.1</td>\n",
        "      <td>999.000000</td>\n",
        "      <td>0</td>\n",
        "      <td>no</td>\n",
        "      <td>NaN</td>\n",
        "      <td>3</td>\n",
        "    </tr>\n",
        "    <tr>\n",
        "      <th>3</th>\n",
        "      <td>52.0</td>\n",
        "      <td>admin.</td>\n",
        "      <td>divorced</td>\n",
        "      <td>university.degree</td>\n",
        "      <td>unknown</td>\n",
        "      <td>yes</td>\n",
        "      <td>no</td>\n",
        "      <td>cellular</td>\n",
        "      <td>jul</td>\n",
        "      <td>tue</td>\n",
        "      <td>...</td>\n",
        "      <td>1.4</td>\n",
        "      <td>93.918</td>\n",
        "      <td>-42.7</td>\n",
        "      <td>4.962</td>\n",
        "      <td>5228.1</td>\n",
        "      <td>999.000000</td>\n",
        "      <td>0</td>\n",
        "      <td>no</td>\n",
        "      <td>NaN</td>\n",
        "      <td>4</td>\n",
        "    </tr>\n",
        "    <tr>\n",
        "      <th>4</th>\n",
        "      <td>39.0</td>\n",
        "      <td>blue-collar</td>\n",
        "      <td>single</td>\n",
        "      <td>NaN</td>\n",
        "      <td>unknown</td>\n",
        "      <td>yes</td>\n",
        "      <td>no</td>\n",
        "      <td>cellular</td>\n",
        "      <td>jul</td>\n",
        "      <td>tue</td>\n",
        "      <td>...</td>\n",
        "      <td>1.4</td>\n",
        "      <td>93.918</td>\n",
        "      <td>-42.7</td>\n",
        "      <td>4.961</td>\n",
        "      <td>5228.1</td>\n",
        "      <td>999.000000</td>\n",
        "      <td>0</td>\n",
        "      <td>no</td>\n",
        "      <td>NaN</td>\n",
        "      <td>5</td>\n",
        "    </tr>\n",
        "    <tr>\n",
        "      <th>5</th>\n",
        "      <td>40.0</td>\n",
        "      <td>entrepreneur</td>\n",
        "      <td>married</td>\n",
        "      <td>NaN</td>\n",
        "      <td>no</td>\n",
        "      <td>yes</td>\n",
        "      <td>no</td>\n",
        "      <td>telephone</td>\n",
        "      <td>jun</td>\n",
        "      <td>thu</td>\n",
        "      <td>...</td>\n",
        "      <td>1.4</td>\n",
        "      <td>94.465</td>\n",
        "      <td>-41.8</td>\n",
        "      <td>4.866</td>\n",
        "      <td>5228.1</td>\n",
        "      <td>999.000000</td>\n",
        "      <td>0</td>\n",
        "      <td>no</td>\n",
        "      <td>NaN</td>\n",
        "      <td>6</td>\n",
        "    </tr>\n",
        "    <tr>\n",
        "      <th>...</th>\n",
        "      <td>...</td>\n",
        "      <td>...</td>\n",
        "      <td>...</td>\n",
        "      <td>...</td>\n",
        "      <td>...</td>\n",
        "      <td>...</td>\n",
        "      <td>...</td>\n",
        "      <td>...</td>\n",
        "      <td>...</td>\n",
        "      <td>...</td>\n",
        "      <td>...</td>\n",
        "      <td>...</td>\n",
        "      <td>...</td>\n",
        "      <td>...</td>\n",
        "      <td>...</td>\n",
        "      <td>...</td>\n",
        "      <td>...</td>\n",
        "      <td>...</td>\n",
        "      <td>...</td>\n",
        "      <td>...</td>\n",
        "      <td>...</td>\n",
        "    </tr>\n",
        "    <tr>\n",
        "      <th>8232</th>\n",
        "      <td>52.0</td>\n",
        "      <td>services</td>\n",
        "      <td>married</td>\n",
        "      <td>high.school</td>\n",
        "      <td>unknown</td>\n",
        "      <td>yes</td>\n",
        "      <td>no</td>\n",
        "      <td>cellular</td>\n",
        "      <td>jul</td>\n",
        "      <td>fri</td>\n",
        "      <td>...</td>\n",
        "      <td>1.4</td>\n",
        "      <td>93.918</td>\n",
        "      <td>-42.7</td>\n",
        "      <td>4.962</td>\n",
        "      <td>5228.1</td>\n",
        "      <td>999.000000</td>\n",
        "      <td>0</td>\n",
        "      <td>yes</td>\n",
        "      <td>-15.0</td>\n",
        "      <td>8233</td>\n",
        "    </tr>\n",
        "    <tr>\n",
        "      <th>8233</th>\n",
        "      <td>55.0</td>\n",
        "      <td>retired</td>\n",
        "      <td>married</td>\n",
        "      <td>high.school</td>\n",
        "      <td>no</td>\n",
        "      <td>yes</td>\n",
        "      <td>no</td>\n",
        "      <td>cellular</td>\n",
        "      <td>oct</td>\n",
        "      <td>thu</td>\n",
        "      <td>...</td>\n",
        "      <td>-3.4</td>\n",
        "      <td>92.431</td>\n",
        "      <td>-26.9</td>\n",
        "      <td>0.722</td>\n",
        "      <td>5017.5</td>\n",
        "      <td>0.233333</td>\n",
        "      <td>0</td>\n",
        "      <td>yes</td>\n",
        "      <td>203.0</td>\n",
        "      <td>8234</td>\n",
        "    </tr>\n",
        "    <tr>\n",
        "      <th>8234</th>\n",
        "      <td>41.0</td>\n",
        "      <td>admin.</td>\n",
        "      <td>divorced</td>\n",
        "      <td>high.school</td>\n",
        "      <td>no</td>\n",
        "      <td>no</td>\n",
        "      <td>no</td>\n",
        "      <td>telephone</td>\n",
        "      <td>jun</td>\n",
        "      <td>mon</td>\n",
        "      <td>...</td>\n",
        "      <td>1.4</td>\n",
        "      <td>94.465</td>\n",
        "      <td>-41.8</td>\n",
        "      <td>4.960</td>\n",
        "      <td>5228.1</td>\n",
        "      <td>999.000000</td>\n",
        "      <td>0</td>\n",
        "      <td>yes</td>\n",
        "      <td>188.0</td>\n",
        "      <td>8235</td>\n",
        "    </tr>\n",
        "    <tr>\n",
        "      <th>8235</th>\n",
        "      <td>32.0</td>\n",
        "      <td>self-employed</td>\n",
        "      <td>single</td>\n",
        "      <td>university.degree</td>\n",
        "      <td>no</td>\n",
        "      <td>no</td>\n",
        "      <td>no</td>\n",
        "      <td>cellular</td>\n",
        "      <td>apr</td>\n",
        "      <td>thu</td>\n",
        "      <td>...</td>\n",
        "      <td>-1.8</td>\n",
        "      <td>93.075</td>\n",
        "      <td>-47.1</td>\n",
        "      <td>1.435</td>\n",
        "      <td>5099.1</td>\n",
        "      <td>999.000000</td>\n",
        "      <td>0</td>\n",
        "      <td>yes</td>\n",
        "      <td>208.0</td>\n",
        "      <td>8236</td>\n",
        "    </tr>\n",
        "    <tr>\n",
        "      <th>8236</th>\n",
        "      <td>NaN</td>\n",
        "      <td>housemaid</td>\n",
        "      <td>married</td>\n",
        "      <td>university.degree</td>\n",
        "      <td>no</td>\n",
        "      <td>no</td>\n",
        "      <td>no</td>\n",
        "      <td>cellular</td>\n",
        "      <td>jun</td>\n",
        "      <td>tue</td>\n",
        "      <td>...</td>\n",
        "      <td>-2.9</td>\n",
        "      <td>92.963</td>\n",
        "      <td>-40.8</td>\n",
        "      <td>1.099</td>\n",
        "      <td>5076.2</td>\n",
        "      <td>999.000000</td>\n",
        "      <td>0</td>\n",
        "      <td>yes</td>\n",
        "      <td>129.0</td>\n",
        "      <td>8237</td>\n",
        "    </tr>\n",
        "    <tr>\n",
        "      <th>8237</th>\n",
        "      <td>85.0</td>\n",
        "      <td>housemaid</td>\n",
        "      <td>married</td>\n",
        "      <td>NaN</td>\n",
        "      <td>unknown</td>\n",
        "      <td>yes</td>\n",
        "      <td>no</td>\n",
        "      <td>cellular</td>\n",
        "      <td>apr</td>\n",
        "      <td>tue</td>\n",
        "      <td>...</td>\n",
        "      <td>-1.8</td>\n",
        "      <td>93.749</td>\n",
        "      <td>-34.6</td>\n",
        "      <td>0.642</td>\n",
        "      <td>5008.7</td>\n",
        "      <td>999.000000</td>\n",
        "      <td>1</td>\n",
        "      <td>yes</td>\n",
        "      <td>33.0</td>\n",
        "      <td>8238</td>\n",
        "    </tr>\n",
        "  </tbody>\n",
        "</table>\n",
        "<p>8238 rows \u00d7 24 columns</p>\n",
        "</div>"
       ],
       "metadata": {},
       "output_type": "pyout",
       "prompt_number": 1,
       "text": [
        "      custAge     profession   marital          schooling  default housing  \\\n",
        "0        34.0         admin.    single  university.degree       no      no   \n",
        "1        31.0       services    single        high.school       no      no   \n",
        "2         NaN         admin.    single        high.school       no      no   \n",
        "3        52.0         admin.  divorced  university.degree  unknown     yes   \n",
        "4        39.0    blue-collar    single                NaN  unknown     yes   \n",
        "5        40.0   entrepreneur   married                NaN       no     yes   \n",
        "...       ...            ...       ...                ...      ...     ...   \n",
        "8232     52.0       services   married        high.school  unknown     yes   \n",
        "8233     55.0        retired   married        high.school       no     yes   \n",
        "8234     41.0         admin.  divorced        high.school       no      no   \n",
        "8235     32.0  self-employed    single  university.degree       no      no   \n",
        "8236      NaN      housemaid   married  university.degree       no      no   \n",
        "8237     85.0      housemaid   married                NaN  unknown     yes   \n",
        "\n",
        "     loan    contact month day_of_week  ...   emp.var.rate  cons.price.idx  \\\n",
        "0     yes   cellular   apr         wed  ...           -1.8          93.075   \n",
        "1      no   cellular   jul         thu  ...            1.4          93.918   \n",
        "2      no  telephone   jun         NaN  ...            1.4          94.465   \n",
        "3      no   cellular   jul         tue  ...            1.4          93.918   \n",
        "4      no   cellular   jul         tue  ...            1.4          93.918   \n",
        "5      no  telephone   jun         thu  ...            1.4          94.465   \n",
        "...   ...        ...   ...         ...  ...            ...             ...   \n",
        "8232   no   cellular   jul         fri  ...            1.4          93.918   \n",
        "8233   no   cellular   oct         thu  ...           -3.4          92.431   \n",
        "8234   no  telephone   jun         mon  ...            1.4          94.465   \n",
        "8235   no   cellular   apr         thu  ...           -1.8          93.075   \n",
        "8236   no   cellular   jun         tue  ...           -2.9          92.963   \n",
        "8237   no   cellular   apr         tue  ...           -1.8          93.749   \n",
        "\n",
        "      cons.conf.idx euribor3m  nr.employed     pmonths  pastEmail  responded  \\\n",
        "0             -47.1     1.498       5099.1  999.000000          0         no   \n",
        "1             -42.7     4.968       5228.1  999.000000          0         no   \n",
        "2             -41.8     4.961       5228.1  999.000000          0         no   \n",
        "3             -42.7     4.962       5228.1  999.000000          0         no   \n",
        "4             -42.7     4.961       5228.1  999.000000          0         no   \n",
        "5             -41.8     4.866       5228.1  999.000000          0         no   \n",
        "...             ...       ...          ...         ...        ...        ...   \n",
        "8232          -42.7     4.962       5228.1  999.000000          0        yes   \n",
        "8233          -26.9     0.722       5017.5    0.233333          0        yes   \n",
        "8234          -41.8     4.960       5228.1  999.000000          0        yes   \n",
        "8235          -47.1     1.435       5099.1  999.000000          0        yes   \n",
        "8236          -40.8     1.099       5076.2  999.000000          0        yes   \n",
        "8237          -34.6     0.642       5008.7  999.000000          1        yes   \n",
        "\n",
        "      profit    id  \n",
        "0        NaN     1  \n",
        "1        NaN     2  \n",
        "2        NaN     3  \n",
        "3        NaN     4  \n",
        "4        NaN     5  \n",
        "5        NaN     6  \n",
        "...      ...   ...  \n",
        "8232   -15.0  8233  \n",
        "8233   203.0  8234  \n",
        "8234   188.0  8235  \n",
        "8235   208.0  8236  \n",
        "8236   129.0  8237  \n",
        "8237    33.0  8238  \n",
        "\n",
        "[8238 rows x 24 columns]"
       ]
      }
     ],
     "prompt_number": 1
    },
    {
     "cell_type": "markdown",
     "metadata": {},
     "source": [
      "Of note, I already see some `NaN`s, and a number of columns that look categorical/boolean in nature.\n",
      "\n",
      "Let's see what we can make of the numerical columns"
     ]
    },
    {
     "cell_type": "code",
     "collapsed": false,
     "input": [
      "df.describe()"
     ],
     "language": "python",
     "metadata": {},
     "outputs": [
      {
       "output_type": "stream",
       "stream": "stderr",
       "text": [
        "/usr/local/lib/python2.7/dist-packages/numpy/lib/function_base.py:3823: RuntimeWarning: Invalid value encountered in percentile\n",
        "  RuntimeWarning)\n"
       ]
      },
      {
       "html": [
        "<div style=\"max-width:1500px;overflow:auto;\">\n",
        "<table border=\"1\" class=\"dataframe\">\n",
        "  <thead>\n",
        "    <tr style=\"text-align: right;\">\n",
        "      <th></th>\n",
        "      <th>custAge</th>\n",
        "      <th>campaign</th>\n",
        "      <th>pdays</th>\n",
        "      <th>previous</th>\n",
        "      <th>emp.var.rate</th>\n",
        "      <th>cons.price.idx</th>\n",
        "      <th>cons.conf.idx</th>\n",
        "      <th>euribor3m</th>\n",
        "      <th>nr.employed</th>\n",
        "      <th>pmonths</th>\n",
        "      <th>pastEmail</th>\n",
        "      <th>profit</th>\n",
        "      <th>id</th>\n",
        "    </tr>\n",
        "  </thead>\n",
        "  <tbody>\n",
        "    <tr>\n",
        "      <th>count</th>\n",
        "      <td>6224.000000</td>\n",
        "      <td>8238.000000</td>\n",
        "      <td>8238.000000</td>\n",
        "      <td>8238.000000</td>\n",
        "      <td>8238.000000</td>\n",
        "      <td>8238.000000</td>\n",
        "      <td>8238.000000</td>\n",
        "      <td>8238.000000</td>\n",
        "      <td>8238.000000</td>\n",
        "      <td>8238.000000</td>\n",
        "      <td>8238.000000</td>\n",
        "      <td>928.000000</td>\n",
        "      <td>8238.000000</td>\n",
        "    </tr>\n",
        "    <tr>\n",
        "      <th>mean</th>\n",
        "      <td>39.953728</td>\n",
        "      <td>2.531682</td>\n",
        "      <td>960.916606</td>\n",
        "      <td>0.183054</td>\n",
        "      <td>0.056397</td>\n",
        "      <td>93.570977</td>\n",
        "      <td>-40.577907</td>\n",
        "      <td>3.586929</td>\n",
        "      <td>5165.575965</td>\n",
        "      <td>960.687436</td>\n",
        "      <td>0.365501</td>\n",
        "      <td>172.112069</td>\n",
        "      <td>4119.500000</td>\n",
        "    </tr>\n",
        "    <tr>\n",
        "      <th>std</th>\n",
        "      <td>10.540516</td>\n",
        "      <td>2.709773</td>\n",
        "      <td>190.695054</td>\n",
        "      <td>0.514209</td>\n",
        "      <td>1.566550</td>\n",
        "      <td>0.578782</td>\n",
        "      <td>4.650101</td>\n",
        "      <td>1.742784</td>\n",
        "      <td>72.727423</td>\n",
        "      <td>191.841012</td>\n",
        "      <td>1.294101</td>\n",
        "      <td>128.999186</td>\n",
        "      <td>2378.250092</td>\n",
        "    </tr>\n",
        "    <tr>\n",
        "      <th>min</th>\n",
        "      <td>18.000000</td>\n",
        "      <td>1.000000</td>\n",
        "      <td>0.000000</td>\n",
        "      <td>0.000000</td>\n",
        "      <td>-3.400000</td>\n",
        "      <td>92.201000</td>\n",
        "      <td>-50.800000</td>\n",
        "      <td>0.634000</td>\n",
        "      <td>4963.600000</td>\n",
        "      <td>0.000000</td>\n",
        "      <td>0.000000</td>\n",
        "      <td>-276.000000</td>\n",
        "      <td>1.000000</td>\n",
        "    </tr>\n",
        "    <tr>\n",
        "      <th>25%</th>\n",
        "      <td>NaN</td>\n",
        "      <td>1.000000</td>\n",
        "      <td>999.000000</td>\n",
        "      <td>0.000000</td>\n",
        "      <td>-1.800000</td>\n",
        "      <td>93.075000</td>\n",
        "      <td>-42.700000</td>\n",
        "      <td>1.334000</td>\n",
        "      <td>5099.100000</td>\n",
        "      <td>999.000000</td>\n",
        "      <td>0.000000</td>\n",
        "      <td>NaN</td>\n",
        "      <td>2060.250000</td>\n",
        "    </tr>\n",
        "    <tr>\n",
        "      <th>50%</th>\n",
        "      <td>NaN</td>\n",
        "      <td>2.000000</td>\n",
        "      <td>999.000000</td>\n",
        "      <td>0.000000</td>\n",
        "      <td>1.100000</td>\n",
        "      <td>93.444000</td>\n",
        "      <td>-41.800000</td>\n",
        "      <td>4.857000</td>\n",
        "      <td>5191.000000</td>\n",
        "      <td>999.000000</td>\n",
        "      <td>0.000000</td>\n",
        "      <td>NaN</td>\n",
        "      <td>4119.500000</td>\n",
        "    </tr>\n",
        "    <tr>\n",
        "      <th>75%</th>\n",
        "      <td>NaN</td>\n",
        "      <td>3.000000</td>\n",
        "      <td>999.000000</td>\n",
        "      <td>0.000000</td>\n",
        "      <td>1.400000</td>\n",
        "      <td>93.994000</td>\n",
        "      <td>-36.400000</td>\n",
        "      <td>4.961000</td>\n",
        "      <td>5228.100000</td>\n",
        "      <td>999.000000</td>\n",
        "      <td>0.000000</td>\n",
        "      <td>NaN</td>\n",
        "      <td>6178.750000</td>\n",
        "    </tr>\n",
        "    <tr>\n",
        "      <th>max</th>\n",
        "      <td>94.000000</td>\n",
        "      <td>40.000000</td>\n",
        "      <td>999.000000</td>\n",
        "      <td>6.000000</td>\n",
        "      <td>1.400000</td>\n",
        "      <td>94.767000</td>\n",
        "      <td>-26.900000</td>\n",
        "      <td>5.045000</td>\n",
        "      <td>5228.100000</td>\n",
        "      <td>999.000000</td>\n",
        "      <td>25.000000</td>\n",
        "      <td>515.000000</td>\n",
        "      <td>8238.000000</td>\n",
        "    </tr>\n",
        "  </tbody>\n",
        "</table>\n",
        "</div>"
       ],
       "metadata": {},
       "output_type": "pyout",
       "prompt_number": 2,
       "text": [
        "           custAge     campaign        pdays     previous  emp.var.rate  \\\n",
        "count  6224.000000  8238.000000  8238.000000  8238.000000   8238.000000   \n",
        "mean     39.953728     2.531682   960.916606     0.183054      0.056397   \n",
        "std      10.540516     2.709773   190.695054     0.514209      1.566550   \n",
        "min      18.000000     1.000000     0.000000     0.000000     -3.400000   \n",
        "25%            NaN     1.000000   999.000000     0.000000     -1.800000   \n",
        "50%            NaN     2.000000   999.000000     0.000000      1.100000   \n",
        "75%            NaN     3.000000   999.000000     0.000000      1.400000   \n",
        "max      94.000000    40.000000   999.000000     6.000000      1.400000   \n",
        "\n",
        "       cons.price.idx  cons.conf.idx    euribor3m  nr.employed      pmonths  \\\n",
        "count     8238.000000    8238.000000  8238.000000  8238.000000  8238.000000   \n",
        "mean        93.570977     -40.577907     3.586929  5165.575965   960.687436   \n",
        "std          0.578782       4.650101     1.742784    72.727423   191.841012   \n",
        "min         92.201000     -50.800000     0.634000  4963.600000     0.000000   \n",
        "25%         93.075000     -42.700000     1.334000  5099.100000   999.000000   \n",
        "50%         93.444000     -41.800000     4.857000  5191.000000   999.000000   \n",
        "75%         93.994000     -36.400000     4.961000  5228.100000   999.000000   \n",
        "max         94.767000     -26.900000     5.045000  5228.100000   999.000000   \n",
        "\n",
        "         pastEmail      profit           id  \n",
        "count  8238.000000  928.000000  8238.000000  \n",
        "mean      0.365501  172.112069  4119.500000  \n",
        "std       1.294101  128.999186  2378.250092  \n",
        "min       0.000000 -276.000000     1.000000  \n",
        "25%       0.000000         NaN  2060.250000  \n",
        "50%       0.000000         NaN  4119.500000  \n",
        "75%       0.000000         NaN  6178.750000  \n",
        "max      25.000000  515.000000  8238.000000  "
       ]
      }
     ],
     "prompt_number": 2
    },
    {
     "cell_type": "markdown",
     "metadata": {},
     "source": [
      "Some percentiles (`custAge` and `profit`) have `NaN`, which probably means we should account for that in our data.\n",
      "\n",
      "Also, from the Data Description Table, `pdays` and `pmonths` use `999.0` as a \"Never\" value, so those values averages/percentiles are inaccurate."
     ]
    },
    {
     "cell_type": "markdown",
     "metadata": {},
     "source": [
      "Let's make sure we don't have any `NaN` or otherwise weird values in our `responded` outcome column:"
     ]
    },
    {
     "cell_type": "code",
     "collapsed": false,
     "input": [
      "df.responded.value_counts()"
     ],
     "language": "python",
     "metadata": {},
     "outputs": [
      {
       "metadata": {},
       "output_type": "pyout",
       "prompt_number": 3,
       "text": [
        "no     7310\n",
        "yes     928\n",
        "Name: responded, dtype: int64"
       ]
      }
     ],
     "prompt_number": 3
    },
    {
     "cell_type": "markdown",
     "metadata": {},
     "source": [
      "Let's take a quick peek at some of those columns without their \"unknown\"/\"never\" values"
     ]
    },
    {
     "cell_type": "code",
     "collapsed": false,
     "input": [
      "## can't do anything nice like & or | the notnull()s because | would keep some NaNs,\n",
      "## and & would be missing data\n",
      "print(\"Customer Age:\\n{}\\n\\n\".format(df[pd.notnull(df.custAge)].custAge.describe()))\n",
      "print(\"Profit:\\n{}\\n\".format(df[pd.notnull(df.profit)].profit.describe()))\n",
      "print(\"pdays:\\n{}\\n\".format(df[df.pdays != 999].pdays.describe()))\n",
      "print(\"pmonths:\\n{}\\n\".format(df[df.pmonths != 999].pmonths.describe()))"
     ],
     "language": "python",
     "metadata": {},
     "outputs": [
      {
       "output_type": "stream",
       "stream": "stdout",
       "text": [
        "Customer Age:\n",
        "count    6224.000000\n",
        "mean       39.953728\n",
        "std        10.540516\n",
        "min        18.000000\n",
        "25%        32.000000\n",
        "50%        38.000000\n",
        "75%        47.000000\n",
        "max        94.000000\n",
        "Name: custAge, dtype: float64\n",
        "\n",
        "\n",
        "Profit:\n",
        "count    928.000000\n",
        "mean     172.112069\n",
        "std      128.999186\n",
        "min     -276.000000\n",
        "25%      124.000000\n",
        "50%      170.000000\n",
        "75%      213.250000\n",
        "max      515.000000\n",
        "Name: profit, dtype: float64\n",
        "\n",
        "pdays:\n",
        "count    316.00000\n",
        "mean       6.18038\n",
        "std        3.93951\n",
        "min        0.00000\n",
        "25%        3.00000\n",
        "50%        6.00000\n",
        "75%        7.00000\n",
        "max       25.00000\n",
        "Name: pdays, dtype: float64\n",
        "\n",
        "pmonths:\n",
        "count    316.000000\n",
        "mean       0.206013\n",
        "std        0.131317\n",
        "min        0.000000\n",
        "25%        0.100000\n",
        "50%        0.200000\n",
        "75%        0.233333\n",
        "max        0.833333\n",
        "Name: pmonths, dtype: float64\n"
       ]
      },
      {
       "output_type": "stream",
       "stream": "stdout",
       "text": [
        "\n"
       ]
      }
     ],
     "prompt_number": 4
    },
    {
     "cell_type": "markdown",
     "metadata": {},
     "source": [
      "That looks more reasonable now. When calculating anything with those columns, we'll need to remember to take this subset (and probably also compare that against the `NaN` or `999` data).\n",
      "\n",
      "Of note - there can be negative profit, as seen with our `min`. From an insurance perspective, this makes perfect sense - certain people will actually use their insurance and it will cover costs much higher than their premiums, resulting in a net-loss for the insurance company. One goal would be to minimize groups that fit into that category - sure, random chance will happen, but if an entire demographic has a negative average profit, the insurance company may want to rethink offering insurance (or raise premiums, to try to turn a profit)."
     ]
    },
    {
     "cell_type": "markdown",
     "metadata": {},
     "source": [
      "# Actual Stats\n",
      "\n",
      "Let's look at some 1-variable estimators to see if we can figure out which columns may be good indicators for who will respond"
     ]
    },
    {
     "cell_type": "code",
     "collapsed": false,
     "input": [
      "## calculates both the total gain, and average gain, for a given dataframe slice\n",
      "## assumes df has responded and profit columns\n",
      "def expectedReturn(df):\n",
      "    counts = df.responded.value_counts()\n",
      "    if \"yes\" not in counts:\n",
      "        counts.yes = 0\n",
      "    if \"no\" not in counts:\n",
      "        counts.no = 0\n",
      "    profit = df[df.responded == \"yes\"].profit.mean()\n",
      "    net_gain = (counts.yes * profit) - (counts.sum() * 30.0)\n",
      "    avg_gain = net_gain / (counts.sum() + 0.0)\n",
      "    return net_gain, avg_gain\n",
      "\n",
      "# helper function for pretty-printing\n",
      "def fmt(value):\n",
      "    return \"{: .2f}\".format(value)\n",
      "\n",
      "total, avg = expectedReturn(df)\n",
      "print(\"General expected return: {} (avg: {})\".format(fmt(total), fmt(avg)))"
     ],
     "language": "python",
     "metadata": {},
     "outputs": [
      {
       "output_type": "stream",
       "stream": "stdout",
       "text": [
        "General expected return: -87420.00 (avg: -10.61)\n"
       ]
      }
     ],
     "prompt_number": 5
    },
    {
     "cell_type": "markdown",
     "metadata": {},
     "source": [
      "This is bad news - if they just market to everyone, the response rate/average return is so low that they don't make a profit. Obviously, we want to home in on which indicators are most beneficial to market to."
     ]
    },
    {
     "cell_type": "markdown",
     "metadata": {},
     "source": [
      "### Categorical\n",
      "\n",
      "Categorical columns are: `profession`, `marital`, `schooling`, `month`, `day_of_week`, `poutcome` and we want to see what the total profit, and perhaps average profit, is per label in each category.\n",
      "\n",
      "We can check which labels are most likely to yield positive returns by checking the `expectedReturn` for slices that only have that label."
     ]
    },
    {
     "cell_type": "code",
     "collapsed": false,
     "input": [
      "def groupByCats(categories, df, show_all=False):\n",
      "    profits = {}\n",
      "    for cat in categories:\n",
      "        profits = {}\n",
      "        for label, frame in df.groupby(cat):\n",
      "            total, avg = expectedReturn(frame)\n",
      "            profits[label] = (total, avg)\n",
      "        print(cat)\n",
      "        for label, (total, avg) in sorted(profits.items(), key=lambda x:x[1]):\n",
      "            ## only print positive if not show_all\n",
      "            if show_all or total > 0.0:\n",
      "                print(\"\\t{: >15}: total {: .2f} (avg {: .2f})\".format(label, total, avg))\n",
      "\n",
      "cats = [\"profession\", \"marital\", \"contact\", \"schooling\", \"month\",\"default\",\n",
      "        \"day_of_week\", \"poutcome\"]\n",
      "groupByCats(cats, df, True)"
     ],
     "language": "python",
     "metadata": {},
     "outputs": [
      {
       "output_type": "stream",
       "stream": "stdout",
       "text": [
        "profession\n",
        "\t    blue-collar: total -49926.00 (avg -27.03)\n",
        "\t     technician: total -15310.00 (avg -11.33)\n",
        "\t       services: total -11924.00 (avg -15.06)\n",
        "\t         admin.: total -10638.00 (avg -5.06)\n",
        "\t   entrepreneur: total -4865.00 (avg -15.49)\n",
        "\t      housemaid: total -2915.00 (avg -13.69)\n",
        "\t     management: total -2210.00 (avg -3.79)\n",
        "\t  self-employed: total -1210.00 (avg -4.34)\n",
        "\t        unknown: total -521.00 (avg -7.34)\n",
        "\t     unemployed: total -262.00 (avg -1.38)\n",
        "\t        student: total  5144.00 (avg  32.35)\n",
        "\t        retired: total  7217.00 (avg  21.42)\n",
        "marital"
       ]
      },
      {
       "output_type": "stream",
       "stream": "stdout",
       "text": [
        "\n",
        "\t        married: total -60282.00 (avg -12.16)\n",
        "\t         single: total -16763.00 (avg -7.17)\n",
        "\t       divorced: total -10440.00 (avg -11.20)\n",
        "\t        unknown: total  65.00 (avg  6.50)\n",
        "contact"
       ]
      },
      {
       "output_type": "stream",
       "stream": "stdout",
       "text": [
        "\n",
        "\t      telephone: total -68876.00 (avg -23.00)\n",
        "\t       cellular: total -18544.00 (avg -3.54)\n",
        "schooling"
       ]
      },
      {
       "output_type": "stream",
       "stream": "stdout",
       "text": [
        "\n",
        "\t       basic.9y: total -18893.00 (avg -21.89)\n",
        "\t     illiterate: total  nan (avg  nan)\n",
        "\t    high.school: total -15929.00 (avg -11.89)\n",
        "\tprofessional.course: total -8158.00 (avg -11.05)\n",
        "\tuniversity.degree: total -6644.00 (avg -3.84)\n",
        "\t       basic.6y: total -6551.00 (avg -20.93)\n",
        "\t       basic.4y: total -6424.00 (avg -10.96)\n",
        "\t        unknown: total -728.00 (avg -2.80)\n",
        "month"
       ]
      },
      {
       "output_type": "stream",
       "stream": "stdout",
       "text": [
        "\n",
        "\t            may: total -55818.00 (avg -19.84)\n",
        "\t            jul: total -21389.00 (avg -15.82)\n",
        "\t            aug: total -17425.00 (avg -14.04)\n",
        "\t            jun: total -16587.00 (avg -15.72)\n",
        "\t            nov: total -9528.00 (avg -11.72)\n",
        "\t            dec: total  2175.00 (avg  75.00)\n",
        "\t            mar: total  6913.00 (avg  65.22)\n",
        "\t            oct: total  7015.00 (avg  44.97)\n",
        "\t            apr: total  8417.00 (avg  15.28)\n",
        "\t            sep: total  8807.00 (avg  72.79)\n",
        "default\n",
        "\t        unknown: total -51903.00 (avg -32.08)\n",
        "\t            yes: total  nan (avg  nan)\n",
        "\t             no: total -35487.00 (avg -5.36)\n",
        "day_of_week"
       ]
      },
      {
       "output_type": "stream",
       "stream": "stdout",
       "text": [
        "\n",
        "\t            mon: total -21773.00 (avg -13.63)\n",
        "\t            wed: total -16808.00 (avg -11.41)\n",
        "\t            fri: total -15964.00 (avg -11.66)\n",
        "\t            tue: total -13342.00 (avg -9.03)\n",
        "\t            thu: total -11154.00 (avg -7.28)\n",
        "poutcome\n",
        "\t    nonexistent: total -108849.00 (avg -15.42)\n",
        "\t        failure: total -6569.00 (avg -7.34)\n",
        "\t        success: total  27998.00 (avg  98.93)\n"
       ]
      }
     ],
     "prompt_number": 6
    },
    {
     "cell_type": "markdown",
     "metadata": {},
     "source": [
      "Quick takeaways from this:\n",
      "\n",
      "  - The largest profit from a categorical variable is `poutcome=sucess`, which makes some amount of sense - people who have signed up before are likely to sign up again, giving a better chance to make a profit.\n",
      "  - Summer months (`may`, `june`, `july`, `august`) and `november` (perhaps around Christmas spending?) do poorly while spring (`march`, `april`) and fall (`september`, `october`) are positive.\n",
      "  - `student` and `retired` do well; `blue-collar` does not.\n",
      "  \n",
      "Also important for analysis:\n",
      "\n",
      "  - none of labels within `day_of_week`, `marital`, `schooling`, or `contact` result in net gain; these fields may need to be further subdivided to figure out which subsets are likely to respond and be profitable."
     ]
    },
    {
     "cell_type": "markdown",
     "metadata": {},
     "source": [
      "Just to make things look a little cleaner, let's see only the positives:"
     ]
    },
    {
     "cell_type": "code",
     "collapsed": false,
     "input": [
      "groupByCats(cats, df)"
     ],
     "language": "python",
     "metadata": {},
     "outputs": [
      {
       "output_type": "stream",
       "stream": "stdout",
       "text": [
        "profession\n",
        "\t        student: total  5144.00 (avg  32.35)\n",
        "\t        retired: total  7217.00 (avg  21.42)\n",
        "marital\n",
        "\t        unknown: total  65.00 (avg  6.50)\n",
        "contact"
       ]
      },
      {
       "output_type": "stream",
       "stream": "stdout",
       "text": [
        "\n",
        "schooling"
       ]
      },
      {
       "output_type": "stream",
       "stream": "stdout",
       "text": [
        "\n",
        "month"
       ]
      },
      {
       "output_type": "stream",
       "stream": "stdout",
       "text": [
        "\n",
        "\t            dec: total  2175.00 (avg  75.00)\n",
        "\t            mar: total  6913.00 (avg  65.22)\n",
        "\t            oct: total  7015.00 (avg  44.97)\n",
        "\t            apr: total  8417.00 (avg  15.28)\n",
        "\t            sep: total  8807.00 (avg  72.79)\n",
        "default\n",
        "day_of_week"
       ]
      },
      {
       "output_type": "stream",
       "stream": "stdout",
       "text": [
        "\n",
        "poutcome\n",
        "\t        success: total  27998.00 (avg  98.93)\n"
       ]
      }
     ],
     "prompt_number": 7
    },
    {
     "cell_type": "markdown",
     "metadata": {},
     "source": [
      "We can drill down into the `marital` category and see if we can find anything interesting. To save ourselves some clutter, we will probably want to only print categories that changed."
     ]
    },
    {
     "cell_type": "code",
     "collapsed": false,
     "input": [
      "import collections\n",
      "positive = collections.defaultdict(set)\n",
      "for category in cats:\n",
      "    for label, frame in df.groupby(category):\n",
      "        total, avg = expectedReturn(frame)\n",
      "        if total > 0.0:\n",
      "            positive[category].add(label)\n",
      "\n",
      "def hasChanged(category, label, total):\n",
      "    ## labels improved by subset\n",
      "    if total >= 0.0 and label not in positive[category]:\n",
      "        return True\n",
      "    ## labels worsened by subet\n",
      "    if total < 0.0 and label in positive[category]:\n",
      "        return True\n",
      "    return False"
     ],
     "language": "python",
     "metadata": {},
     "outputs": [],
     "prompt_number": 10
    },
    {
     "cell_type": "code",
     "collapsed": false,
     "input": [
      "married = df[df.marital == \"married\"]\n",
      "mcats = [c for c in cats if c != \"marital\"] ## redundant to check marital column\n",
      "for category in mcats:\n",
      "    for label, frame in married.groupby(category):\n",
      "        total, avg = expectedReturn(frame)\n",
      "        if hasChanged(category, label, total):\n",
      "            print(\"\\tmarried-{: <10} : {:.2f} (avg: {: .2f})\".format(label, total, avg))"
     ],
     "language": "python",
     "metadata": {},
     "outputs": [],
     "prompt_number": 11
    },
    {
     "cell_type": "markdown",
     "metadata": {},
     "source": [
      "The lack of output above means none of the labels of any of the categories changed direction if we only look at the subset of those married.\n",
      "\n",
      "We can easily generalize this to look at any particular column-pairings and see if drilling down yields any changes.\n",
      "\n",
      "*caveat*: I'm only going to print those for which both categories suggested the same outcome, but the **combination** of the two suggests the opposites. As a concrete example:\n",
      "\n",
      "If we just look at `marital=single`, we expect to have a net loss; similarly if we consider `profession=self-employed`.\n",
      "\n",
      "However, if we look at the subset of `single & self-employed` we will see we expect a net gain. This result seems strong - there are ~80 people who fall into that category (i.e. it would be less generalizable if there were only a handful of people in the category, since that means we may not see it in practice frequently eg `poutcome=success & marital=unknown` for which there is only one person).\n",
      "\n",
      "Back to the caveat - this will miss all instances where one label suggests net gain and the other net loss. It would be important to look more closely and see if the change is away from a label with a large profit (or loss)."
     ]
    },
    {
     "cell_type": "code",
     "collapsed": false,
     "input": [
      "import itertools\n",
      "for subcats in itertools.combinations(cats, 2):\n",
      "    for label, frame in df.groupby(subcats):\n",
      "        total, avg = expectedReturn(frame)\n",
      "        ## see caveat in text above\n",
      "        if (hasChanged(subcats[1], label[1], total) and\n",
      "            hasChanged(subcats[0], label[0], total)):\n",
      "            descr = \"{: >20}({}); {: >20}({})\".format(label[1], subcats[1], label[0], subcats[0])\n",
      "            print(\"{} : {:.2f} (avg: {:.2f})\".format(descr, total, avg))"
     ],
     "language": "python",
     "metadata": {},
     "outputs": [
      {
       "output_type": "stream",
       "stream": "stdout",
       "text": [
        "              single(marital);           management(profession) : 157.00 (avg: 1.50)\n",
        "              single(marital);        self-employed(profession) : 425.00 (avg: 5.31)"
       ]
      },
      {
       "output_type": "stream",
       "stream": "stdout",
       "text": [
        "\n",
        "              single(marital);           unemployed(profession) : 189.00 (avg: 4.11)"
       ]
      },
      {
       "output_type": "stream",
       "stream": "stdout",
       "text": [
        "\n",
        "              single(marital);              unknown(profession) : 54.00 (avg: 4.15)\n",
        "            cellular(contact);               admin.(profession) : 2966.00 (avg: 2.07)"
       ]
      },
      {
       "output_type": "stream",
       "stream": "stdout",
       "text": [
        "\n",
        "            cellular(contact);           management(profession) : 1120.00 (avg: 2.95)"
       ]
      },
      {
       "output_type": "stream",
       "stream": "stdout",
       "text": [
        "\n",
        "            cellular(contact);        self-employed(profession) : 493.00 (avg: 2.69)"
       ]
      },
      {
       "output_type": "stream",
       "stream": "stdout",
       "text": [
        "\n",
        "            cellular(contact);           unemployed(profession) : 1525.00 (avg: 12.92)"
       ]
      },
      {
       "output_type": "stream",
       "stream": "stdout",
       "text": [
        "\n",
        " professional.course(schooling);               admin.(profession) : 987.00 (avg: 18.98)"
       ]
      },
      {
       "output_type": "stream",
       "stream": "stdout",
       "text": [
        "\n",
        "             unknown(schooling);               admin.(profession) : 25.00 (avg: 0.58)\n",
        "            basic.4y(schooling);         entrepreneur(profession) : 513.00 (avg: 19.73)"
       ]
      },
      {
       "output_type": "stream",
       "stream": "stdout",
       "text": [
        "\n",
        "            basic.6y(schooling);         entrepreneur(profession) : 35.00 (avg: 7.00)\n",
        " professional.course(schooling);            housemaid(profession) : 46.00 (avg: 3.54)"
       ]
      },
      {
       "output_type": "stream",
       "stream": "stdout",
       "text": [
        "\n",
        "             unknown(schooling);            housemaid(profession) : 20.00 (avg: 2.00)\n",
        "   university.degree(schooling);           management(profession) : 322.00 (avg: 1.11)"
       ]
      },
      {
       "output_type": "stream",
       "stream": "stdout",
       "text": [
        "\n",
        "             unknown(schooling);           management(profession) : 247.00 (avg: 13.72)\n",
        " professional.course(schooling);        self-employed(profession) : 22.00 (avg: 1.29)"
       ]
      },
      {
       "output_type": "stream",
       "stream": "stdout",
       "text": [
        "\n",
        "   university.degree(schooling);             services(profession) : 351.00 (avg: 15.26)"
       ]
      },
      {
       "output_type": "stream",
       "stream": "stdout",
       "text": [
        "\n",
        "            basic.4y(schooling);           technician(profession) : 105.00 (avg: 21.00)"
       ]
      },
      {
       "output_type": "stream",
       "stream": "stdout",
       "text": [
        "\n",
        "         high.school(schooling);           technician(profession) : 396.00 (avg: 3.22)\n",
        "             unknown(schooling);           technician(profession) : 48.00 (avg: 1.71)"
       ]
      },
      {
       "output_type": "stream",
       "stream": "stdout",
       "text": [
        "\n",
        "            basic.9y(schooling);           unemployed(profession) : 260.00 (avg: 9.63)\n",
        "         high.school(schooling);           unemployed(profession) : 420.00 (avg: 11.67)\n",
        " professional.course(schooling);              unknown(profession) : 96.00 (avg: 48.00)"
       ]
      },
      {
       "output_type": "stream",
       "stream": "stdout",
       "text": [
        "\n",
        "             unknown(schooling);              unknown(profession) : 355.00 (avg: 13.15)\n",
        "                 jul(month);           management(profession) : 23.00 (avg: 0.28)"
       ]
      },
      {
       "output_type": "stream",
       "stream": "stdout",
       "text": [
        "\n",
        "                 nov(month);           management(profession) : 241.00 (avg: 2.30)\n",
        "                 jul(month);              unknown(profession) : 339.00 (avg: 48.43)"
       ]
      },
      {
       "output_type": "stream",
       "stream": "stdout",
       "text": [
        "\n",
        "                 nov(month);              unknown(profession) : 135.00 (avg: 45.00)\n",
        "                  no(default);           unemployed(profession) : 698.00 (avg: 4.42)"
       ]
      },
      {
       "output_type": "stream",
       "stream": "stdout",
       "text": [
        "\n",
        "                  no(default);              unknown(profession) : 203.00 (avg: 4.41)\n",
        "                 thu(day_of_week);               admin.(profession) : 515.00 (avg: 1.28)"
       ]
      },
      {
       "output_type": "stream",
       "stream": "stdout",
       "text": [
        "\n",
        "                 wed(day_of_week);            housemaid(profession) : 5.00 (avg: 0.12)"
       ]
      },
      {
       "output_type": "stream",
       "stream": "stdout",
       "text": [
        "\n",
        "                 fri(day_of_week);           management(profession) : 1129.00 (avg: 11.88)\n",
        "                 fri(day_of_week);        self-employed(profession) : 414.00 (avg: 12.18)"
       ]
      },
      {
       "output_type": "stream",
       "stream": "stdout",
       "text": [
        "\n",
        "                 fri(day_of_week);              unknown(profession) : 36.00 (avg: 6.00)"
       ]
      },
      {
       "output_type": "stream",
       "stream": "stdout",
       "text": [
        "\n",
        "                 thu(day_of_week);              unknown(profession) : 13.00 (avg: 1.30)\n",
        "                 wed(day_of_week);              unknown(profession) : 216.00 (avg: 18.00)\n",
        "             failure(poutcome);               admin.(profession) : 612.00 (avg: 2.43)"
       ]
      },
      {
       "output_type": "stream",
       "stream": "stdout",
       "text": [
        "\n",
        "            cellular(contact);               single(marital) : 899.00 (avg: 0.57)"
       ]
      },
      {
       "output_type": "stream",
       "stream": "stdout",
       "text": [
        "\n",
        "            basic.4y(schooling);             divorced(marital) : 370.00 (avg: 4.46)\n",
        "            basic.6y(schooling);             divorced(marital) : 40.00 (avg: 1.54)"
       ]
      },
      {
       "output_type": "stream",
       "stream": "stdout",
       "text": [
        "\n",
        "             success(poutcome);              unknown(marital) : -58.00 (avg: -58.00)"
       ]
      },
      {
       "output_type": "stream",
       "stream": "stdout",
       "text": [
        "\n",
        "   university.degree(schooling);             cellular(contact) : 3028.00 (avg: 2.47)"
       ]
      },
      {
       "output_type": "stream",
       "stream": "stdout",
       "text": [
        "\n",
        "             unknown(schooling);             cellular(contact) : 1377.00 (avg: 9.06)\n",
        "                 jun(month);             cellular(contact) : 6028.00 (avg: 36.98)"
       ]
      },
      {
       "output_type": "stream",
       "stream": "stdout",
       "text": [
        "\n",
        "                  no(default);             cellular(contact) : 8520.00 (avg: 1.93)"
       ]
      },
      {
       "output_type": "stream",
       "stream": "stdout",
       "text": [
        "\n",
        "                 nov(month);             basic.4y(schooling) : 276.00 (avg: 6.00)"
       ]
      },
      {
       "output_type": "stream",
       "stream": "stdout",
       "text": [
        "\n",
        "                 nov(month);  professional.course(schooling) : 298.00 (avg: 4.97)"
       ]
      },
      {
       "output_type": "stream",
       "stream": "stdout",
       "text": [
        "\n",
        "                  no(default);              unknown(schooling) : 1679.00 (avg: 8.98)"
       ]
      },
      {
       "output_type": "stream",
       "stream": "stdout",
       "text": [
        "\n",
        "                 wed(day_of_week);             basic.4y(schooling) : 88.00 (avg: 0.85)"
       ]
      },
      {
       "output_type": "stream",
       "stream": "stdout",
       "text": [
        "\n",
        "                 fri(day_of_week);    university.degree(schooling) : 279.00 (avg: 1.00)"
       ]
      },
      {
       "output_type": "stream",
       "stream": "stdout",
       "text": [
        "\n",
        "                 wed(day_of_week);              unknown(schooling) : 860.00 (avg: 22.05)"
       ]
      },
      {
       "output_type": "stream",
       "stream": "stdout",
       "text": [
        "\n",
        "             failure(poutcome);             basic.4y(schooling) : 237.00 (avg: 4.23)\n",
        "             failure(poutcome);              unknown(schooling) : 510.00 (avg: 15.45)"
       ]
      },
      {
       "output_type": "stream",
       "stream": "stdout",
       "text": [
        "\n",
        "             failure(poutcome);                  aug(month) : 1430.00 (avg: 26.98)"
       ]
      },
      {
       "output_type": "stream",
       "stream": "stdout",
       "text": [
        "\n",
        "             failure(poutcome);                  jul(month) : 1309.00 (avg: 46.75)\n"
       ]
      }
     ],
     "prompt_number": 12
    },
    {
     "cell_type": "markdown",
     "metadata": {},
     "source": [
      "It seems that there are quite a few that swapped results, even if we just do pairwise comparisons, so using only 1 indicator may not be the safest bet."
     ]
    },
    {
     "cell_type": "markdown",
     "metadata": {},
     "source": [
      "## Testing\n",
      "\n",
      "Since I'm running out of time, let's do some cross-validation testing.\n",
      "\n",
      "First, let's break our training set down into a testing and training set, for cross validation"
     ]
    },
    {
     "cell_type": "code",
     "collapsed": false,
     "input": [
      "training = df.sample(frac=.4)\n",
      "training.index.values\n",
      "test = df.drop(df.index[training.index])\n",
      "print(len(df), len(training), len(test))\n",
      "training.head(5)"
     ],
     "language": "python",
     "metadata": {},
     "outputs": [
      {
       "output_type": "stream",
       "stream": "stdout",
       "text": [
        "8238 3295 4943\n"
       ]
      },
      {
       "html": [
        "<div style=\"max-width:1500px;overflow:auto;\">\n",
        "<table border=\"1\" class=\"dataframe\">\n",
        "  <thead>\n",
        "    <tr style=\"text-align: right;\">\n",
        "      <th></th>\n",
        "      <th>custAge</th>\n",
        "      <th>profession</th>\n",
        "      <th>marital</th>\n",
        "      <th>schooling</th>\n",
        "      <th>default</th>\n",
        "      <th>housing</th>\n",
        "      <th>loan</th>\n",
        "      <th>contact</th>\n",
        "      <th>month</th>\n",
        "      <th>day_of_week</th>\n",
        "      <th>...</th>\n",
        "      <th>emp.var.rate</th>\n",
        "      <th>cons.price.idx</th>\n",
        "      <th>cons.conf.idx</th>\n",
        "      <th>euribor3m</th>\n",
        "      <th>nr.employed</th>\n",
        "      <th>pmonths</th>\n",
        "      <th>pastEmail</th>\n",
        "      <th>responded</th>\n",
        "      <th>profit</th>\n",
        "      <th>id</th>\n",
        "    </tr>\n",
        "  </thead>\n",
        "  <tbody>\n",
        "    <tr>\n",
        "      <th>6054</th>\n",
        "      <td>NaN</td>\n",
        "      <td>admin.</td>\n",
        "      <td>single</td>\n",
        "      <td>university.degree</td>\n",
        "      <td>no</td>\n",
        "      <td>yes</td>\n",
        "      <td>no</td>\n",
        "      <td>telephone</td>\n",
        "      <td>oct</td>\n",
        "      <td>fri</td>\n",
        "      <td>...</td>\n",
        "      <td>-3.4</td>\n",
        "      <td>92.431</td>\n",
        "      <td>-26.9</td>\n",
        "      <td>0.720</td>\n",
        "      <td>5017.5</td>\n",
        "      <td>999.0</td>\n",
        "      <td>0</td>\n",
        "      <td>no</td>\n",
        "      <td>NaN</td>\n",
        "      <td>6055</td>\n",
        "    </tr>\n",
        "    <tr>\n",
        "      <th>6915</th>\n",
        "      <td>NaN</td>\n",
        "      <td>admin.</td>\n",
        "      <td>divorced</td>\n",
        "      <td>university.degree</td>\n",
        "      <td>unknown</td>\n",
        "      <td>no</td>\n",
        "      <td>yes</td>\n",
        "      <td>cellular</td>\n",
        "      <td>nov</td>\n",
        "      <td>fri</td>\n",
        "      <td>...</td>\n",
        "      <td>-0.1</td>\n",
        "      <td>93.200</td>\n",
        "      <td>-42.0</td>\n",
        "      <td>4.021</td>\n",
        "      <td>5195.8</td>\n",
        "      <td>999.0</td>\n",
        "      <td>0</td>\n",
        "      <td>no</td>\n",
        "      <td>NaN</td>\n",
        "      <td>6916</td>\n",
        "    </tr>\n",
        "    <tr>\n",
        "      <th>4709</th>\n",
        "      <td>25.0</td>\n",
        "      <td>blue-collar</td>\n",
        "      <td>single</td>\n",
        "      <td>basic.6y</td>\n",
        "      <td>no</td>\n",
        "      <td>yes</td>\n",
        "      <td>no</td>\n",
        "      <td>cellular</td>\n",
        "      <td>may</td>\n",
        "      <td>fri</td>\n",
        "      <td>...</td>\n",
        "      <td>-1.8</td>\n",
        "      <td>92.893</td>\n",
        "      <td>-46.2</td>\n",
        "      <td>1.250</td>\n",
        "      <td>5099.1</td>\n",
        "      <td>999.0</td>\n",
        "      <td>0</td>\n",
        "      <td>no</td>\n",
        "      <td>NaN</td>\n",
        "      <td>4710</td>\n",
        "    </tr>\n",
        "    <tr>\n",
        "      <th>1375</th>\n",
        "      <td>43.0</td>\n",
        "      <td>blue-collar</td>\n",
        "      <td>married</td>\n",
        "      <td>basic.6y</td>\n",
        "      <td>no</td>\n",
        "      <td>no</td>\n",
        "      <td>no</td>\n",
        "      <td>telephone</td>\n",
        "      <td>jun</td>\n",
        "      <td>wed</td>\n",
        "      <td>...</td>\n",
        "      <td>1.4</td>\n",
        "      <td>94.465</td>\n",
        "      <td>-41.8</td>\n",
        "      <td>4.962</td>\n",
        "      <td>5228.1</td>\n",
        "      <td>999.0</td>\n",
        "      <td>0</td>\n",
        "      <td>no</td>\n",
        "      <td>NaN</td>\n",
        "      <td>1376</td>\n",
        "    </tr>\n",
        "    <tr>\n",
        "      <th>2418</th>\n",
        "      <td>30.0</td>\n",
        "      <td>management</td>\n",
        "      <td>married</td>\n",
        "      <td>university.degree</td>\n",
        "      <td>no</td>\n",
        "      <td>no</td>\n",
        "      <td>no</td>\n",
        "      <td>cellular</td>\n",
        "      <td>may</td>\n",
        "      <td>fri</td>\n",
        "      <td>...</td>\n",
        "      <td>-1.8</td>\n",
        "      <td>92.893</td>\n",
        "      <td>-46.2</td>\n",
        "      <td>1.250</td>\n",
        "      <td>5099.1</td>\n",
        "      <td>999.0</td>\n",
        "      <td>4</td>\n",
        "      <td>no</td>\n",
        "      <td>NaN</td>\n",
        "      <td>2419</td>\n",
        "    </tr>\n",
        "  </tbody>\n",
        "</table>\n",
        "<p>5 rows \u00d7 24 columns</p>\n",
        "</div>"
       ],
       "metadata": {},
       "output_type": "pyout",
       "prompt_number": 13,
       "text": [
        "      custAge   profession   marital          schooling  default housing loan  \\\n",
        "6054      NaN       admin.    single  university.degree       no     yes   no   \n",
        "6915      NaN       admin.  divorced  university.degree  unknown      no  yes   \n",
        "4709     25.0  blue-collar    single           basic.6y       no     yes   no   \n",
        "1375     43.0  blue-collar   married           basic.6y       no      no   no   \n",
        "2418     30.0   management   married  university.degree       no      no   no   \n",
        "\n",
        "        contact month day_of_week  ...   emp.var.rate  cons.price.idx  \\\n",
        "6054  telephone   oct         fri  ...           -3.4          92.431   \n",
        "6915   cellular   nov         fri  ...           -0.1          93.200   \n",
        "4709   cellular   may         fri  ...           -1.8          92.893   \n",
        "1375  telephone   jun         wed  ...            1.4          94.465   \n",
        "2418   cellular   may         fri  ...           -1.8          92.893   \n",
        "\n",
        "      cons.conf.idx euribor3m  nr.employed  pmonths  pastEmail  responded  \\\n",
        "6054          -26.9     0.720       5017.5    999.0          0         no   \n",
        "6915          -42.0     4.021       5195.8    999.0          0         no   \n",
        "4709          -46.2     1.250       5099.1    999.0          0         no   \n",
        "1375          -41.8     4.962       5228.1    999.0          0         no   \n",
        "2418          -46.2     1.250       5099.1    999.0          4         no   \n",
        "\n",
        "      profit    id  \n",
        "6054     NaN  6055  \n",
        "6915     NaN  6916  \n",
        "4709     NaN  4710  \n",
        "1375     NaN  1376  \n",
        "2418     NaN  2419  \n",
        "\n",
        "[5 rows x 24 columns]"
       ]
      }
     ],
     "prompt_number": 13
    },
    {
     "cell_type": "markdown",
     "metadata": {},
     "source": [
      "## First Model\n",
      "\n",
      "Let's try only marketing based on a single categorical indicator."
     ]
    },
    {
     "cell_type": "code",
     "collapsed": false,
     "input": [
      "train_positive = collections.defaultdict(set)\n",
      "for cat in cats:\n",
      "    for label, frame in training.groupby(cat):\n",
      "        total, avg = expectedReturn(frame)\n",
      "        if total > 0.0:\n",
      "            train_positive[cat].add(label)\n",
      "for cat, labels in train_positive.iteritems():\n",
      "    print(cat, \" labels: \", \", \".join(labels))"
     ],
     "language": "python",
     "metadata": {},
     "outputs": [
      {
       "output_type": "stream",
       "stream": "stdout",
       "text": [
        "poutcome  labels:  success\n",
        "month  labels:  apr, dec, oct, mar, sep\n",
        "profession  labels:  unemployed, retired, student\n",
        "schooling  labels:  unknown\n",
        "marital  labels:  unknown\n"
       ]
      }
     ],
     "prompt_number": 14
    },
    {
     "cell_type": "markdown",
     "metadata": {},
     "source": [
      "And lets apply that to our test data set, so we can see how we did:"
     ]
    },
    {
     "cell_type": "code",
     "collapsed": false,
     "input": [
      "mask = pd.Series([False] * len(test))\n",
      "mask.index = test.index.copy()\n",
      "for category, labels in train_positive.iteritems():\n",
      "    for label in labels:\n",
      "        mask |= (test[category] == label)\n",
      "expectedReturn(test[mask])"
     ],
     "language": "python",
     "metadata": {},
     "outputs": [
      {
       "metadata": {},
       "output_type": "pyout",
       "prompt_number": 15,
       "text": [
        "(27683.0, 24.739052725647898)"
       ]
      }
     ],
     "prompt_number": 15
    },
    {
     "cell_type": "markdown",
     "metadata": {},
     "source": [
      "That doesn't seem too bad - on average, around \\$25 of profit per marketing, and that is *after* accounting for the \\$30 marketing cost itself. \n",
      "\n",
      "*NB* re-running the creation of training/test data provides different results each time, and seeding the random number generator with `pd.np.random.seed(1)` didn't seem to help.\n",
      "\n",
      "Can we do better with something more specific?"
     ]
    },
    {
     "cell_type": "markdown",
     "metadata": {},
     "source": [
      "###Model 2\n",
      "\n",
      "Market to people who have any 2 categorical labels, the combination of which suggests a positive outcome.\n",
      "\n",
      "I could easily extend the code to have more labels (up to the number of categorical columns we have), but that would very likely result in overfitting, with most multi-labels having few or no people to report on.\n",
      "\n",
      "What I would've ultimately liked to have done was a Decision Tree, but I found myself struggling with the `sklearn` syntax/data format and didn't want to spend too long on something that should've been quick and easy.\n",
      "\n",
      "Next, we need to find all positive pairings"
     ]
    },
    {
     "cell_type": "code",
     "collapsed": false,
     "input": [
      "Pair = collections.namedtuple(\"Pair\", (\"cat1\", \"cat2\", \"label1\", \"label2\"))\n",
      "pairs = []\n",
      "## same groupby as above\n",
      "for subcats in itertools.combinations(cats, 2):\n",
      "    for label, frame in training.groupby(subcats):\n",
      "        total, avg = expectedReturn(frame)\n",
      "        ## only save positives\n",
      "        if total > 0.0:\n",
      "            pairs.append(Pair(subcats[0], subcats[1], label[0], label[1]))\n",
      "print(len(pairs))"
     ],
     "language": "python",
     "metadata": {},
     "outputs": [
      {
       "output_type": "stream",
       "stream": "stdout",
       "text": [
        "246\n"
       ]
      }
     ],
     "prompt_number": 16
    },
    {
     "cell_type": "markdown",
     "metadata": {},
     "source": [
      "Let's apply this model and see how we did:"
     ]
    },
    {
     "cell_type": "code",
     "collapsed": false,
     "input": [
      "mask = pd.Series([False] * len(test))\n",
      "mask.index = test.index.copy()\n",
      "for pair in pairs:\n",
      "    mask |= ((test[pair.cat1] == pair.label1) & (test[pair.cat2] == pair.label2))\n",
      "expectedReturn(test[mask])"
     ],
     "language": "python",
     "metadata": {},
     "outputs": [
      {
       "metadata": {},
       "output_type": "pyout",
       "prompt_number": 17,
       "text": [
        "(19744.0, 11.38638985005767)"
       ]
      }
     ],
     "prompt_number": 17
    },
    {
     "cell_type": "markdown",
     "metadata": {},
     "source": [
      "Well, this is substantially worse than marketing only based on a single indicator - in my runs, it's ranged from `-5` to `15`. Part of the issue, no doubt, is that there are just too many pair-wise comparisons that end up suggesting positive within our training set, so we include more people for marketing. This implies that using *all* pairwise positives is too broad a model."
     ]
    },
    {
     "cell_type": "markdown",
     "metadata": {},
     "source": [
      "# Known Shortcomings\n",
      "\n",
      "  - I've only looked at categorical variables. This ignored a large portion of the available information\n",
      "\n",
      "  - What I would have done, at least as a first pass, would have included: considering ways to make some of the `float` columns into discrete values, to include them in the above-mentioned classifier model. For example, breaking `custAge` into labels such as `18-25`, `25-35`, etc.\n",
      "\n",
      "  - Another way to approach that could have been with `logistic regression`, leaving the numerical (`int` and `float`) columns as-is, and seeing if any trends emerged.\n",
      "\n",
      "  - There aren't any graphs or visualizations. Even before running any `logistic regression`, it would have been helpful to just scatterplot some of the independent variables, against `responded`, to get a sense of what the distributions look like.\n",
      "  - A helpful presentation tool would have been a simple bar chart showing the expected returns from marketing to people in different categories/labels. I wouldn't include all the labels for a given category; it would probably be effective to show, e.g. `students` and `retired` contrasted with `blue-collar` and `technician`. "
     ]
    }
   ],
   "metadata": {}
  }
 ]
}